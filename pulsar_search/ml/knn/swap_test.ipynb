{
 "cells": [
  {
   "cell_type": "code",
   "execution_count": 2,
   "id": "3f91e57d",
   "metadata": {},
   "outputs": [],
   "source": [
    "import numpy as np\n",
    "from qiskit import QuantumCircuit, transpile\n",
    "from qiskit.providers.aer import QasmSimulator\n",
    "from qiskit.visualization import plot_histogram"
   ]
  },
  {
   "cell_type": "markdown",
   "id": "56dfef5e",
   "metadata": {},
   "source": [
    "# SWAP Test\n",
    "\n",
    "The Swap Test is a small circuit that allows to compute the fidelity between two quantum states. It uses a control qbit and 2 registers that encodes the quatum states $|\\phi\\rangle$ and $|\\psi\\rangle$ that we want to compare.\n",
    "\n",
    "At the start of the circuit the ssytem is in the state \n",
    "\n",
    "$$|0\\phi\\psi\\rangle$$. \n",
    "\n",
    "We then apply a H gate on the first qbit leading to \n",
    "\n",
    "$$\\frac{1}{\\sqrt{2}} (|0\\phi\\psi\\rangle + |1\\phi\\psi\\rangle )$$\n",
    "\n",
    "We then apply a comtrolled swap gate :\n",
    "\n",
    "$$\\frac{1}{\\sqrt{2}} (|0\\phi\\psi\\rangle + |1\\psi\\phi\\rangle )$$\n",
    "\n",
    "and another H gate on the first qbit \n",
    "\n",
    "$$\\frac{1}{2} (|0\\phi\\psi\\rangle + |1\\phi\\psi\\rangle + |0\\psi\\phi\\rangle - |1\\psi\\phi\\rangle )$$\n",
    "\n",
    "By rearraging all that we have\n",
    "\n",
    "$$\\frac{1}{2} |0\\rangle (|\\phi\\psi\\rangle + |\\psi\\phi\\rangle) +\\frac{1}{2} |1\\rangle(\\phi\\psi\\rangle - |\\psi\\phi\\rangle)$$\n",
    "\n",
    "The probablity to measure the control qbit in state 0 is then given by :\n",
    "\n",
    "$$P(0) = \\frac{1}{2}(\\langle\\phi\\psi| + \\langle\\psi\\phi|) \\frac{1}{2}( |\\phi\\psi\\rangle + |\\psi\\phi\\rangle) = \\frac{1}{2}(1+|\\langle\\psi|\\phi\\rangle|^2)$$\n",
    "\n",
    "and the probability to measure 1 on the control qbit is :\n",
    "\n",
    "\n",
    "$$P(1) = \\frac{1}{2}(\\langle\\phi\\psi| - \\langle\\psi\\phi|) \\frac{1}{2}( |\\phi\\psi\\rangle - |\\psi\\phi\\rangle) = \\frac{1}{2}(1-|\\langle\\psi|\\phi\\rangle|^2)$$"
   ]
  },
  {
   "cell_type": "code",
   "execution_count": 3,
   "id": "993fa9da",
   "metadata": {},
   "outputs": [],
   "source": [
    "# Use Aer's qasm_simulator\n",
    "simulator = QasmSimulator()"
   ]
  },
  {
   "cell_type": "code",
   "execution_count": 25,
   "id": "d3afeffd",
   "metadata": {},
   "outputs": [
    {
     "name": "stdout",
     "output_type": "stream",
     "text": [
      "\n",
      "Total count for 0 and 1 are: {'1': 506, '0': 494}\n"
     ]
    },
    {
     "data": {
      "image/png": "[encoded data removed]",
      "text/plain": [
       "<Figure size 327.397x264.88 with 1 Axes>"
      ]
     },
     "execution_count": 25,
     "metadata": {},
     "output_type": "execute_result"
    }
   ],
   "source": [
    "# Create a Quantum Circuit acting on the q register\n",
    "circuit = QuantumCircuit(3, 1)\n",
    "\n",
    "# rotate the first qubit\n",
    "circuit.rx(0,1)\n",
    "\n",
    "# rotate the first qubit\n",
    "circuit.ry(np.pi,2)\n",
    "\n",
    "# add a H gate on qubit 0\n",
    "circuit.h(0)\n",
    "\n",
    "# Add a Control swap gate\n",
    "circuit.cswap(0,1,2)\n",
    "\n",
    "# add the final H gate\n",
    "circuit.h(0)\n",
    "\n",
    "# Map the quantum measurement to the classical bits\n",
    "circuit.measure(0,0)\n",
    "\n",
    "# compile the circuit down to low-level QASM instructions\n",
    "# supported by the backend (not needed for simple circuits)\n",
    "compiled_circuit = transpile(circuit, simulator)\n",
    "\n",
    "# Execute the circuit on the qasm simulator\n",
    "job = simulator.run(compiled_circuit, shots=1000)\n",
    "\n",
    "# Grab results from the job\n",
    "result = job.result()\n",
    "\n",
    "# Returns counts\n",
    "counts = result.get_counts(compiled_circuit)\n",
    "print(\"\\nTotal count for 0 and 1 are:\",counts)\n",
    "\n",
    "# Draw the circuit\n",
    "circuit.draw(output='mpl')"
   ]
  },
  {
   "cell_type": "code",
   "execution_count": 26,
   "id": "ba989a05",
   "metadata": {},
   "outputs": [
    {
     "data": {
      "image/png": "[encoded data removed]",
      "text/plain": [
       "<Figure size 504x360 with 1 Axes>"
      ]
     },
     "execution_count": 26,
     "metadata": {},
     "output_type": "execute_result"
    }
   ],
   "source": [
    "plot_histogram(counts)"
   ]
  },
  {
   "cell_type": "code",
   "execution_count": null,
   "id": "53f31a5d",
   "metadata": {},
   "outputs": [],
   "source": []
  }
 ],
 "metadata": {
  "kernelspec": {
   "display_name": "Python 3",
   "language": "python",
   "name": "python3"
  },
  "language_info": {
   "codemirror_mode": {
    "name": "ipython",
    "version": 3
   },
   "file_extension": ".py",
   "mimetype": "text/x-python",
   "name": "python",
   "nbconvert_exporter": "python",
   "pygments_lexer": "ipython3",
   "version": "3.8.0"
  }
 },
 "nbformat": 4,
 "nbformat_minor": 5
}
