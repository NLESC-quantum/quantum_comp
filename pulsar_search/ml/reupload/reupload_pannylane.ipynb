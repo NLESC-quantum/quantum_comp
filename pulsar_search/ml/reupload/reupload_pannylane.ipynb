{
 "cells": [
  {
   "cell_type": "code",
   "execution_count": 1,
   "metadata": {},
   "outputs": [],
   "source": [
    "# This cell is added by sphinx-gallery\n",
    "# It can be customized to whatever you like\n",
    "%matplotlib inline\n",
    "\n",
    "import pennylane as qml\n",
    "from pennylane import numpy as np\n",
    "from pennylane.optimize import AdamOptimizer, GradientDescentOptimizer\n",
    "\n",
    "import matplotlib.pyplot as plt"
   ]
  },
  {
   "cell_type": "markdown",
   "metadata": {},
   "source": [
    "Data-reuploading classifier\n",
    "===========================\n",
    "\n",
    "*Author: Shahnawaz Ahmed (<shahnawaz.ahmed95@gmail.com>). Last updated:\n",
    "19 Jan 2021.*\n",
    "\n",
    "A single-qubit quantum circuit which can implement arbitrary unitary\n",
    "operations can be used as a universal classifier much like a single\n",
    "hidden-layered Neural Network. As surprising as it sounds,\n",
    "[Pérez-Salinas et al. (2019)](https://arxiv.org/abs/1907.02085) discuss\n",
    "this with their idea of 'data reuploading'. It is possible to load a\n",
    "single qubit with arbitrary dimensional data and then use it as a\n",
    "universal classifier.\n"
   ]
  },
  {
   "cell_type": "code",
   "execution_count": 25,
   "metadata": {},
   "outputs": [
    {
     "data": {
      "text/plain": [
       "<matplotlib.collections.PathCollection at 0x7f04933cad90>"
      ]
     },
     "execution_count": 25,
     "metadata": {},
     "output_type": "execute_result"
    },
    {
     "data": {
      "image/png": "[encoded data removed]",
      "text/plain": [
       "<Figure size 432x288 with 1 Axes>"
      ]
     },
     "metadata": {
      "needs_background": "light"
     },
     "output_type": "display_data"
    }
   ],
   "source": [
    "from dataset import read_dataset, divide_dataset, balance_dataset\n",
    "\n",
    "# read the data\n",
    "dataset = read_dataset()\n",
    "\n",
    "# extract a balances subset containing a limited number of points\n",
    "npts = 100\n",
    "dataset = balance_dataset(dataset, npts)\n",
    "\n",
    "# only consider a subset of the features\n",
    "features = [0,1,2]\n",
    "nfeatures = len(features)\n",
    "dataset.features = dataset.features[:,features]\n",
    "\n",
    "# normalize the data between 0 and 2pi\n",
    "dataset.features -= dataset.features.min(0)\n",
    "dataset.features /= dataset.features.max(0)\n",
    "dataset.features *= 1\n",
    "\n",
    "# make int labels\n",
    "dataset.labels = np.array(dataset.labels.astype(int), requires_grad=False)\n",
    "\n",
    "dataset.features = np.array(dataset.features, requires_grad=False)\n",
    "\n",
    "# divide the dataset in train/test\n",
    "train_dataset, test_dataset = divide_dataset(dataset, shuffle=False)\n",
    "\n",
    "# label\n",
    "label_0 = [[1], [0]]\n",
    "label_1 = [[0], [1]]\n",
    "state_labels = np.array([label_0, label_1], requires_grad=False)\n",
    "\n",
    "# plot the data\n",
    "plt.scatter(train_dataset.features[:,0],train_dataset.features[:,1],c=train_dataset.labels,alpha=0.5,s=2)\n",
    "plt.scatter(test_dataset.features[:,0],test_dataset.features[:,1],c=test_dataset.labels)"
   ]
  },
  {
   "cell_type": "markdown",
   "metadata": {},
   "source": [
    "Simple classifier with data reloading and fidelity loss\n",
    "=======================================================\n"
   ]
  },
  {
   "cell_type": "code",
   "execution_count": 26,
   "metadata": {},
   "outputs": [],
   "source": [
    "dev = qml.device(\"default.qubit\", wires=1)\n",
    "# Install any pennylane-plugin to run on some particular backend\n",
    "\n",
    "\n",
    "@qml.qnode(dev)\n",
    "def qcircuit(params, x, y):\n",
    "    \"\"\"A variational quantum circuit representing the Universal classifier.\n",
    "\n",
    "    Args:\n",
    "        params (array[float]): array of parameters\n",
    "        x (array[float]): single input vector\n",
    "        y (array[float]): single output state density matrix\n",
    "\n",
    "    Returns:\n",
    "        float: fidelity between output state and input\n",
    "    \"\"\"\n",
    "    for p in params:\n",
    "        qml.Rot(*x, wires=0)\n",
    "        qml.Rot(*p, wires=0)\n",
    "    return qml.expval(qml.Hermitian(y, wires=[0]))\n",
    "\n",
    "\n",
    "def cost(params, x, y, state_labels=None):\n",
    "    \"\"\"Cost function to be minimized.\n",
    "\n",
    "    Args:\n",
    "        params (array[float]): array of parameters\n",
    "        x (array[float]): 2-d array of input vectors\n",
    "        y (array[float]): 1-d array of targets\n",
    "        state_labels (array[float]): array of state representations for labels\n",
    "\n",
    "    Returns:\n",
    "        float: loss value to be minimized\n",
    "    \"\"\"\n",
    "    # Compute prediction for each input in data batch\n",
    "    loss = 0.0\n",
    "    dm_labels = [density_matrix(s) for s in state_labels]\n",
    "    for i in range(len(x)):\n",
    "        f = qcircuit(params, x[i], dm_labels[y[i]])\n",
    "        loss = loss + (1 - f) ** 2\n",
    "    return loss / len(x)"
   ]
  },
  {
   "cell_type": "markdown",
   "metadata": {},
   "source": [
    "Utility functions for testing and creating batches\n",
    "==================================================\n"
   ]
  },
  {
   "cell_type": "code",
   "execution_count": 27,
   "metadata": {},
   "outputs": [],
   "source": [
    "def test(params, x, y, state_labels=None):\n",
    "    \"\"\"\n",
    "    Tests on a given set of data.\n",
    "\n",
    "    Args:\n",
    "        params (array[float]): array of parameters\n",
    "        x (array[float]): 2-d array of input vectors\n",
    "        y (array[float]): 1-d array of targets\n",
    "        state_labels (array[float]): 1-d array of state representations for labels\n",
    "\n",
    "    Returns:\n",
    "        predicted (array([int]): predicted labels for test data\n",
    "        output_states (array[float]): output quantum states from the circuit\n",
    "    \"\"\"\n",
    "    fidelity_values = []\n",
    "    dm_labels = [density_matrix(s) for s in state_labels]\n",
    "    predicted = []\n",
    "\n",
    "    for i in range(len(x)):\n",
    "        fidel_function = lambda y: qcircuit(params, x[i], y)\n",
    "        fidelities = [fidel_function(dm) for dm in dm_labels]\n",
    "        best_fidel = np.argmax(fidelities)\n",
    "\n",
    "        predicted.append(best_fidel)\n",
    "        fidelity_values.append(fidelities)\n",
    "\n",
    "    return np.array(predicted), np.array(fidelity_values)\n",
    "\n",
    "\n",
    "def accuracy_score(y_true, y_pred):\n",
    "    \"\"\"Accuracy score.\n",
    "\n",
    "    Args:\n",
    "        y_true (array[float]): 1-d array of targets\n",
    "        y_predicted (array[float]): 1-d array of predictions\n",
    "        state_labels (array[float]): 1-d array of state representations for labels\n",
    "\n",
    "    Returns:\n",
    "        score (float): the fraction of correctly classified samples\n",
    "    \"\"\"\n",
    "    score = y_true == y_pred\n",
    "    return score.sum() / len(y_true)\n",
    "\n",
    "\n",
    "def iterate_minibatches(inputs, targets, batch_size):\n",
    "    \"\"\"\n",
    "    A generator for batches of the input data\n",
    "\n",
    "    Args:\n",
    "        inputs (array[float]): input data\n",
    "        targets (array[float]): targets\n",
    "\n",
    "    Returns:\n",
    "        inputs (array[float]): one batch of input data of length `batch_size`\n",
    "        targets (array[float]): one batch of targets of length `batch_size`\n",
    "    \"\"\"\n",
    "    for start_idx in range(0, inputs.shape[0] - batch_size + 1, batch_size):\n",
    "        idxs = slice(start_idx, start_idx + batch_size)\n",
    "        yield inputs[idxs], targets[idxs]\n",
    "        \n",
    "# Define output labels as quantum state vectors\n",
    "def density_matrix(state):\n",
    "    \"\"\"Calculates the density matrix representation of a state.\n",
    "\n",
    "    Args:\n",
    "        state (array[complex]): array representing a quantum state vector\n",
    "\n",
    "    Returns:\n",
    "        dm: (array[complex]): array representing the density matrix\n",
    "    \"\"\"\n",
    "    return state * np.conj(state).T"
   ]
  },
  {
   "cell_type": "markdown",
   "metadata": {},
   "source": [
    "Train a quantum classifier on the circle dataset\n",
    "================================================\n"
   ]
  },
  {
   "cell_type": "code",
   "execution_count": 28,
   "metadata": {},
   "outputs": [
    {
     "name": "stdout",
     "output_type": "stream",
     "text": [
      " 0: ──Rot(0.948, 0.903, 0.0294)──Rot(0.287, 0.436, 0.913)──Rot(0.948, 0.903, 0.0294)──Rot(0.186, 0.182, 0.321)──Rot(0.948, 0.903, 0.0294)──Rot(0.291, 0.25, 0.685)──┤ ⟨H0⟩ \n",
      "H0 =\n",
      "0\n",
      "\n"
     ]
    }
   ],
   "source": [
    "# Generate training and test data\n",
    "# X_train = np.hstack((train_dataset.features, np.zeros((train_dataset.features.shape[0], 1), requires_grad=False)))\n",
    "X_train = np.array(train_dataset.features, requires_grad=False)\n",
    "y_train = train_dataset.labels\n",
    "\n",
    "\n",
    "# X_test = np.hstack((test_dataset.features, np.zeros((test_dataset.features.shape[0], 1), requires_grad=False)))\n",
    "X_test = np.array(test_dataset.features, requires_grad=False)\n",
    "y_test = test_dataset.labels\n",
    "\n",
    "# Train using Adam optimizer and evaluate the classifier\n",
    "num_layers = 3\n",
    "learning_rate = 0.6\n",
    "epochs = 10\n",
    "batch_size = 32\n",
    "\n",
    "opt = AdamOptimizer(learning_rate, beta1=0.9, beta2=0.999)\n",
    "\n",
    "# initialize random weights\n",
    "params = np.random.uniform(size=(num_layers, 3), requires_grad=True)\n",
    "\n",
    "print(qml.draw(qcircuit)(params, X_train[0], y_train[0]))\n",
    "\n"
   ]
  },
  {
   "cell_type": "code",
   "execution_count": 29,
   "metadata": {},
   "outputs": [
    {
     "name": "stdout",
     "output_type": "stream",
     "text": [
      "Epoch:  0 | Cost: 0.471166 | Train accuracy: 0.500000 | Test Accuracy: 0.500000\n",
      "Epoch:  1 | Loss: 0.240031 | Train accuracy: 0.537500 | Test accuracy: 0.500000\n",
      "Epoch:  2 | Loss: 0.320815 | Train accuracy: 0.500000 | Test accuracy: 0.500000\n",
      "Epoch:  3 | Loss: 0.290683 | Train accuracy: 0.500000 | Test accuracy: 0.500000\n",
      "Epoch:  4 | Loss: 0.199681 | Train accuracy: 0.662500 | Test accuracy: 0.700000\n",
      "Epoch:  5 | Loss: 0.185363 | Train accuracy: 0.800000 | Test accuracy: 0.950000\n",
      "Epoch:  6 | Loss: 0.182934 | Train accuracy: 0.762500 | Test accuracy: 0.950000\n",
      "Epoch:  7 | Loss: 0.162662 | Train accuracy: 0.750000 | Test accuracy: 0.950000\n",
      "Epoch:  8 | Loss: 0.183974 | Train accuracy: 0.775000 | Test accuracy: 0.750000\n",
      "Epoch:  9 | Loss: 0.184057 | Train accuracy: 0.762500 | Test accuracy: 0.800000\n",
      "Epoch: 10 | Loss: 0.169357 | Train accuracy: 0.712500 | Test accuracy: 0.950000\n"
     ]
    }
   ],
   "source": [
    "# Train using Adam optimizer and evaluate the classifier\n",
    "num_layers = 3\n",
    "learning_rate = 0.6\n",
    "epochs = 10\n",
    "batch_size = 32\n",
    "\n",
    "opt = AdamOptimizer(learning_rate, beta1=0.9, beta2=0.999)\n",
    "\n",
    "# initialize random weights\n",
    "params = np.random.uniform(size=(num_layers, 3), requires_grad=True)\n",
    "\n",
    "predicted_train, fidel_train = test(params, X_train, y_train, state_labels)\n",
    "accuracy_train = accuracy_score(y_train, predicted_train)\n",
    "\n",
    "predicted_test, fidel_test = test(params, X_test, y_test, state_labels)\n",
    "accuracy_test = accuracy_score(y_test, predicted_test)\n",
    "\n",
    "# save predictions with random weights for comparison\n",
    "initial_predictions = predicted_test\n",
    "\n",
    "loss = cost(params, X_test, y_test, state_labels)\n",
    "\n",
    "print(\n",
    "    \"Epoch: {:2d} | Cost: {:3f} | Train accuracy: {:3f} | Test Accuracy: {:3f}\".format(\n",
    "        0, loss, accuracy_train, accuracy_test\n",
    "    )\n",
    ")\n",
    "\n",
    "for it in range(epochs):\n",
    "    for Xbatch, ybatch in iterate_minibatches(X_train, y_train, batch_size=batch_size):\n",
    "        params, _, _, _ = opt.step(cost, params, Xbatch, ybatch, state_labels)\n",
    "\n",
    "    predicted_train, fidel_train = test(params, X_train, y_train, state_labels)\n",
    "    accuracy_train = accuracy_score(y_train, predicted_train)\n",
    "    loss = cost(params, X_train, y_train, state_labels)\n",
    "\n",
    "    predicted_test, fidel_test = test(params, X_test, y_test, state_labels)\n",
    "    accuracy_test = accuracy_score(y_test, predicted_test)\n",
    "    res = [it + 1, loss, accuracy_train, accuracy_test]\n",
    "    print(\n",
    "        \"Epoch: {:2d} | Loss: {:3f} | Train accuracy: {:3f} | Test accuracy: {:3f}\".format(\n",
    "            *res\n",
    "        )\n",
    "    )"
   ]
  },
  {
   "cell_type": "markdown",
   "metadata": {},
   "source": [
    "Results\n",
    "=======\n"
   ]
  },
  {
   "cell_type": "code",
   "execution_count": 31,
   "metadata": {},
   "outputs": [
    {
     "name": "stdout",
     "output_type": "stream",
     "text": [
      "Cost: 0.169357 | Train accuracy 0.712500 | Test Accuracy : 0.950000\n",
      "Learned weights\n",
      "Layer 0: [ 0.18259132 -1.11096702  0.86183253]\n",
      "Layer 1: [0.76377689 2.51429115 0.88799738]\n",
      "Layer 2: [0.28750166 1.19633581 0.0344055 ]\n"
     ]
    },
    {
     "data": {
      "image/png": "[encoded data removed]",
      "text/plain": [
       "<Figure size 720x216 with 3 Axes>"
      ]
     },
     "metadata": {
      "needs_background": "light"
     },
     "output_type": "display_data"
    }
   ],
   "source": [
    "print(\n",
    "    \"Cost: {:3f} | Train accuracy {:3f} | Test Accuracy : {:3f}\".format(\n",
    "        loss, accuracy_train, accuracy_test\n",
    "    )\n",
    ")\n",
    "\n",
    "print(\"Learned weights\")\n",
    "for i in range(num_layers):\n",
    "    print(\"Layer {}: {}\".format(i, params[i]))\n",
    "\n",
    "    \n",
    "def plot_data(x, y, fig=None, ax=None):\n",
    "    \"\"\"\n",
    "    Plot data with red/blue values for a binary classification.\n",
    "\n",
    "    Args:\n",
    "        x (array[tuple]): array of data points as tuples\n",
    "        y (array[int]): array of data points as tuples\n",
    "    \"\"\"\n",
    "    if fig == None:\n",
    "        fig, ax = plt.subplots(1, 1, figsize=(5, 5))\n",
    "    reds = y == 0\n",
    "    blues = y == 1\n",
    "    ax.scatter(x[reds, 0], x[reds, 1], c=\"red\", s=20, edgecolor=\"k\")\n",
    "    ax.scatter(x[blues, 0], x[blues, 1], c=\"blue\", s=20, edgecolor=\"k\")\n",
    "    ax.set_xlabel(\"$x_1$\")\n",
    "    ax.set_ylabel(\"$x_2$\")\n",
    "    \n",
    "\n",
    "fig, axes = plt.subplots(1, 3, figsize=(10, 3))\n",
    "plot_data(X_test, initial_predictions, fig, axes[0])\n",
    "plot_data(X_test, predicted_test, fig, axes[1])\n",
    "plot_data(X_test, y_test, fig, axes[2])\n",
    "axes[0].set_title(\"Predictions with random weights\")\n",
    "axes[1].set_title(\"Predictions after training\")\n",
    "axes[2].set_title(\"True test data\")\n",
    "plt.tight_layout()\n",
    "plt.show()"
   ]
  },
  {
   "cell_type": "markdown",
   "metadata": {},
   "source": [
    "References\n",
    "==========\n",
    "\n",
    "\\[1\\] Pérez-Salinas, Adrián, et al. \"Data re-uploading for a universal\n",
    "quantum classifier.\" arXiv preprint arXiv:1907.02085 (2019).\n",
    "\n",
    "\\[2\\] Kingma, Diederik P., and Ba, J. \"Adam: A method for stochastic\n",
    "optimization.\" arXiv preprint arXiv:1412.6980 (2014).\n",
    "\n",
    "\\[3\\] Liu, Dong C., and Nocedal, J. \"On the limited memory BFGS method\n",
    "for large scale optimization.\" Mathematical programming 45.1-3 (1989):\n",
    "503-528.\n"
   ]
  }
 ],
 "metadata": {
  "kernelspec": {
   "display_name": "Python 3",
   "language": "python",
   "name": "python3"
  },
  "language_info": {
   "codemirror_mode": {
    "name": "ipython",
    "version": 3
   },
   "file_extension": ".py",
   "mimetype": "text/x-python",
   "name": "python",
   "nbconvert_exporter": "python",
   "pygments_lexer": "ipython3",
   "version": "3.8.0"
  }
 },
 "nbformat": 4,
 "nbformat_minor": 1
}
