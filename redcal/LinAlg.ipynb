{
 "cells": [
  {
   "cell_type": "code",
   "execution_count": 2,
   "id": "e28e765f-9142-47fb-8bdd-d02af0b6e1e8",
   "metadata": {},
   "outputs": [],
   "source": [
    "import numpy as np\n",
    "import numpy.linalg as la\n",
    "np.set_printoptions(edgeitems=10,linewidth=180)"
   ]
  },
  {
   "cell_type": "code",
   "execution_count": 3,
   "id": "5daee681-2f6a-4ea6-b2d9-09195e49358c",
   "metadata": {},
   "outputs": [],
   "source": [
    "A = np.random.normal(size=(5, 3))"
   ]
  },
  {
   "cell_type": "code",
   "execution_count": 4,
   "id": "94a29179-8934-40e2-a86a-0a292ea8ced7",
   "metadata": {},
   "outputs": [],
   "source": [
    "b = np.random.normal(size=(3, 1))"
   ]
  },
  {
   "cell_type": "code",
   "execution_count": 5,
   "id": "d9b03ab0-f3e8-4c79-9610-ada9acc2a4b4",
   "metadata": {},
   "outputs": [],
   "source": [
    "x = A @ b"
   ]
  },
  {
   "cell_type": "code",
   "execution_count": 6,
   "id": "2bb06b2c-b621-4323-a5a1-f27effb87759",
   "metadata": {},
   "outputs": [],
   "source": [
    "y = x + np.random.normal(size=(5, 1)) * 0.1"
   ]
  },
  {
   "cell_type": "code",
   "execution_count": 7,
   "id": "e8d3802a-4687-455c-b688-44e4123c0dfa",
   "metadata": {},
   "outputs": [
    {
     "data": {
      "text/plain": [
       "array([[-0.67505608],\n",
       "       [-2.86043278],\n",
       "       [-0.71143959]])"
      ]
     },
     "execution_count": 7,
     "metadata": {},
     "output_type": "execute_result"
    }
   ],
   "source": [
    "la.solve(A.T @ A, A.T @ y)"
   ]
  },
  {
   "cell_type": "code",
   "execution_count": 8,
   "id": "35fcef5b-f86f-4a55-b96c-7799f10f9ded",
   "metadata": {},
   "outputs": [
    {
     "data": {
      "text/plain": [
       "array([[-0.25598533,  0.03824366, -0.06819445,  0.07011201,  0.18594547],\n",
       "       [ 0.04935921,  0.34310073,  0.16015002,  0.32968007, -0.16893236],\n",
       "       [-0.14501155, -0.12274237, -0.3559236 , -0.32723973,  0.00540127]])"
      ]
     },
     "execution_count": 8,
     "metadata": {},
     "output_type": "execute_result"
    }
   ],
   "source": [
    "(A @ la.inv(A.T @ A)).T"
   ]
  },
  {
   "cell_type": "code",
   "execution_count": 9,
   "id": "2546696c-0a46-4bde-8e2d-f1f380da0798",
   "metadata": {},
   "outputs": [
    {
     "data": {
      "text/plain": [
       "array([[-0.25598533,  0.03824366, -0.06819445,  0.07011201,  0.18594547],\n",
       "       [ 0.04935921,  0.34310073,  0.16015002,  0.32968007, -0.16893236],\n",
       "       [-0.14501155, -0.12274237, -0.3559236 , -0.32723973,  0.00540127]])"
      ]
     },
     "execution_count": 9,
     "metadata": {},
     "output_type": "execute_result"
    }
   ],
   "source": [
    "la.pinv(A)"
   ]
  },
  {
   "cell_type": "code",
   "execution_count": 17,
   "id": "93071d50-6c52-46d1-b83e-6887b963cf29",
   "metadata": {},
   "outputs": [],
   "source": [
    "def hermitize(A):\n",
    "    n, p = A.shape\n",
    "    As = np.zeros(shape=(n+p, n+p))\n",
    "    As[:n,n:] = A\n",
    "    As[n:,:n] = A.T\n",
    "    return As"
   ]
  },
  {
   "cell_type": "code",
   "execution_count": 16,
   "id": "2ba2b68b-0cea-4cf3-b5d2-83759f96f287",
   "metadata": {},
   "outputs": [
    {
     "data": {
      "text/plain": [
       "array([[ 0.        ,  0.        ,  0.        ,  0.        ,  0.        , -0.25598533,  0.04935921, -0.14501155],\n",
       "       [ 0.        ,  0.        ,  0.        ,  0.        ,  0.        ,  0.03824366,  0.34310073, -0.12274237],\n",
       "       [ 0.        ,  0.        ,  0.        ,  0.        ,  0.        , -0.06819445,  0.16015002, -0.3559236 ],\n",
       "       [ 0.        ,  0.        ,  0.        ,  0.        ,  0.        ,  0.07011201,  0.32968007, -0.32723973],\n",
       "       [ 0.        ,  0.        ,  0.        ,  0.        ,  0.        ,  0.18594547, -0.16893236,  0.00540127],\n",
       "       [-0.25598533,  0.03824366, -0.06819445,  0.07011201,  0.18594547,  0.        ,  0.        ,  0.        ],\n",
       "       [ 0.04935921,  0.34310073,  0.16015002,  0.32968007, -0.16893236,  0.        ,  0.        ,  0.        ],\n",
       "       [-0.14501155, -0.12274237, -0.3559236 , -0.32723973,  0.00540127,  0.        ,  0.        ,  0.        ]])"
      ]
     },
     "execution_count": 16,
     "metadata": {},
     "output_type": "execute_result"
    }
   ],
   "source": [
    "Api = la.pinv(As)\n",
    "np.where(np.abs(Api) < 1e-6, 0, Api)"
   ]
  },
  {
   "cell_type": "code",
   "execution_count": 19,
   "id": "1aac7d70-a30e-4d92-b220-fe266477c42a",
   "metadata": {},
   "outputs": [],
   "source": [
    "Mmag = np.array(\n",
    "    [[1, 1, 0, 0, 0, 1, 0, 0],     # baseline type 1 (4 rows)\n",
    "     [0, 1, 1, 0, 0, 1, 0, 0],\n",
    "     [0, 0, 1, 1, 0, 1, 0, 0],\n",
    "     [0, 0, 0, 1, 1, 1, 0, 0],\n",
    "     [1, 0, 1, 0, 0, 0, 1, 0],     # baseline type 2 (3 rows)\n",
    "     [0, 1, 0, 1, 0, 0, 1, 0],\n",
    "     [0, 0, 1, 0, 1, 0, 1, 0],\n",
    "     [1, 0, 0, 1, 0, 0, 0, 1],     # baseline type 3 (1 row)\n",
    "     [0, 1, 0, 0, 1, 0, 0, 1],\n",
    "     [1, 0, 0, 0, 0, 0, 0, 0]])    # magnitude constriant"
   ]
  },
  {
   "cell_type": "code",
   "execution_count": 20,
   "id": "6a956f35-93ba-4fb5-add0-627b6a4fd982",
   "metadata": {},
   "outputs": [
    {
     "data": {
      "text/plain": [
       "array([[4, 1, 1, 1, 0, 1, 1, 1],\n",
       "       [1, 4, 1, 1, 1, 2, 1, 1],\n",
       "       [1, 1, 4, 1, 1, 2, 2, 0],\n",
       "       [1, 1, 1, 4, 1, 2, 1, 1],\n",
       "       [0, 1, 1, 1, 3, 1, 1, 1],\n",
       "       [1, 2, 2, 2, 1, 4, 0, 0],\n",
       "       [1, 1, 2, 1, 1, 0, 3, 0],\n",
       "       [1, 1, 0, 1, 1, 0, 0, 2]])"
      ]
     },
     "execution_count": 20,
     "metadata": {},
     "output_type": "execute_result"
    }
   ],
   "source": [
    "Mmag.T @ Mmag"
   ]
  },
  {
   "cell_type": "code",
   "execution_count": 21,
   "id": "7fd668cf-159a-459f-a604-0d6e9488addf",
   "metadata": {},
   "outputs": [
    {
     "data": {
      "text/plain": [
       "array([[0., 0., 0., 0., 0., 0., 0., 0., 0., 0., 1., 1., 0., 0., 0., 1., 0., 0.],\n",
       "       [0., 0., 0., 0., 0., 0., 0., 0., 0., 0., 0., 1., 1., 0., 0., 1., 0., 0.],\n",
       "       [0., 0., 0., 0., 0., 0., 0., 0., 0., 0., 0., 0., 1., 1., 0., 1., 0., 0.],\n",
       "       [0., 0., 0., 0., 0., 0., 0., 0., 0., 0., 0., 0., 0., 1., 1., 1., 0., 0.],\n",
       "       [0., 0., 0., 0., 0., 0., 0., 0., 0., 0., 1., 0., 1., 0., 0., 0., 1., 0.],\n",
       "       [0., 0., 0., 0., 0., 0., 0., 0., 0., 0., 0., 1., 0., 1., 0., 0., 1., 0.],\n",
       "       [0., 0., 0., 0., 0., 0., 0., 0., 0., 0., 0., 0., 1., 0., 1., 0., 1., 0.],\n",
       "       [0., 0., 0., 0., 0., 0., 0., 0., 0., 0., 1., 0., 0., 1., 0., 0., 0., 1.],\n",
       "       [0., 0., 0., 0., 0., 0., 0., 0., 0., 0., 0., 1., 0., 0., 1., 0., 0., 1.],\n",
       "       [0., 0., 0., 0., 0., 0., 0., 0., 0., 0., 1., 0., 0., 0., 0., 0., 0., 0.],\n",
       "       [1., 0., 0., 0., 1., 0., 0., 1., 0., 1., 0., 0., 0., 0., 0., 0., 0., 0.],\n",
       "       [1., 1., 0., 0., 0., 1., 0., 0., 1., 0., 0., 0., 0., 0., 0., 0., 0., 0.],\n",
       "       [0., 1., 1., 0., 1., 0., 1., 0., 0., 0., 0., 0., 0., 0., 0., 0., 0., 0.],\n",
       "       [0., 0., 1., 1., 0., 1., 0., 1., 0., 0., 0., 0., 0., 0., 0., 0., 0., 0.],\n",
       "       [0., 0., 0., 1., 0., 0., 1., 0., 1., 0., 0., 0., 0., 0., 0., 0., 0., 0.],\n",
       "       [1., 1., 1., 1., 0., 0., 0., 0., 0., 0., 0., 0., 0., 0., 0., 0., 0., 0.],\n",
       "       [0., 0., 0., 0., 1., 1., 1., 0., 0., 0., 0., 0., 0., 0., 0., 0., 0., 0.],\n",
       "       [0., 0., 0., 0., 0., 0., 0., 1., 1., 0., 0., 0., 0., 0., 0., 0., 0., 0.]])"
      ]
     },
     "execution_count": 21,
     "metadata": {},
     "output_type": "execute_result"
    }
   ],
   "source": [
    "hermitize(Mmag)"
   ]
  },
  {
   "cell_type": "code",
   "execution_count": null,
   "id": "c7b40fb6-6f96-4181-bd19-b079544f60fe",
   "metadata": {},
   "outputs": [],
   "source": []
  }
 ],
 "metadata": {
  "kernelspec": {
   "display_name": "Python 3 (ipykernel)",
   "language": "python",
   "name": "python3"
  },
  "language_info": {
   "codemirror_mode": {
    "name": "ipython",
    "version": 3
   },
   "file_extension": ".py",
   "mimetype": "text/x-python",
   "name": "python",
   "nbconvert_exporter": "python",
   "pygments_lexer": "ipython3",
   "version": "3.10.3"
  }
 },
 "nbformat": 4,
 "nbformat_minor": 5
}
