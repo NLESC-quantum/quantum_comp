{
 "cells": [
  {
   "cell_type": "code",
   "execution_count": 31,
   "id": "e28e765f-9142-47fb-8bdd-d02af0b6e1e8",
   "metadata": {},
   "outputs": [],
   "source": [
    "import numpy as np\n",
    "import numpy.linalg as la\n",
    "np.set_printoptions(edgeitems=10,linewidth=180)"
   ]
  },
  {
   "cell_type": "code",
   "execution_count": 5,
   "id": "5daee681-2f6a-4ea6-b2d9-09195e49358c",
   "metadata": {},
   "outputs": [],
   "source": [
    "A = np.random.normal(size=(5, 3))"
   ]
  },
  {
   "cell_type": "code",
   "execution_count": 10,
   "id": "94a29179-8934-40e2-a86a-0a292ea8ced7",
   "metadata": {},
   "outputs": [],
   "source": [
    "b = np.random.normal(size=(3, 1))"
   ]
  },
  {
   "cell_type": "code",
   "execution_count": 13,
   "id": "d9b03ab0-f3e8-4c79-9610-ada9acc2a4b4",
   "metadata": {},
   "outputs": [],
   "source": [
    "x = A @ b"
   ]
  },
  {
   "cell_type": "code",
   "execution_count": 17,
   "id": "2bb06b2c-b621-4323-a5a1-f27effb87759",
   "metadata": {},
   "outputs": [],
   "source": [
    "y = x + np.random.normal(size=(5, 1)) * 0.1"
   ]
  },
  {
   "cell_type": "code",
   "execution_count": 25,
   "id": "e8d3802a-4687-455c-b688-44e4123c0dfa",
   "metadata": {},
   "outputs": [
    {
     "data": {
      "text/plain": [
       "array([[ 1.46095225],\n",
       "       [-0.62246249],\n",
       "       [ 0.48663837]])"
      ]
     },
     "execution_count": 25,
     "metadata": {},
     "output_type": "execute_result"
    }
   ],
   "source": [
    "la.solve(A.T @ A, A.T @ y)"
   ]
  },
  {
   "cell_type": "code",
   "execution_count": 46,
   "id": "35fcef5b-f86f-4a55-b96c-7799f10f9ded",
   "metadata": {},
   "outputs": [
    {
     "data": {
      "text/plain": [
       "array([[-0.23960172, -0.27654616,  0.04297668,  0.27697355,  0.09140135],\n",
       "       [ 0.06303891, -0.11701286, -0.2526327 , -0.24197649,  0.18668461],\n",
       "       [ 0.1965595 ,  0.24615895,  0.17291884, -0.50286756,  0.4247457 ]])"
      ]
     },
     "execution_count": 46,
     "metadata": {},
     "output_type": "execute_result"
    }
   ],
   "source": [
    "(A @ la.inv(A.T @ A)).T"
   ]
  },
  {
   "cell_type": "code",
   "execution_count": 44,
   "id": "2546696c-0a46-4bde-8e2d-f1f380da0798",
   "metadata": {},
   "outputs": [
    {
     "data": {
      "text/plain": [
       "array([[-0.23960172, -0.27654616,  0.04297668,  0.27697355,  0.09140135],\n",
       "       [ 0.06303891, -0.11701286, -0.2526327 , -0.24197649,  0.18668461],\n",
       "       [ 0.1965595 ,  0.24615895,  0.17291884, -0.50286756,  0.4247457 ]])"
      ]
     },
     "execution_count": 44,
     "metadata": {},
     "output_type": "execute_result"
    }
   ],
   "source": [
    "la.pinv(A)"
   ]
  },
  {
   "cell_type": "code",
   "execution_count": 47,
   "id": "1aac7d70-a30e-4d92-b220-fe266477c42a",
   "metadata": {},
   "outputs": [],
   "source": [
    "Mmag = np.array(\n",
    "    [[1, 1, 0, 0, 0, 1, 0, 0],     # baseline type 1 (4 rows)\n",
    "     [0, 1, 1, 0, 0, 1, 0, 0],\n",
    "     [0, 0, 1, 1, 0, 1, 0, 0],\n",
    "     [0, 0, 0, 1, 1, 1, 0, 0],\n",
    "     [1, 0, 1, 0, 0, 0, 1, 0],     # baseline type 2 (3 rows)\n",
    "     [0, 1, 0, 1, 0, 0, 1, 0],\n",
    "     [0, 0, 1, 0, 1, 0, 1, 0],\n",
    "     [1, 0, 0, 1, 0, 0, 0, 1],     # baseline type 3 (1 row)\n",
    "     [0, 1, 0, 0, 1, 0, 0, 1],\n",
    "     [1, 0, 0, 0, 0, 0, 0, 0]])    # magnitude constriant"
   ]
  },
  {
   "cell_type": "code",
   "execution_count": 49,
   "id": "6a956f35-93ba-4fb5-add0-627b6a4fd982",
   "metadata": {},
   "outputs": [
    {
     "data": {
      "text/plain": [
       "array([[4, 1, 1, 1, 0, 1, 1, 1],\n",
       "       [1, 4, 1, 1, 1, 2, 1, 1],\n",
       "       [1, 1, 4, 1, 1, 2, 2, 0],\n",
       "       [1, 1, 1, 4, 1, 2, 1, 1],\n",
       "       [0, 1, 1, 1, 3, 1, 1, 1],\n",
       "       [1, 2, 2, 2, 1, 4, 0, 0],\n",
       "       [1, 1, 2, 1, 1, 0, 3, 0],\n",
       "       [1, 1, 0, 1, 1, 0, 0, 2]])"
      ]
     },
     "execution_count": 49,
     "metadata": {},
     "output_type": "execute_result"
    }
   ],
   "source": [
    "Mmag.T @ Mmag"
   ]
  },
  {
   "cell_type": "code",
   "execution_count": 50,
   "id": "f7a525df-b966-4937-be47-ae9b37db426e",
   "metadata": {},
   "outputs": [
    {
     "data": {
      "text/plain": [
       "(array([[-5.00000000e-01, -3.87298335e-01,  2.10818511e-01,  1.78174161e-01,  3.05566166e-02,  4.71404521e-01, -2.74288043e-01, -2.42390176e-01],\n",
       "        [-0.00000000e+00, -5.16397779e-01, -4.21637021e-01,  1.78174161e-01,  2.44452933e-01,  2.35702260e-01,  2.53716440e-01,  1.03881504e-01],\n",
       "        [-0.00000000e+00, -0.00000000e+00, -5.27046277e-01, -4.45435403e-01,  2.44452933e-01,  2.35702260e-01,  2.53716440e-01,  1.03881504e-01],\n",
       "        [-0.00000000e+00, -0.00000000e+00,  0.00000000e+00, -5.34522484e-01, -5.19462482e-01,  4.71404521e-01, -2.33144837e-01,  3.46271681e-02],\n",
       "        [-5.00000000e-01,  1.29099445e-01, -4.21637021e-01,  1.78174161e-01,  3.05566166e-02, -2.35702260e-01, -2.74288043e-01, -2.42390176e-01],\n",
       "        [-0.00000000e+00, -5.16397779e-01,  1.05409255e-01, -4.45435403e-01,  2.44452933e-01, -4.71404521e-01, -4.45718070e-01,  2.07763008e-01],\n",
       "        [-0.00000000e+00, -0.00000000e+00, -5.27046277e-01,  8.90870806e-02, -5.19462482e-01, -2.35702260e-01, -2.33144837e-01,  3.46271681e-02],\n",
       "        [-5.00000000e-01,  1.29099445e-01,  1.05409255e-01, -4.45435403e-01,  3.05566166e-02, -2.35702260e-01,  4.25146467e-01, -3.46271681e-01],\n",
       "        [-0.00000000e+00, -5.16397779e-01,  1.05409255e-01,  8.90870806e-02, -5.19462482e-01, -2.35702260e-01,  4.66289673e-01, -6.92543361e-02],\n",
       "        [-5.00000000e-01,  1.29099445e-01,  1.05409255e-01,  8.90870806e-02, -9.16698497e-02, -3.64783115e-17,  1.23429619e-01,  8.31052033e-01]]),\n",
       " array([[-2.        , -0.5       , -0.5       , -0.5       ,  0.        , -0.5       , -0.5       , -0.5       ],\n",
       "        [ 0.        , -1.93649167, -0.38729833, -0.38729833, -0.51639778, -0.90369611, -0.38729833, -0.38729833],\n",
       "        [ 0.        ,  0.        , -1.8973666 , -0.31622777, -0.42163702, -0.73786479, -0.84327404,  0.21081851],\n",
       "        [ 0.        ,  0.        ,  0.        , -1.87082869, -0.35634832, -0.62360956, -0.17817416, -0.35634832],\n",
       "        [ 0.        ,  0.        ,  0.        ,  0.        , -1.55838744,  0.        , -0.24445293, -0.48890587],\n",
       "        [ 0.        ,  0.        ,  0.        ,  0.        ,  0.        ,  1.41421356, -0.94280904, -0.47140452],\n",
       "        [ 0.        ,  0.        ,  0.        ,  0.        ,  0.        ,  0.        , -0.95315095,  0.89143614],\n",
       "        [ 0.        ,  0.        ,  0.        ,  0.        ,  0.        ,  0.        ,  0.        , -0.41552602]]))"
      ]
     },
     "execution_count": 50,
     "metadata": {},
     "output_type": "execute_result"
    }
   ],
   "source": [
    "la.qr(Mmag)"
   ]
  },
  {
   "cell_type": "code",
   "execution_count": null,
   "id": "7fd668cf-159a-459f-a604-0d6e9488addf",
   "metadata": {},
   "outputs": [],
   "source": []
  }
 ],
 "metadata": {
  "kernelspec": {
   "display_name": "Python 3 (ipykernel)",
   "language": "python",
   "name": "python3"
  },
  "language_info": {
   "codemirror_mode": {
    "name": "ipython",
    "version": 3
   },
   "file_extension": ".py",
   "mimetype": "text/x-python",
   "name": "python",
   "nbconvert_exporter": "python",
   "pygments_lexer": "ipython3",
   "version": "3.10.3"
  }
 },
 "nbformat": 4,
 "nbformat_minor": 5
}
