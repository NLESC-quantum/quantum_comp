{
 "cells": [
  {
   "cell_type": "markdown",
   "metadata": {
    "tags": [
     "remove_cell"
    ]
   },
   "source": [
    "# The Variational Quantum Linear Solver for Redundant Calibration"
   ]
  },
  {
   "cell_type": "code",
   "execution_count": 1,
   "metadata": {},
   "outputs": [],
   "source": [
    "import qiskit\n",
    "from qiskit import QuantumCircuit, QuantumRegister, ClassicalRegister\n",
    "from qiskit.quantum_info.operators import Operator\n",
    "from qiskit import Aer, transpile, assemble\n",
    "import math\n",
    "import random\n",
    "import numpy as np\n",
    "from scipy.optimize import minimize\n",
    "\n",
    "from vqls_redcal_utils import get_antnennas_response"
   ]
  },
  {
   "cell_type": "markdown",
   "metadata": {},
   "source": [
    "## 1. Redundant Calibration\n",
    "\n",
    "We consider here the case of 5 antennas that are positionned in a row. The positions of the antennas are given by :"
   ]
  },
  {
   "cell_type": "code",
   "execution_count": 2,
   "metadata": {},
   "outputs": [],
   "source": [
    "n_ant = 5\n",
    "xpos = np.linspace(-2, 2, n_ant)[:,None]"
   ]
  },
  {
   "cell_type": "markdown",
   "metadata": {},
   "source": [
    "The magnitude matrix is in this case given by :"
   ]
  },
  {
   "cell_type": "code",
   "execution_count": 3,
   "metadata": {},
   "outputs": [],
   "source": [
    "Mmag = np.matrix(\n",
    "    [[1, 1, 0, 0, 0, 1, 0, 0],     # baseline type 1 (4 rows)\n",
    "     [0, 1, 1, 0, 0, 1, 0, 0],\n",
    "     [0, 0, 1, 1, 0, 1, 0, 0],\n",
    "     [0, 0, 0, 1, 1, 1, 0, 0],\n",
    "     [1, 0, 1, 0, 0, 0, 1, 0],     # baseline type 2 (3 rows)\n",
    "     [0, 1, 0, 1, 0, 0, 1, 0],\n",
    "     [0, 0, 1, 0, 1, 0, 1, 0],\n",
    "     [1, 0, 0, 1, 0, 0, 0, 1],     # baseline type 3 (2 row)\n",
    "     [0, 1, 0, 0, 1, 0, 0, 1],\n",
    "     [1, 0, 0, 0, 0, 0, 0, 0]])    # magnitude constraint"
   ]
  },
  {
   "cell_type": "markdown",
   "metadata": {},
   "source": [
    "The redundant calibration is then reduced to solving the least square problem [https://arxiv.org/pdf/1004.0156.pdf]\n",
    "\n",
    "$$\n",
    "M_{mag} \\theta = b\n",
    "$$\n",
    "\n",
    "where $b$ is given by the response of the antennas. For convenience we have packaged that response in a small method "
   ]
  },
  {
   "cell_type": "code",
   "execution_count": 4,
   "metadata": {},
   "outputs": [],
   "source": [
    "b = get_antnennas_response(xpos)"
   ]
  },
  {
   "cell_type": "markdown",
   "metadata": {},
   "source": [
    "## 2. Variational Quantum Linear Solver\n",
    "\n",
    "The Variational Quantum Linear Solver, or the VQLS is a variational quantum algorithm that utilizes VQE in order to solve systems of linear equations more efficiently than classical computational algorithms. Specifically, if we are given some matrix $\\textbf{A}$, such that $\\textbf{A} |\\textbf{x}\\rangle \\ = \\ |\\textbf{b}\\rangle$, where $|\\textbf{b}\\rangle$ is some known vector, the VQLS algorithm is theoretically able to find a normalized $|x\\rangle$ that is proportional to $|\\textbf{x}\\rangle$, which makes the above relationship true.\n",
    "\n",
    "The output of this algorithm is identical to that of the HHL Quantum Linear-Solving Algorithm, except, while HHL provides a much more favourable computation speedup over VQLS, the variational nature of our algorithm allows for it to be performed on NISQ quantum computers, while HHL would require much more robust quantum hardware, and many more qubits.\n",
    "\n",
    "The details of the algorithm can be found in the original paper :\n",
    "\n",
    "\"Variational Quantum Linear Solver: A Hybrid Algorithm for Linear Systems\", written by Carlos Bravo-Prieto, Ryan LaRose, M. Cerezo, Yiğit Subaşı, Lukasz Cincio, and Patrick J. Coles, which is available at [this](https://arxiv.org/abs/1909.05820) link.\n",
    "\n",
    "And this implementation is largely based on the Qiskit tutorial\n",
    "\n",
    "https://qiskit.org/textbook/ch-paper-implementations/vqls.html\n",
    "\n"
   ]
  },
  {
   "cell_type": "markdown",
   "metadata": {},
   "source": [
    "## 3. Adapting the Redcal problem to VQLS\n",
    "\n",
    "One of the main complication of VQLS for redundant calibration is that the matrix $\\textbf{A}$ must be decomposed as a sum of unitary matrices :\n",
    "\n",
    "$$A \\ = \\ \\displaystyle\\sum_{n} c_n \\ A_n$$\n",
    "\n",
    "The matrix $M_{mag}$ is not even square which makes it difficult to \n",
    "apply VQLS to Redcal.\n",
    "\n",
    "### Transforming a least square to a linear system\n",
    "\n",
    "In order to be able to use VQLS for redundant calibration we can manipulate our least square problem as followed :\n",
    "\n",
    "$$ M_{mag} \\theta = b $$\n",
    "\n",
    "Multiplying on both sides by $M_{mag}^{\\dagger}$ one obtain:\n",
    "\n",
    "$$ M_{mag}^{\\dagger} M_{mag} \\theta = M_{mag}^{\\dagger} b $$\n",
    "\n",
    "The matrix $A = M_{mag}^{\\dagger} M_{mag}$ is now symmetric which is a good start to find a unitary decomposition of it. One then  obtain the linear system\n",
    "\n",
    "$$ A \\theta = \\tilde{b} $$\n",
    "\n",
    "with $\\tilde{b} = M_{mag}^{\\dagger} b$"
   ]
  },
  {
   "cell_type": "code",
   "execution_count": 5,
   "metadata": {},
   "outputs": [
    {
     "name": "stdout",
     "output_type": "stream",
     "text": [
      "[[4 1 1 1 0 1 1 1]\n",
      " [1 4 1 1 1 2 1 1]\n",
      " [1 1 4 1 1 2 2 0]\n",
      " [1 1 1 4 1 2 1 1]\n",
      " [0 1 1 1 3 1 1 1]\n",
      " [1 2 2 2 1 4 0 0]\n",
      " [1 1 2 1 1 0 3 0]\n",
      " [1 1 0 1 1 0 0 2]]\n"
     ]
    }
   ],
   "source": [
    "A = Mmag.T@Mmag\n",
    "print(A)"
   ]
  },
  {
   "cell_type": "code",
   "execution_count": 6,
   "metadata": {},
   "outputs": [
    {
     "name": "stdout",
     "output_type": "stream",
     "text": [
      "[[-0.15666318]\n",
      " [-0.68704109]\n",
      " [-0.80720427]\n",
      " [ 0.00434138]\n",
      " [-0.24822621]\n",
      " [-1.04634843]\n",
      " [-0.36352943]\n",
      " [ 0.46248118]]\n"
     ]
    }
   ],
   "source": [
    "btilde = Mmag.T@b\n",
    "print(btilde)"
   ]
  },
  {
   "cell_type": "markdown",
   "metadata": {},
   "source": [
    "### Unitary decomposition \n",
    "\n",
    "Unitary decomposition of matrices is currently an active topic of research given the importance of such decompoisition in quantum computing See for example [this](https://arxiv.org/pdf/2101.02993.pdf).\n",
    "\n",
    "While it is difficult at the moment to find the best decomposition of our matrix $A$, we can rely for the moment on techniques explained [here](https://math.stackexchange.com/questions/1710247/every-matrix-can-be-written-as-a-sum-of-unitary-matrices/1710390#1710390), to decompose our matrix in 4 unitary matrices.\n",
    "\n",
    "In this example the contribution of the last two matrices cancel each other and we can therefore limit the decomposition to the 2 unitary matrices"
   ]
  },
  {
   "cell_type": "code",
   "execution_count": 7,
   "metadata": {},
   "outputs": [
    {
     "name": "stdout",
     "output_type": "stream",
     "text": [
      "[[4.+0.j 1.+0.j 1.+0.j 1.+0.j 0.+0.j 1.+0.j 1.+0.j 1.+0.j]\n",
      " [1.+0.j 4.+0.j 1.+0.j 1.+0.j 1.+0.j 2.+0.j 1.+0.j 1.+0.j]\n",
      " [1.+0.j 1.+0.j 4.+0.j 1.+0.j 1.+0.j 2.+0.j 2.+0.j 0.+0.j]\n",
      " [1.+0.j 1.+0.j 1.+0.j 4.+0.j 1.+0.j 2.+0.j 1.+0.j 1.+0.j]\n",
      " [0.+0.j 1.+0.j 1.+0.j 1.+0.j 3.+0.j 1.+0.j 1.+0.j 1.+0.j]\n",
      " [1.+0.j 2.+0.j 2.+0.j 2.+0.j 1.+0.j 4.+0.j 0.+0.j 0.+0.j]\n",
      " [1.+0.j 1.+0.j 2.+0.j 1.+0.j 1.+0.j 0.+0.j 3.+0.j 0.+0.j]\n",
      " [1.+0.j 1.+0.j 0.+0.j 1.+0.j 1.+0.j 0.+0.j 0.+0.j 2.+0.j]]\n"
     ]
    }
   ],
   "source": [
    "from unitary_decomp import unitary_decomposition, unitary_recomposition\n",
    "coeffs_An, An = unitary_decomposition(A)\n",
    "coeffs_An, An = coeffs_An[:2], An[:2]\n",
    "print(unitary_recomposition(coeffs_An, An))"
   ]
  },
  {
   "cell_type": "markdown",
   "metadata": {},
   "source": [
    "### Creation of the $\\tilde{b}$ vector\n",
    "\n",
    "VQLS aslo require an operator that creates the rhs of the linear system from the $|0\\rangle$ state. In other words we define an operator $U_b$ so that :\n",
    "\n",
    "$$\n",
    "U_b|0\\rangle = |\\tilde{b}\\rangle\n",
    "$$\n",
    "\n",
    "We do that by using Qiskit to create a circuit, initialize the state of the circuit to $|\\tilde{b}\\rangle$ and extract the matrix of the circuit. There might be better ways of doing this."
   ]
  },
  {
   "cell_type": "code",
   "execution_count": 8,
   "metadata": {},
   "outputs": [
    {
     "name": "stdout",
     "output_type": "stream",
     "text": [
      "[[-0.09622526+0.j  0.42199263-0.j  0.11022728+0.j -0.48339803+0.j\n",
      "   0.11007646+0.j -0.48273661+0.j -0.12609401+0.j  0.55298105-0.j]\n",
      " [-0.42199263+0.j -0.09622526+0.j  0.48339803+0.j  0.11022728+0.j\n",
      "   0.48273661+0.j  0.11007646+0.j -0.55298105-0.j -0.12609401+0.j]\n",
      " [-0.49579895+0.j  0.00266655-0.j -0.43281828+0.j  0.00232783-0.j\n",
      "   0.56716703+0.j -0.00305039-0.j  0.49512057-0.j -0.00266291+0.j]\n",
      " [ 0.00266655-0.j  0.49579895+0.j  0.00232783+0.j  0.43281828+0.j\n",
      "  -0.00305039-0.j -0.56716703-0.j -0.00266291+0.j -0.49512057-0.j]\n",
      " [-0.15246487-0.j  0.64268547+0.j  0.08340056-0.j -0.35155853-0.j\n",
      "  -0.13327983+0.j  0.56181472+0.j  0.07290605-0.j -0.30732103-0.j]\n",
      " [-0.64268547+0.j -0.15246487+0.j  0.35155853+0.j  0.08340056-0.j\n",
      "  -0.56181472+0.j -0.13327983+0.j  0.30732103-0.j  0.07290605-0.j]\n",
      " [-0.22328612-0.j  0.28406401+0.j -0.4081902 -0.j  0.51929848+0.j\n",
      "  -0.19518946-0.j  0.24831951+0.j -0.35682658+0.j  0.45395383+0.j]\n",
      " [ 0.28406401+0.j  0.22328612-0.j  0.51929848+0.j  0.4081902 +0.j\n",
      "   0.24831951+0.j  0.19518946+0.j  0.45395383+0.j  0.35682658+0.j]]\n"
     ]
    }
   ],
   "source": [
    "from get_b import get_b_unitmatrix\n",
    "norm_btilde, Ub_mat = get_b_unitmatrix(btilde, 3, decimals=12)\n",
    "print(Ub_mat)"
   ]
  },
  {
   "cell_type": "markdown",
   "metadata": {},
   "source": [
    "## 4. Qiskit Implementation\n",
    "\n",
    "### Wave function Ansatz\n",
    "\n",
    "VQLS works by optimizing a wave function ansatz $|\\psi(\\alpha)\\rangle$ that depends on variational parameters $\\alpha$ and that should approximate the solution of the linear system, i.e. $|\\psi(\\alpha)\\rangle\\approx|\\theta\\rangle$ in our case.\n",
    "\n",
    "The creation of this wave function ansatz is done through a module $V(\\alpha)$ that acts as follows:\n",
    "\n",
    "$$\n",
    "V(\\alpha)|0\\rangle = |\\psi(\\alpha)\\rangle\n",
    "$$\n",
    "\n",
    "Many possibilities exists to define $V(\\alpha)$. We use here a simple module described in the original paper"
   ]
  },
  {
   "cell_type": "code",
   "execution_count": 9,
   "metadata": {},
   "outputs": [
    {
     "data": {
      "image/png": "[encoded data removed]",
      "text/plain": [
       "<Figure size 507.997x204.68 with 1 Axes>"
      ]
     },
     "execution_count": 9,
     "metadata": {},
     "output_type": "execute_result"
    }
   ],
   "source": [
    "from vqls_redcal_utils import apply_fixed_ansatz\n",
    "circ = QuantumCircuit(3)\n",
    "apply_fixed_ansatz(circ, [0, 1, 2], [[1, 1, 1], [1, 1, 1], [1, 1, 1]])\n",
    "circ.draw(output='mpl')"
   ]
  },
  {
   "cell_type": "markdown",
   "metadata": {},
   "source": [
    "### Hadamard Test\n",
    "\n",
    "VQLS relies on the Hadammard test to compute terms such as \n",
    "\n",
    "$$\\langle \\Phi | \\Phi \\rangle \\ = \\ \\langle \\psi(k) | A^{\\dagger} A |\\psi(k) \\rangle \\ = \\ \\langle 0 | V(k)^{\\dagger} A^{\\dagger} A V(k) |0\\rangle \\ = \\ \\langle 0 | V(k)^{\\dagger} \\Big( \\displaystyle\\sum_{n} c_n \\ A_n \\Big)^{\\dagger} \\Big( \\displaystyle\\sum_{n} c_n \\ A_n \\Big) V(k) |0\\rangle$$\n",
    "\n",
    "\n",
    "\n",
    "<br>\n",
    "\n",
    "\n",
    "\n",
    "$$\\Rightarrow \\ \\langle \\Phi | \\Phi \\rangle \\ = \\ \\displaystyle\\sum_{m} \\displaystyle\\sum_{n} c_m^{*} c_n \\langle 0 | V(k)^{\\dagger} A_m^{\\dagger} A_n V(k) |0\\rangle$$\n",
    "\n",
    "As explained in the original paper the hadamard test uses an auxiliary qbit that controls the applications of the $A_n$ and $A_m^\\dagger$ operators, in other words:\n",
    "\n",
    "$$\n",
    "A_m |0\\rangle|\\psi(\\alpha) = |0\\rangle|\\psi(\\alpha)\\rangle\n",
    "$$\n",
    "\n",
    "and\n",
    "\n",
    "$$\n",
    "A_m |1\\rangle|\\psi(\\alpha) = |1\\rangle A_m|\\psi(\\alpha)\\rangle\n",
    "$$\n",
    "\n",
    "We therefore need to define these controlled operators for the $A_n$ matrices and their conjugate transpose"
   ]
  },
  {
   "cell_type": "code",
   "execution_count": 10,
   "metadata": {},
   "outputs": [
    {
     "data": {
      "image/png": "[encoded data removed]",
      "text/plain": [
       "<Figure size 146.797x264.88 with 1 Axes>"
      ]
     },
     "execution_count": 10,
     "metadata": {},
     "output_type": "execute_result"
    }
   ],
   "source": [
    "from vqls_redcal_utils import get_controlled_operator_matrix, apply_controlled_gate\n",
    "\n",
    "ctrl_An = get_controlled_operator_matrix(An, 0, [1,2,3])\n",
    "ctrl_An_name = ['$A_0$', '$A_1$']\n",
    "\n",
    "ctrl_An_dagger = get_controlled_operator_matrix([np.conjugate(a).T for a in An], 0, [1,2,3])\n",
    "ctrl_An_dagger_name = ['$A_0^\\dagger$', '$A_1^\\dagger$']\n",
    "\n",
    "circ = QuantumCircuit(4)\n",
    "apply_controlled_gate(circ, ctrl_An[0], 0, [1,2,3], name=ctrl_An_name[0])\n",
    "circ.draw(output='mpl')"
   ]
  },
  {
   "cell_type": "code",
   "execution_count": 11,
   "metadata": {},
   "outputs": [
    {
     "data": {
      "image/png": "[encoded data removed]",
      "text/plain": [
       "<Figure size 688.597x264.88 with 1 Axes>"
      ]
     },
     "execution_count": 11,
     "metadata": {},
     "output_type": "execute_result"
    }
   ],
   "source": [
    "# Creates the Hadamard test\n",
    "from vqls_redcal_utils import hadammard_test\n",
    "circ = QuantumCircuit(4)\n",
    "hadammard_test(circ, [ctrl_An[0], ctrl_An_dagger[1]],  ['cA0', 'cA1'], \n",
    "               [1, 2, 3], 0, [[1, 1, 1], [1, 1, 1], [1, 1, 1]], imag=True)\n",
    "circ.draw(output='mpl')"
   ]
  },
  {
   "cell_type": "markdown",
   "metadata": {},
   "source": [
    "### Computing  $|\\langle b | \\Phi \\rangle|^2$\n",
    "\n",
    "VQLS also relies on the calculation of the term :\n",
    "\n",
    "$$|\\langle b | \\Phi \\rangle|^2 \\ = \\ \\displaystyle\\sum_{m} \\displaystyle\\sum_{n} c_m c_n \\langle 0 | U^{\\dagger} A_n V(k) | 0 \\rangle \\langle 0 | U^{\\dagger} A_m V(k) | 0 \\rangle$$\n",
    "\n",
    "\n",
    "There is a sophisticated way of solving for this value, using a newly-proposed subroutine called the **Hadamard Overlap Test** (see cited paper), but we will just be using a standard Hadamard Test, where we control each matrix. This unfortunately requires the use of an extra auxiliary qubit. We essentially just place a control on each of the gates involved in the auxiliary, the $|b\\rangle$ preparation unitary, and the $A_n$ unitaries. \n",
    "\n",
    "We already have the controlled version of the $A_n$ operators. The circuit of the **controlled** wave function ansatz can be obtained via : \n"
   ]
  },
  {
   "cell_type": "code",
   "execution_count": 12,
   "metadata": {},
   "outputs": [
    {
     "data": {
      "image/png": "[encoded data removed]",
      "text/plain": [
       "<Figure size 1377.05x325.08 with 1 Axes>"
      ]
     },
     "execution_count": 12,
     "metadata": {},
     "output_type": "execute_result"
    }
   ],
   "source": [
    "# Creates controlled anstaz for calculating |<b|psi>|^2 with a Hadamard test\n",
    "from vqls_redcal_utils import apply_control_fixed_ansatz\n",
    "q_reg = QuantumRegister(5)\n",
    "circ = QuantumCircuit(q_reg)\n",
    "apply_control_fixed_ansatz(circ, [1, 2, 3], [[1, 1, 1], [1, 1, 1], [1, 1, 1]], 0, q_reg)\n",
    "circ.draw(output='mpl')"
   ]
  },
  {
   "cell_type": "markdown",
   "metadata": {},
   "source": [
    "The circuit that make a controlled application of the right hand side operator is obtained in the same way as the controlled version of the $A_n$ matrices:"
   ]
  },
  {
   "cell_type": "code",
   "execution_count": 13,
   "metadata": {},
   "outputs": [
    {
     "data": {
      "image/png": "[encoded data removed]",
      "text/plain": [
       "<Figure size 146.797x264.88 with 1 Axes>"
      ]
     },
     "execution_count": 13,
     "metadata": {},
     "output_type": "execute_result"
    }
   ],
   "source": [
    "ctrl_Ub_mat = get_controlled_operator_matrix([Ub_mat], 0, [1,2,3])[0].real\n",
    "ctrl_Ub_mat_dagger = get_controlled_operator_matrix([Ub_mat.T], 0, [1,2,3])[0].real\n",
    "\n",
    "circ = QuantumCircuit(4)\n",
    "apply_controlled_gate(circ, ctrl_Ub_mat, 0, [1,2,3], name='$U_b$')\n",
    "circ.draw(output='mpl')"
   ]
  },
  {
   "cell_type": "code",
   "execution_count": 14,
   "metadata": {},
   "outputs": [
    {
     "data": {
      "image/png": "[encoded data removed]",
      "text/plain": [
       "<Figure size 1617.99x325.08 with 1 Axes>"
      ]
     },
     "execution_count": 14,
     "metadata": {},
     "output_type": "execute_result"
    }
   ],
   "source": [
    "from vqls_redcal_utils import special_hadammard_test\n",
    "\n",
    "q_reg = QuantumRegister(5)\n",
    "circ = QuantumCircuit(q_reg)\n",
    "special_hadammard_test(circ, ctrl_An[0], '$A_0$', ctrl_Ub_mat, \n",
    "                       [1, 2, 3], 0, \n",
    "                       [[1, 1, 1], [1, 1, 1], [1, 1, 1]], \n",
    "                       q_reg)\n",
    "circ.draw(output='mpl')"
   ]
  },
  {
   "cell_type": "markdown",
   "metadata": {},
   "source": [
    "### Computing the cost function of the optimization process.\n",
    "\n",
    "We now have to compute the cost function of the VQLS circuit. This is rather convoluted and has been wrapped in the function `calculate_cost_function` that we can use with the `scipy.minimize` method."
   ]
  },
  {
   "cell_type": "code",
   "execution_count": 15,
   "metadata": {},
   "outputs": [
    {
     "name": "stdout",
     "output_type": "stream",
     "text": [
      "(0.9228958944785718+7.850040344910443e-16j)\n",
      "(0.8295940993884077-3.5361922471231057e-16j)\n",
      "(0.9998040089586486-2.7916386995360088e-18j)\n",
      "(0.8223832924944473+3.9931520067390015e-15j)\n",
      "(0.5018482882723216-3.454440924703694e-16j)\n",
      "(0.5225828378621198+2.1386704452878108e-15j)\n",
      "(0.4925584029939807-2.544154107651317e-15j)\n",
      "(0.45470505751798407-1.0520475677476205e-15j)\n",
      "(0.4765198998107798-1.4866162412948225e-15j)\n",
      "(0.5132428772366127+2.32349037747712e-16j)\n",
      "(0.3982069914937989-4.1311246117341987e-16j)\n",
      "(0.2623011556520667-1.018057764057246e-15j)\n",
      "(0.280131808301039-2.628142291666707e-15j)\n",
      "(0.25583662189022416-2.0789881641773998e-16j)\n",
      "(0.651551000075421-6.2891512914923655e-16j)\n",
      "(0.19783951225917074-1.6691619823961618e-15j)\n",
      "(0.3394341426318992-6.51667443959795e-16j)\n",
      "(0.18576397407204426-4.060356032537267e-15j)\n",
      "(0.20748410763690972-1.5897864301518898e-15j)\n",
      "(0.27497042959401474-1.1885820910357685e-15j)\n",
      "(0.07385713859874565-3.0456549984724083e-15j)\n",
      "(0.1574677049584322-1.5476262520953297e-15j)\n",
      "(0.3879473450147729+1.8937466566419562e-14j)\n",
      "(0.1290945358940514-3.5908833826930274e-15j)\n",
      "(0.06524046758858226-3.2899683455124977e-15j)\n",
      "(0.15593921949494716-1.4099982018900361e-15j)\n",
      "(0.05739841534579759-2.358522346081193e-15j)\n",
      "(0.06540946541487169-2.4965977450623417e-15j)\n",
      "(0.06271382944678439-1.453228116872925e-15j)\n",
      "(0.12565388075441764-3.736882013919104e-15j)\n",
      "(0.08521738989114092-2.2093247895882317e-15j)\n",
      "(0.03213704484016522+2.692389208016356e-16j)\n",
      "(0.4631894246214011+6.778479013990772e-15j)\n",
      "(0.0595795099222044+2.839803975937637e-15j)\n",
      "(0.02514398330035128-2.0168163221918025e-15j)\n",
      "(0.0413600943590432-1.8956196540575564e-15j)\n",
      "(0.03388739854121081+7.464680642571584e-16j)\n",
      "(0.02417266377176186+7.093639791528498e-15j)\n",
      "(0.018172976583645695+4.750182674300335e-15j)\n",
      "(0.02891200724864751+2.7378812048599263e-15j)\n",
      "(0.02216130395004856+3.043339227752602e-15j)\n",
      "(0.04548825055345507+9.016720074166317e-16j)\n",
      "(0.015576286471118084-2.403037257202188e-15j)\n",
      "(0.02050482785972929-8.339470616022449e-16j)\n",
      "(0.015060361540433331-4.341260169180298e-16j)\n",
      "(0.03373274449399344+5.432084898398928e-16j)\n",
      "(0.014981047966315497+4.259720388488828e-16j)\n",
      "(0.0332334739641833+7.268843292195496e-16j)\n",
      "(0.022255163148949486-3.582218427692704e-15j)\n",
      "(0.013641596682681945+5.4641187317991436e-15j)\n",
      "(0.01511220983656869+5.905320285755782e-15j)\n",
      "(0.011136837584993287+2.405122151087351e-15j)\n",
      "(0.006337078123478279+4.046321062251556e-15j)\n",
      "(0.008057604718274658+0j)\n",
      "(0.005800074683201095-4.389776788793254e-15j)\n",
      "(0.01191248420527713-1.1113877164471345e-15j)\n",
      "(0.005306797255397067+7.273413196163266e-16j)\n",
      "(0.005316462318580406-2.8560949946330437e-15j)\n",
      "(0.0063288692385981005+5.494402038948177e-15j)\n",
      "(0.005191582874670031+6.0245870302311135e-15j)\n",
      "(0.006532030319326143+4.470862166398589e-16j)\n",
      "(0.005176241035807383-9.541219361253115e-16j)\n",
      "(0.010073088876851544+7.527503397872442e-15j)\n",
      "(0.005575901604424782-2.6020727608722865e-15j)\n",
      "(0.003918524676638446+2.8335058075624625e-15j)\n",
      "(0.0046281520176229+3.712606053915857e-15j)\n",
      "(0.00526702958899361-1.903636348760905e-15j)\n",
      "(0.004009455167077514+5.180613179272139e-16j)\n",
      "(0.0044418882783549+3.3957647714323214e-15j)\n",
      "(0.004055853575471002+1.3000129288029985e-15j)\n",
      "(0.0037767743301252432+1.9755037639100636e-15j)\n",
      "(0.0037608781795542834+4.4268570844561325e-15j)\n",
      "(0.003842748139956109+4.144152685370664e-15j)\n",
      "(0.0035099203385661193+4.163381068792707e-15j)\n",
      "(0.00496617598579574-4.611369750149542e-16j)\n",
      "(0.0034712734888088237+4.90514389116264e-16j)\n",
      "(0.003409087638197583+5.249131906245807e-15j)\n",
      "(0.0033147114096903074+3.058438162027468e-15j)\n",
      "(0.0034155924064722676+7.934307321703236e-15j)\n",
      "(0.0030112218077734676+7.539665408553858e-16j)\n",
      "(0.0029281110878843775+4.2152346643664686e-15j)\n",
      "(0.0029026418470092796-1.4799828918544169e-15j)\n",
      "(0.0030513833439635984-3.436231763118156e-15j)\n",
      "(0.0028500009327210307+6.414771894802685e-15j)\n",
      "(0.0027440502436469894+4.477609075056827e-15j)\n",
      "(0.0026304620559627345+2.514676532402358e-15j)\n",
      "(0.0026514629763328967+4.514835142892635e-15j)\n",
      "(0.003013318145978272+6.428105577497791e-15j)\n",
      "(0.002774363666767532+6.7154553728836e-15j)\n",
      "(0.002324821119870202+2.075305875093976e-15j)\n",
      "(0.0024236797281608213-2.6476360664133677e-16j)\n",
      "(0.0023127798946153133+6.482342479692087e-15j)\n",
      "(0.002583859299817748+1.0597749514616314e-15j)\n",
      "(0.0023466930714775014+3.634989795943803e-15j)\n",
      "(0.002098246948278648+4.1679329083537665e-15j)\n",
      "(0.0020547287143085624+5.509565026450798e-15j)\n",
      "(0.0020440745690353257+0j)\n",
      "(0.0019110774252167895-1.5708076397098282e-15j)\n",
      "(0.0018753364713360865+1.8192712613352534e-15j)\n",
      "(0.0019693609286520752+7.936118184646028e-15j)\n",
      "(0.0017811974977886003+5.278842575010294e-15j)\n",
      "(0.0018570171606624442+2.667312963789812e-15j)\n",
      "(0.0017558893850666557+5.3040782342057886e-15j)\n",
      "(0.0018932105454440018+6.538233116759547e-15j)\n",
      "(0.0017510506683101612+7.94840607906322e-15j)\n",
      "(0.0018536300605147549+1.3210759682907052e-15j)\n",
      "(0.0017682747652398856+3.184230671913523e-15j)\n",
      "(0.0019062183456325377+9.614844951713066e-15j)\n",
      "(0.0018008696686129255+6.1321945503849775e-15j)\n",
      "(0.0016509776547789512+3.1317086671691052e-15j)\n",
      "(0.0019925621362870682+2.0242092681993516e-15j)\n",
      "(0.0016300271707440084+6.016371085060458e-15j)\n",
      "(0.0016181724627941652+7.942375193408965e-15j)\n",
      "(0.0015915917292239623+3.484957825362525e-15j)\n",
      "(0.001581469787290679+2.417089139761066e-15j)\n",
      "(0.001634774381483295+5.9242124439629544e-15j)\n",
      "(0.0015703691710343692+5.381901432448855e-16j)\n",
      "(0.0014568209663170517+5.358279309299166e-16j)\n",
      "(0.001373346417761323+9.32579314665595e-15j)\n",
      "(0.0012962787458796754+9.062515004665492e-15j)\n",
      "(0.001257997797339372+7.988663819491047e-16j)\n",
      "(0.0012261423972292906+6.9221284842088386e-15j)\n",
      "(0.001136657911873673+5.3388489254402275e-15j)\n",
      "(0.0010938744645216936+4.789397594682371e-15j)\n",
      "(0.0010226080063738818+9.715986089919852e-15j)\n",
      "(0.0010161186063532002+1.902368900004833e-15j)\n",
      "(0.001006646559555735+4.346404161502196e-15j)\n",
      "(0.0010430873665474572+1.0997812421750805e-15j)\n",
      "(0.0010083845170906214+1.1402669276966716e-14j)\n",
      "(0.0009535718200782695+1.0812985415856091e-15j)\n",
      "(0.000907176063626558+4.058000907411125e-15j)\n",
      "(0.0008939760010405751+8.111822537859216e-16j)\n",
      "(0.0008939903976163954+1.2406389033001726e-14j)\n",
      "(0.0008928663056669839+2.448815206509743e-15j)\n",
      "(0.0009121930093635156+2.70087148311054e-15j)\n",
      "(0.0008222320572182085+7.0802057125379106e-15j)\n",
      "(0.000770106115156044+8.995060393952732e-15j)\n",
      "(0.0007232731801832815+2.465365421900513e-15j)\n",
      "(0.0007208331553198999+8.142665527811109e-16j)\n",
      "(0.000692998219425367+3.268533930713293e-15j)\n",
      "(0.0006600966501967287+4.9355180429735565e-15j)\n",
      "(0.0006621174747718506+6.612855521435873e-15j)\n",
      "(0.0006691814812008756+4.664357202576661e-15j)\n",
      "(0.0006669011298925387+6.387921946294378e-15j)\n",
      "(0.0006613517968522276+3.854075424403734e-15j)\n",
      "(0.0006342976438988845+1.2407270753099848e-14j)\n",
      "(0.0006435494799897912+4.980266517375821e-15j)\n",
      "(0.0006126263458279269-1.6463686276898863e-15j)\n",
      "(0.0006278032676723111+9.540504049849257e-15j)\n",
      "(0.0006298789482298561+3.821250396848877e-15j)\n",
      "(0.0005717689529806114+1.656263002398275e-15j)\n",
      "(0.000572316744221868+4.395742588541378e-15j)\n",
      "(0.0005831090478908285+5.492289674679665e-15j)\n",
      "(0.0005764675251905826+3.5943342458082166e-15j)\n",
      "(0.0005716130394277652+4.1416666596945135e-15j)\n",
      "(0.0005642789178693652+3.6259999736373526e-15j)\n",
      "(0.0005735588258396485+6.153364821418366e-15j)\n",
      "(0.0005666429571813403+7.828825519077353e-15j)\n",
      "(0.0005526001146468618+9.21855373508987e-15j)\n",
      "(0.0006028716884081131+9.006268293998487e-15j)\n",
      "(0.0005302339419728241+6.069597611284954e-15j)\n",
      "(0.0005410591948227239+1.654329951092904e-15j)\n",
      "(0.000549245864061576+4.957003572554828e-15j)\n",
      "(0.0005449757681688094+6.01867564568239e-15j)\n",
      "(0.0005570181358682813+1.0784514045404152e-14j)\n",
      "(0.0005112836819582967+1.9326594263957622e-15j)\n",
      "(0.0005202460173192591+7.162222824743924e-15j)\n",
      "(0.0005195016225855165+8.538897517673258e-15j)\n",
      "(0.0005191299061189092+2.4796818296819275e-15j)\n",
      "(0.0005196811518520805+3.306909672852338e-15j)\n",
      "(0.00048817004341072945+3.33739718460583e-15j)\n",
      "(0.0004715021820360654+7.225485605982675e-15j)\n",
      "(0.0004660008271137883+2.8013143706382754e-15j)\n",
      "(0.00045869831753209134+8.425400137059894e-16j)\n",
      "(0.0004497700603476318+7.590982927106528e-15j)\n",
      "(0.00045351706042962014+1.6880324647386148e-15j)\n",
      "(0.0004476817696502655+2.2526890648102597e-15j)\n",
      "(0.00044623177563374306+3.3783380698910306e-15j)\n"
     ]
    },
    {
     "name": "stdout",
     "output_type": "stream",
     "text": [
      "(0.0004310961070919106+4.5062579737391024e-15j)\n",
      "(0.00042642463344877424+5.630867024673107e-16j)\n",
      "(0.0004150092087574775+5.0598875184541094e-15j)\n",
      "(0.0004167344667405093+3.6706450468935974e-15j)\n",
      "(0.00042206053933646626+7.289736863142336e-15j)\n",
      "(0.0004258974874451482+9.225853380838685e-15j)\n",
      "(0.00042002696432918984+9.83000540422916e-15j)\n",
      "(0.0004088902627532587+4.511783194266099e-15j)\n",
      "(0.0004066357631460349+7.90355665122642e-15j)\n",
      "(0.0004091436519942926+6.769230753736503e-15j)\n",
      "(0.0003961444918557655+6.231209892469931e-15j)\n",
      "(0.00039876333657296037+2.8371164088908017e-15j)\n",
      "(0.00041234977693649366+4.832954224173738e-15j)\n",
      "(0.0003805929702367372+6.770545612024803e-15j)\n",
      "(0.0003864116169169929+2.8040581382547135e-15j)\n",
      "(0.00038284186659121033+5.06599399956662e-15j)\n",
      "(0.00038184582663236544+5.3564680086296646e-15j)\n",
      "(0.00038282842893255786+9.012788610593805e-15j)\n",
      "(0.00037279555880664894+8.46290522239632e-15j)\n",
      "(0.00036989942174359136+1.1916763388824967e-14j)\n",
      "(0.000379340253260918+4.847509132227214e-15j)\n",
      "(0.00037173757805042396+4.2554171866719975e-15j)\n",
      "     fun: 0.00036989942174359136\n",
      "   maxcv: 0.0\n",
      " message: 'Maximum number of function evaluations has been exceeded.'\n",
      "    nfev: 200\n",
      "  status: 2\n",
      " success: False\n",
      "       x: array([ 4.04695242,  2.46491122,  3.32533275,  2.78047527, -0.38233407,\n",
      "        2.69947082,  2.73754239,  1.30230238,  1.69247705])\n"
     ]
    }
   ],
   "source": [
    "from vqls_redcal_utils import calculate_cost_function\n",
    "\n",
    "\n",
    "sum_coefficient = np.sum(coeffs_An)\n",
    "coeffs_An = [c/sum_coefficient for c in coeffs_An]\n",
    "\n",
    "out = minimize(calculate_cost_function, \n",
    "               x0=[float(random.randint(0,3000))/1000 for i in range(0, 9)], \n",
    "               args = (ctrl_An, ctrl_An_name,\n",
    "                       ctrl_An_dagger, ctrl_An_dagger_name, \n",
    "                       coeffs_An, \n",
    "                       ctrl_Ub_mat_dagger),\n",
    "               method=\"COBYLA\", options={'maxiter':200, 'disp':False})\n",
    "print(out)\n"
   ]
  },
  {
   "cell_type": "markdown",
   "metadata": {},
   "source": [
    "### Checking the solution\n",
    "\n",
    "We can now check if the solution is any good. We first get the state vector of the optimized circuit"
   ]
  },
  {
   "cell_type": "code",
   "execution_count": 16,
   "metadata": {},
   "outputs": [],
   "source": [
    "out_f = [out['x'][0:3], out['x'][3:6], out['x'][6:9]]\n",
    "\n",
    "circ = QuantumCircuit(3, 3)\n",
    "apply_fixed_ansatz(circ, [0, 1, 2], out_f)\n",
    "circ.save_statevector()\n",
    "\n",
    "backend = Aer.get_backend('aer_simulator')\n",
    "t_circ = transpile(circ, backend)\n",
    "qobj = assemble(t_circ)\n",
    "job = backend.run(qobj)\n",
    "\n",
    "result = job.result()\n",
    "o = result.get_statevector(circ, decimals=10)"
   ]
  },
  {
   "cell_type": "markdown",
   "metadata": {},
   "source": [
    "Then compute some metrics"
   ]
  },
  {
   "cell_type": "code",
   "execution_count": 17,
   "metadata": {},
   "outputs": [
    {
     "name": "stdout",
     "output_type": "stream",
     "text": [
      "residue: 2.623421144907083\n",
      "rms: (0.4854093770247146+0j)\n"
     ]
    },
    {
     "data": {
      "text/plain": [
       "[<matplotlib.lines.Line2D at 0x7fe71a8d0b80>]"
      ]
     },
     "execution_count": 17,
     "metadata": {},
     "output_type": "execute_result"
    },
    {
     "data": {
      "image/png": "[encoded data removed]",
      "text/plain": [
       "<Figure size 432x288 with 1 Axes>"
      ]
     },
     "metadata": {
      "needs_background": "light"
     },
     "output_type": "display_data"
    }
   ],
   "source": [
    "Atmp = unitary_recomposition(coeffs_An, An).real\n",
    "rhs = btilde/np.linalg.norm(btilde)\n",
    "\n",
    "x = np.linalg.solve(Atmp,rhs)\n",
    "norm_x = np.linalg.norm(x)\n",
    "x /= norm_x\n",
    "x = np.asarray(x).flatten().real\n",
    "\n",
    "res = np.linalg.norm(Atmp@o-rhs)\n",
    "print('residue:', res)\n",
    "\n",
    "print('rms:', np.sqrt(np.sum( (o-x)**2 )) )\n",
    "import matplotlib.pyplot as plt\n",
    "plt.scatter(x,o.real)\n",
    "plt.plot([-1,1],[-1,1],'--')"
   ]
  },
  {
   "cell_type": "markdown",
   "metadata": {},
   "source": [
    "### Sample the output of the circuit\n",
    "\n",
    "Now, we have found that this algorithm works **in theory**. I tried to run some simulations with a circuit that samples the circuit instead of calculating the probabilities numerically. Now, let's try to **sample** the quantum circuit, as a real quantum computer would do! For some reason, this simulation would only converge somewhat well for a ridiculously high number of \"shots\" (runs of the circuit, in order to calculate the probability distribution of outcomes). I think that this is mostly to do with limitations in the classical optimizer (COBYLA), due to the noisy nature of sampling a quantum circuit (a measurement with the same parameters won't always yield the same outcome). Luckily, there are other optimizers that are built for noisy functions, such as SPSA, but we won't be looking into that in this tutorial. Let's try our sampling for our second value of $A$, with the same matrix $U$:"
   ]
  },
  {
   "cell_type": "code",
   "execution_count": 19,
   "metadata": {},
   "outputs": [
    {
     "name": "stdout",
     "output_type": "stream",
     "text": [
      "(0.10551052080590817+0.8886752311571171j)\n",
      "(0.09112489743313823+0.9033489444960945j)\n",
      "(0.08169091475123924+0.9071577648240429j)\n",
      "(0.09512724431545727+0.8975929779049934j)\n",
      "(0.07201667623987118+0.9112973409641939j)\n",
      "(0.0704633634217624+0.9122881599422336j)\n"
     ]
    },
    {
     "ename": "KeyboardInterrupt",
     "evalue": "",
     "output_type": "error",
     "traceback": [
      "\u001b[0;31m---------------------------------------------------------------------------\u001b[0m",
      "\u001b[0;31mKeyboardInterrupt\u001b[0m                         Traceback (most recent call last)",
      "\u001b[0;32m<ipython-input-19-8b75a8f44db6>\u001b[0m in \u001b[0;36m<module>\u001b[0;34m\u001b[0m\n\u001b[1;32m      4\u001b[0m \u001b[0mcoeffs_An\u001b[0m \u001b[0;34m=\u001b[0m \u001b[0;34m[\u001b[0m\u001b[0mc\u001b[0m\u001b[0;34m/\u001b[0m\u001b[0msum_coefficient\u001b[0m \u001b[0;32mfor\u001b[0m \u001b[0mc\u001b[0m \u001b[0;32min\u001b[0m \u001b[0mcoeffs_An\u001b[0m\u001b[0;34m]\u001b[0m\u001b[0;34m\u001b[0m\u001b[0;34m\u001b[0m\u001b[0m\n\u001b[1;32m      5\u001b[0m \u001b[0;34m\u001b[0m\u001b[0m\n\u001b[0;32m----> 6\u001b[0;31m out = minimize(sample_cost_function, \n\u001b[0m\u001b[1;32m      7\u001b[0m                \u001b[0mx0\u001b[0m\u001b[0;34m=\u001b[0m\u001b[0;34m[\u001b[0m\u001b[0mfloat\u001b[0m\u001b[0;34m(\u001b[0m\u001b[0mrandom\u001b[0m\u001b[0;34m.\u001b[0m\u001b[0mrandint\u001b[0m\u001b[0;34m(\u001b[0m\u001b[0;36m0\u001b[0m\u001b[0;34m,\u001b[0m\u001b[0;36m3000\u001b[0m\u001b[0;34m)\u001b[0m\u001b[0;34m)\u001b[0m\u001b[0;34m/\u001b[0m\u001b[0;36m1000\u001b[0m \u001b[0;32mfor\u001b[0m \u001b[0mi\u001b[0m \u001b[0;32min\u001b[0m \u001b[0mrange\u001b[0m\u001b[0;34m(\u001b[0m\u001b[0;36m0\u001b[0m\u001b[0;34m,\u001b[0m \u001b[0;36m9\u001b[0m\u001b[0;34m)\u001b[0m\u001b[0;34m]\u001b[0m\u001b[0;34m,\u001b[0m\u001b[0;34m\u001b[0m\u001b[0;34m\u001b[0m\u001b[0m\n\u001b[1;32m      8\u001b[0m                args = (ctrl_An, ctrl_An_name,\n",
      "\u001b[0;32m~/anaconda3/envs/qbit/lib/python3.8/site-packages/scipy/optimize/_minimize.py\u001b[0m in \u001b[0;36mminimize\u001b[0;34m(fun, x0, args, method, jac, hess, hessp, bounds, constraints, tol, callback, options)\u001b[0m\n\u001b[1;32m    621\u001b[0m                              **options)\n\u001b[1;32m    622\u001b[0m     \u001b[0;32melif\u001b[0m \u001b[0mmeth\u001b[0m \u001b[0;34m==\u001b[0m \u001b[0;34m'cobyla'\u001b[0m\u001b[0;34m:\u001b[0m\u001b[0;34m\u001b[0m\u001b[0;34m\u001b[0m\u001b[0m\n\u001b[0;32m--> 623\u001b[0;31m         \u001b[0;32mreturn\u001b[0m \u001b[0m_minimize_cobyla\u001b[0m\u001b[0;34m(\u001b[0m\u001b[0mfun\u001b[0m\u001b[0;34m,\u001b[0m \u001b[0mx0\u001b[0m\u001b[0;34m,\u001b[0m \u001b[0margs\u001b[0m\u001b[0;34m,\u001b[0m \u001b[0mconstraints\u001b[0m\u001b[0;34m,\u001b[0m \u001b[0;34m**\u001b[0m\u001b[0moptions\u001b[0m\u001b[0;34m)\u001b[0m\u001b[0;34m\u001b[0m\u001b[0;34m\u001b[0m\u001b[0m\n\u001b[0m\u001b[1;32m    624\u001b[0m     \u001b[0;32melif\u001b[0m \u001b[0mmeth\u001b[0m \u001b[0;34m==\u001b[0m \u001b[0;34m'slsqp'\u001b[0m\u001b[0;34m:\u001b[0m\u001b[0;34m\u001b[0m\u001b[0;34m\u001b[0m\u001b[0m\n\u001b[1;32m    625\u001b[0m         return _minimize_slsqp(fun, x0, args, jac, bounds,\n",
      "\u001b[0;32m~/anaconda3/envs/qbit/lib/python3.8/site-packages/scipy/optimize/cobyla.py\u001b[0m in \u001b[0;36mwrapper\u001b[0;34m(*args, **kwargs)\u001b[0m\n\u001b[1;32m     32\u001b[0m     \u001b[0;32mdef\u001b[0m \u001b[0mwrapper\u001b[0m\u001b[0;34m(\u001b[0m\u001b[0;34m*\u001b[0m\u001b[0margs\u001b[0m\u001b[0;34m,\u001b[0m \u001b[0;34m**\u001b[0m\u001b[0mkwargs\u001b[0m\u001b[0;34m)\u001b[0m\u001b[0;34m:\u001b[0m\u001b[0;34m\u001b[0m\u001b[0;34m\u001b[0m\u001b[0m\n\u001b[1;32m     33\u001b[0m         \u001b[0;32mwith\u001b[0m \u001b[0m_module_lock\u001b[0m\u001b[0;34m:\u001b[0m\u001b[0;34m\u001b[0m\u001b[0;34m\u001b[0m\u001b[0m\n\u001b[0;32m---> 34\u001b[0;31m             \u001b[0;32mreturn\u001b[0m \u001b[0mfunc\u001b[0m\u001b[0;34m(\u001b[0m\u001b[0;34m*\u001b[0m\u001b[0margs\u001b[0m\u001b[0;34m,\u001b[0m \u001b[0;34m**\u001b[0m\u001b[0mkwargs\u001b[0m\u001b[0;34m)\u001b[0m\u001b[0;34m\u001b[0m\u001b[0;34m\u001b[0m\u001b[0m\n\u001b[0m\u001b[1;32m     35\u001b[0m     \u001b[0;32mreturn\u001b[0m \u001b[0mwrapper\u001b[0m\u001b[0;34m\u001b[0m\u001b[0;34m\u001b[0m\u001b[0m\n\u001b[1;32m     36\u001b[0m \u001b[0;34m\u001b[0m\u001b[0m\n",
      "\u001b[0;32m~/anaconda3/envs/qbit/lib/python3.8/site-packages/scipy/optimize/cobyla.py\u001b[0m in \u001b[0;36m_minimize_cobyla\u001b[0;34m(fun, x0, args, constraints, rhobeg, tol, maxiter, disp, catol, **unknown_options)\u001b[0m\n\u001b[1;32m    258\u001b[0m \u001b[0;34m\u001b[0m\u001b[0m\n\u001b[1;32m    259\u001b[0m     \u001b[0minfo\u001b[0m \u001b[0;34m=\u001b[0m \u001b[0mnp\u001b[0m\u001b[0;34m.\u001b[0m\u001b[0mzeros\u001b[0m\u001b[0;34m(\u001b[0m\u001b[0;36m4\u001b[0m\u001b[0;34m,\u001b[0m \u001b[0mnp\u001b[0m\u001b[0;34m.\u001b[0m\u001b[0mfloat64\u001b[0m\u001b[0;34m)\u001b[0m\u001b[0;34m\u001b[0m\u001b[0;34m\u001b[0m\u001b[0m\n\u001b[0;32m--> 260\u001b[0;31m     xopt, info = _cobyla.minimize(calcfc, m=m, x=np.copy(x0), rhobeg=rhobeg,\n\u001b[0m\u001b[1;32m    261\u001b[0m                                   \u001b[0mrhoend\u001b[0m\u001b[0;34m=\u001b[0m\u001b[0mrhoend\u001b[0m\u001b[0;34m,\u001b[0m \u001b[0miprint\u001b[0m\u001b[0;34m=\u001b[0m\u001b[0miprint\u001b[0m\u001b[0;34m,\u001b[0m \u001b[0mmaxfun\u001b[0m\u001b[0;34m=\u001b[0m\u001b[0mmaxfun\u001b[0m\u001b[0;34m,\u001b[0m\u001b[0;34m\u001b[0m\u001b[0;34m\u001b[0m\u001b[0m\n\u001b[1;32m    262\u001b[0m                                   dinfo=info)\n",
      "\u001b[0;32m~/anaconda3/envs/qbit/lib/python3.8/site-packages/scipy/optimize/cobyla.py\u001b[0m in \u001b[0;36mcalcfc\u001b[0;34m(x, con)\u001b[0m\n\u001b[1;32m    250\u001b[0m \u001b[0;34m\u001b[0m\u001b[0m\n\u001b[1;32m    251\u001b[0m     \u001b[0;32mdef\u001b[0m \u001b[0mcalcfc\u001b[0m\u001b[0;34m(\u001b[0m\u001b[0mx\u001b[0m\u001b[0;34m,\u001b[0m \u001b[0mcon\u001b[0m\u001b[0;34m)\u001b[0m\u001b[0;34m:\u001b[0m\u001b[0;34m\u001b[0m\u001b[0;34m\u001b[0m\u001b[0m\n\u001b[0;32m--> 252\u001b[0;31m         \u001b[0mf\u001b[0m \u001b[0;34m=\u001b[0m \u001b[0mfun\u001b[0m\u001b[0;34m(\u001b[0m\u001b[0mx\u001b[0m\u001b[0;34m,\u001b[0m \u001b[0;34m*\u001b[0m\u001b[0margs\u001b[0m\u001b[0;34m)\u001b[0m\u001b[0;34m\u001b[0m\u001b[0;34m\u001b[0m\u001b[0m\n\u001b[0m\u001b[1;32m    253\u001b[0m         \u001b[0mi\u001b[0m \u001b[0;34m=\u001b[0m \u001b[0;36m0\u001b[0m\u001b[0;34m\u001b[0m\u001b[0;34m\u001b[0m\u001b[0m\n\u001b[1;32m    254\u001b[0m         \u001b[0;32mfor\u001b[0m \u001b[0msize\u001b[0m\u001b[0;34m,\u001b[0m \u001b[0mc\u001b[0m \u001b[0;32min\u001b[0m \u001b[0mizip\u001b[0m\u001b[0;34m(\u001b[0m\u001b[0mcons_lengths\u001b[0m\u001b[0;34m,\u001b[0m \u001b[0mconstraints\u001b[0m\u001b[0;34m)\u001b[0m\u001b[0;34m:\u001b[0m\u001b[0;34m\u001b[0m\u001b[0;34m\u001b[0m\u001b[0m\n",
      "\u001b[0;32m~/NLESC-quantum/quantum_comp/redcal/vqls_pennylane/vqls_redcal_utils.py\u001b[0m in \u001b[0;36msample_cost_function\u001b[0;34m(parameters, *args)\u001b[0m\n\u001b[1;32m    353\u001b[0m                     \u001b[0mjob\u001b[0m \u001b[0;34m=\u001b[0m \u001b[0mbackend\u001b[0m\u001b[0;34m.\u001b[0m\u001b[0mrun\u001b[0m\u001b[0;34m(\u001b[0m\u001b[0mqobj\u001b[0m\u001b[0;34m)\u001b[0m\u001b[0;34m\u001b[0m\u001b[0;34m\u001b[0m\u001b[0m\n\u001b[1;32m    354\u001b[0m \u001b[0;34m\u001b[0m\u001b[0m\n\u001b[0;32m--> 355\u001b[0;31m                     \u001b[0mresult\u001b[0m \u001b[0;34m=\u001b[0m \u001b[0mjob\u001b[0m\u001b[0;34m.\u001b[0m\u001b[0mresult\u001b[0m\u001b[0;34m(\u001b[0m\u001b[0;34m)\u001b[0m\u001b[0;34m\u001b[0m\u001b[0;34m\u001b[0m\u001b[0m\n\u001b[0m\u001b[1;32m    356\u001b[0m                     \u001b[0moutputstate\u001b[0m \u001b[0;34m=\u001b[0m \u001b[0mresult\u001b[0m\u001b[0;34m.\u001b[0m\u001b[0mget_counts\u001b[0m\u001b[0;34m(\u001b[0m\u001b[0mcirc\u001b[0m\u001b[0;34m)\u001b[0m\u001b[0;34m\u001b[0m\u001b[0;34m\u001b[0m\u001b[0m\n\u001b[1;32m    357\u001b[0m \u001b[0;34m\u001b[0m\u001b[0m\n",
      "\u001b[0;32m~/anaconda3/envs/qbit/lib/python3.8/site-packages/qiskit/providers/aer/aerjob.py\u001b[0m in \u001b[0;36m_wrapper\u001b[0;34m(self, *args, **kwargs)\u001b[0m\n\u001b[1;32m     41\u001b[0m         \u001b[0;32mif\u001b[0m \u001b[0mself\u001b[0m\u001b[0;34m.\u001b[0m\u001b[0m_future\u001b[0m \u001b[0;32mis\u001b[0m \u001b[0;32mNone\u001b[0m\u001b[0;34m:\u001b[0m\u001b[0;34m\u001b[0m\u001b[0;34m\u001b[0m\u001b[0m\n\u001b[1;32m     42\u001b[0m             \u001b[0;32mraise\u001b[0m \u001b[0mJobError\u001b[0m\u001b[0;34m(\u001b[0m\u001b[0;34m\"Job not submitted yet!. You have to .submit() first!\"\u001b[0m\u001b[0;34m)\u001b[0m\u001b[0;34m\u001b[0m\u001b[0;34m\u001b[0m\u001b[0m\n\u001b[0;32m---> 43\u001b[0;31m         \u001b[0;32mreturn\u001b[0m \u001b[0mfunc\u001b[0m\u001b[0;34m(\u001b[0m\u001b[0mself\u001b[0m\u001b[0;34m,\u001b[0m \u001b[0;34m*\u001b[0m\u001b[0margs\u001b[0m\u001b[0;34m,\u001b[0m \u001b[0;34m**\u001b[0m\u001b[0mkwargs\u001b[0m\u001b[0;34m)\u001b[0m\u001b[0;34m\u001b[0m\u001b[0;34m\u001b[0m\u001b[0m\n\u001b[0m\u001b[1;32m     44\u001b[0m     \u001b[0;32mreturn\u001b[0m \u001b[0m_wrapper\u001b[0m\u001b[0;34m\u001b[0m\u001b[0;34m\u001b[0m\u001b[0m\n\u001b[1;32m     45\u001b[0m \u001b[0;34m\u001b[0m\u001b[0m\n",
      "\u001b[0;32m~/anaconda3/envs/qbit/lib/python3.8/site-packages/qiskit/providers/aer/aerjob.py\u001b[0m in \u001b[0;36mresult\u001b[0;34m(self, timeout)\u001b[0m\n\u001b[1;32m    100\u001b[0m             \u001b[0mconcurrent\u001b[0m\u001b[0;34m.\u001b[0m\u001b[0mfutures\u001b[0m\u001b[0;34m.\u001b[0m\u001b[0mCancelledError\u001b[0m\u001b[0;34m:\u001b[0m \u001b[0;32mif\u001b[0m \u001b[0mjob\u001b[0m \u001b[0mcancelled\u001b[0m \u001b[0mbefore\u001b[0m \u001b[0mcompleted\u001b[0m\u001b[0;34m.\u001b[0m\u001b[0;34m\u001b[0m\u001b[0;34m\u001b[0m\u001b[0m\n\u001b[1;32m    101\u001b[0m         \"\"\"\n\u001b[0;32m--> 102\u001b[0;31m         \u001b[0;32mreturn\u001b[0m \u001b[0mself\u001b[0m\u001b[0;34m.\u001b[0m\u001b[0m_future\u001b[0m\u001b[0;34m.\u001b[0m\u001b[0mresult\u001b[0m\u001b[0;34m(\u001b[0m\u001b[0mtimeout\u001b[0m\u001b[0;34m=\u001b[0m\u001b[0mtimeout\u001b[0m\u001b[0;34m)\u001b[0m\u001b[0;34m\u001b[0m\u001b[0;34m\u001b[0m\u001b[0m\n\u001b[0m\u001b[1;32m    103\u001b[0m \u001b[0;34m\u001b[0m\u001b[0m\n\u001b[1;32m    104\u001b[0m     \u001b[0;34m@\u001b[0m\u001b[0mrequires_submit\u001b[0m\u001b[0;34m\u001b[0m\u001b[0;34m\u001b[0m\u001b[0m\n",
      "\u001b[0;32m~/anaconda3/envs/qbit/lib/python3.8/concurrent/futures/_base.py\u001b[0m in \u001b[0;36mresult\u001b[0;34m(self, timeout)\u001b[0m\n\u001b[1;32m    432\u001b[0m                 \u001b[0;32mreturn\u001b[0m \u001b[0mself\u001b[0m\u001b[0;34m.\u001b[0m\u001b[0m__get_result\u001b[0m\u001b[0;34m(\u001b[0m\u001b[0;34m)\u001b[0m\u001b[0;34m\u001b[0m\u001b[0;34m\u001b[0m\u001b[0m\n\u001b[1;32m    433\u001b[0m \u001b[0;34m\u001b[0m\u001b[0m\n\u001b[0;32m--> 434\u001b[0;31m             \u001b[0mself\u001b[0m\u001b[0;34m.\u001b[0m\u001b[0m_condition\u001b[0m\u001b[0;34m.\u001b[0m\u001b[0mwait\u001b[0m\u001b[0;34m(\u001b[0m\u001b[0mtimeout\u001b[0m\u001b[0;34m)\u001b[0m\u001b[0;34m\u001b[0m\u001b[0;34m\u001b[0m\u001b[0m\n\u001b[0m\u001b[1;32m    435\u001b[0m \u001b[0;34m\u001b[0m\u001b[0m\n\u001b[1;32m    436\u001b[0m             \u001b[0;32mif\u001b[0m \u001b[0mself\u001b[0m\u001b[0;34m.\u001b[0m\u001b[0m_state\u001b[0m \u001b[0;32min\u001b[0m \u001b[0;34m[\u001b[0m\u001b[0mCANCELLED\u001b[0m\u001b[0;34m,\u001b[0m \u001b[0mCANCELLED_AND_NOTIFIED\u001b[0m\u001b[0;34m]\u001b[0m\u001b[0;34m:\u001b[0m\u001b[0;34m\u001b[0m\u001b[0;34m\u001b[0m\u001b[0m\n",
      "\u001b[0;32m~/anaconda3/envs/qbit/lib/python3.8/threading.py\u001b[0m in \u001b[0;36mwait\u001b[0;34m(self, timeout)\u001b[0m\n\u001b[1;32m    300\u001b[0m         \u001b[0;32mtry\u001b[0m\u001b[0;34m:\u001b[0m    \u001b[0;31m# restore state no matter what (e.g., KeyboardInterrupt)\u001b[0m\u001b[0;34m\u001b[0m\u001b[0;34m\u001b[0m\u001b[0m\n\u001b[1;32m    301\u001b[0m             \u001b[0;32mif\u001b[0m \u001b[0mtimeout\u001b[0m \u001b[0;32mis\u001b[0m \u001b[0;32mNone\u001b[0m\u001b[0;34m:\u001b[0m\u001b[0;34m\u001b[0m\u001b[0;34m\u001b[0m\u001b[0m\n\u001b[0;32m--> 302\u001b[0;31m                 \u001b[0mwaiter\u001b[0m\u001b[0;34m.\u001b[0m\u001b[0macquire\u001b[0m\u001b[0;34m(\u001b[0m\u001b[0;34m)\u001b[0m\u001b[0;34m\u001b[0m\u001b[0;34m\u001b[0m\u001b[0m\n\u001b[0m\u001b[1;32m    303\u001b[0m                 \u001b[0mgotit\u001b[0m \u001b[0;34m=\u001b[0m \u001b[0;32mTrue\u001b[0m\u001b[0;34m\u001b[0m\u001b[0;34m\u001b[0m\u001b[0m\n\u001b[1;32m    304\u001b[0m             \u001b[0;32melse\u001b[0m\u001b[0;34m:\u001b[0m\u001b[0;34m\u001b[0m\u001b[0;34m\u001b[0m\u001b[0m\n",
      "\u001b[0;31mKeyboardInterrupt\u001b[0m: "
     ]
    }
   ],
   "source": [
    "from vqls_redcal_utils import sample_cost_function\n",
    "\n",
    "sum_coefficient = np.sum(coeffs_An)\n",
    "coeffs_An = [c/sum_coefficient for c in coeffs_An]\n",
    "\n",
    "out = minimize(sample_cost_function, \n",
    "               x0=[float(random.randint(0,3000))/1000 for i in range(0, 9)], \n",
    "               args = (ctrl_An, ctrl_An_name,\n",
    "                       ctrl_An_dagger, ctrl_An_dagger_name, \n",
    "                       coeffs_An, \n",
    "                       ctrl_Ub_mat_dagger),\n",
    "               method=\"COBYLA\", options={'maxiter':200, 'disp':True})\n",
    "print(out)"
   ]
  },
  {
   "cell_type": "markdown",
   "metadata": {},
   "source": [
    "\n",
    "\n",
    "## 4. Acknowledgements\n",
    "\n",
    "This implementation is based on the work presented in the research paper \"Variational Quantum Linear Solver: A Hybrid Algorithm for Linear Systems\", written by Carlos Bravo-Prieto, Ryan LaRose, M. Cerezo, Yiğit Subaşı, Lukasz Cincio, and Patrick J. Coles, which is available at [this](https://arxiv.org/abs/1909.05820) link.\n",
    "\n",
    "Special thanks to Carlos Bravo-Prieto for personally helping me out, by answering some of my questions concerning the paper!"
   ]
  },
  {
   "cell_type": "code",
   "execution_count": null,
   "metadata": {},
   "outputs": [],
   "source": [
    "import qiskit.tools.jupyter\n",
    "%qiskit_version_table"
   ]
  }
 ],
 "metadata": {
  "kernelspec": {
   "display_name": "Python 3.9.7 ('qiskit')",
   "language": "python",
   "name": "python3"
  },
  "language_info": {
   "codemirror_mode": {
    "name": "ipython",
    "version": 3
   },
   "file_extension": ".py",
   "mimetype": "text/x-python",
   "name": "python",
   "nbconvert_exporter": "python",
   "pygments_lexer": "ipython3",
   "version": "3.9.7"
  },
  "vscode": {
   "interpreter": {
    "hash": "0495df70a6e72786bce3891dec7c84e0144dfe5e7331ea279abd6abe3a6b85f6"
   }
  },
  "widgets": {
   "application/vnd.jupyter.widget-state+json": {
    "state": {
     "17046f96803d48aa8c63b99a5c89e6f3": {
      "model_module": "@jupyter-widgets/controls",
      "model_module_version": "1.5.0",
      "model_name": "DescriptionStyleModel",
      "state": {
       "_model_module": "@jupyter-widgets/controls",
       "_model_module_version": "1.5.0",
       "_model_name": "DescriptionStyleModel",
       "_view_count": null,
       "_view_module": "@jupyter-widgets/base",
       "_view_module_version": "1.2.0",
       "_view_name": "StyleView",
       "description_width": ""
      }
     },
     "1a46e33438a648dd839fe5fd43b9582b": {
      "model_module": "@jupyter-widgets/controls",
      "model_module_version": "1.5.0",
      "model_name": "DescriptionStyleModel",
      "state": {
       "_model_module": "@jupyter-widgets/controls",
       "_model_module_version": "1.5.0",
       "_model_name": "DescriptionStyleModel",
       "_view_count": null,
       "_view_module": "@jupyter-widgets/base",
       "_view_module_version": "1.2.0",
       "_view_name": "StyleView",
       "description_width": ""
      }
     },
     "1f812fe9a02b41b885f01e3190957acf": {
      "model_module": "@jupyter-widgets/base",
      "model_module_version": "1.2.0",
      "model_name": "LayoutModel",
      "state": {
       "_model_module": "@jupyter-widgets/base",
       "_model_module_version": "1.2.0",
       "_model_name": "LayoutModel",
       "_view_count": null,
       "_view_module": "@jupyter-widgets/base",
       "_view_module_version": "1.2.0",
       "_view_name": "LayoutView",
       "align_content": null,
       "align_items": null,
       "align_self": null,
       "border": null,
       "bottom": null,
       "display": null,
       "flex": null,
       "flex_flow": null,
       "grid_area": null,
       "grid_auto_columns": null,
       "grid_auto_flow": null,
       "grid_auto_rows": null,
       "grid_column": null,
       "grid_gap": null,
       "grid_row": null,
       "grid_template_areas": "\n                                       \". . . . right \"\n                                        ",
       "grid_template_columns": "20% 20% 20% 20% 20%",
       "grid_template_rows": null,
       "height": null,
       "justify_content": null,
       "justify_items": null,
       "left": null,
       "margin": null,
       "max_height": null,
       "max_width": null,
       "min_height": null,
       "min_width": null,
       "object_fit": null,
       "object_position": null,
       "order": null,
       "overflow": null,
       "overflow_x": null,
       "overflow_y": null,
       "padding": null,
       "right": null,
       "top": null,
       "visibility": null,
       "width": "100%"
      }
     },
     "20439ee3a84741dc9a137f7964898fc3": {
      "model_module": "@jupyter-widgets/controls",
      "model_module_version": "1.5.0",
      "model_name": "HTMLModel",
      "state": {
       "_dom_classes": [],
       "_model_module": "@jupyter-widgets/controls",
       "_model_module_version": "1.5.0",
       "_model_name": "HTMLModel",
       "_view_count": null,
       "_view_module": "@jupyter-widgets/controls",
       "_view_module_version": "1.5.0",
       "_view_name": "HTMLView",
       "description": "",
       "description_tooltip": null,
       "layout": "IPY_MODEL_f0e6a746eff140269e915ef65de640c7",
       "placeholder": "​",
       "style": "IPY_MODEL_96316857896d44328b3898d849594ae7",
       "value": "<h5>Status</h5>"
      }
     },
     "246d39f98fdb4892bc1d5bfb88d2f1cd": {
      "model_module": "@jupyter-widgets/controls",
      "model_module_version": "1.5.0",
      "model_name": "DescriptionStyleModel",
      "state": {
       "_model_module": "@jupyter-widgets/controls",
       "_model_module_version": "1.5.0",
       "_model_name": "DescriptionStyleModel",
       "_view_count": null,
       "_view_module": "@jupyter-widgets/base",
       "_view_module_version": "1.2.0",
       "_view_name": "StyleView",
       "description_width": ""
      }
     },
     "27e0478b2a9c4533b2e67eac937cbebc": {
      "model_module": "@jupyter-widgets/controls",
      "model_module_version": "1.5.0",
      "model_name": "HBoxModel",
      "state": {
       "_dom_classes": [],
       "_model_module": "@jupyter-widgets/controls",
       "_model_module_version": "1.5.0",
       "_model_name": "HBoxModel",
       "_view_count": null,
       "_view_module": "@jupyter-widgets/controls",
       "_view_module_version": "1.5.0",
       "_view_name": "HBoxView",
       "box_style": "",
       "children": [
        "IPY_MODEL_ac5a0f78ef8140a2abdf035fd1751936",
        "IPY_MODEL_5ff6f36eaa894a339210fc29fdbeedcf",
        "IPY_MODEL_20439ee3a84741dc9a137f7964898fc3",
        "IPY_MODEL_eef64edafd8f47c885da65fa3ca0ab8a",
        "IPY_MODEL_a38db3ffdfc848c0b0150e42b3509be5"
       ],
       "layout": "IPY_MODEL_fc018f99fbb44aa9beb54a8e6be5209e"
      }
     },
     "2f981df37e914685992f4564103ef872": {
      "model_module": "@jupyter-widgets/base",
      "model_module_version": "1.2.0",
      "model_name": "LayoutModel",
      "state": {
       "_model_module": "@jupyter-widgets/base",
       "_model_module_version": "1.2.0",
       "_model_name": "LayoutModel",
       "_view_count": null,
       "_view_module": "@jupyter-widgets/base",
       "_view_module_version": "1.2.0",
       "_view_name": "LayoutView",
       "align_content": null,
       "align_items": null,
       "align_self": null,
       "border": null,
       "bottom": null,
       "display": null,
       "flex": null,
       "flex_flow": null,
       "grid_area": null,
       "grid_auto_columns": null,
       "grid_auto_flow": null,
       "grid_auto_rows": null,
       "grid_column": null,
       "grid_gap": null,
       "grid_row": null,
       "grid_template_areas": null,
       "grid_template_columns": null,
       "grid_template_rows": null,
       "height": null,
       "justify_content": null,
       "justify_items": null,
       "left": null,
       "margin": null,
       "max_height": null,
       "max_width": null,
       "min_height": null,
       "min_width": null,
       "object_fit": null,
       "object_position": null,
       "order": null,
       "overflow": null,
       "overflow_x": null,
       "overflow_y": null,
       "padding": null,
       "right": null,
       "top": null,
       "visibility": null,
       "width": null
      }
     },
     "3aa67247d1a9433f87b13ce1370c8b1c": {
      "model_module": "@jupyter-widgets/base",
      "model_module_version": "1.2.0",
      "model_name": "LayoutModel",
      "state": {
       "_model_module": "@jupyter-widgets/base",
       "_model_module_version": "1.2.0",
       "_model_name": "LayoutModel",
       "_view_count": null,
       "_view_module": "@jupyter-widgets/base",
       "_view_module_version": "1.2.0",
       "_view_name": "LayoutView",
       "align_content": null,
       "align_items": null,
       "align_self": null,
       "border": null,
       "bottom": null,
       "display": null,
       "flex": null,
       "flex_flow": null,
       "grid_area": null,
       "grid_auto_columns": null,
       "grid_auto_flow": null,
       "grid_auto_rows": null,
       "grid_column": null,
       "grid_gap": null,
       "grid_row": null,
       "grid_template_areas": null,
       "grid_template_columns": null,
       "grid_template_rows": null,
       "height": null,
       "justify_content": null,
       "justify_items": null,
       "left": null,
       "margin": null,
       "max_height": null,
       "max_width": null,
       "min_height": null,
       "min_width": null,
       "object_fit": null,
       "object_position": null,
       "order": null,
       "overflow": null,
       "overflow_x": null,
       "overflow_y": null,
       "padding": null,
       "right": null,
       "top": null,
       "visibility": null,
       "width": "190px"
      }
     },
     "40a8f99fef5b4aad89f533edcb091c3f": {
      "model_module": "@jupyter-widgets/controls",
      "model_module_version": "1.5.0",
      "model_name": "ButtonStyleModel",
      "state": {
       "_model_module": "@jupyter-widgets/controls",
       "_model_module_version": "1.5.0",
       "_model_name": "ButtonStyleModel",
       "_view_count": null,
       "_view_module": "@jupyter-widgets/base",
       "_view_module_version": "1.2.0",
       "_view_name": "StyleView",
       "button_color": null,
       "font_weight": ""
      }
     },
     "46f75da5f7ab4f33b4df8618ccffde6b": {
      "model_module": "@jupyter-widgets/controls",
      "model_module_version": "1.5.0",
      "model_name": "DescriptionStyleModel",
      "state": {
       "_model_module": "@jupyter-widgets/controls",
       "_model_module_version": "1.5.0",
       "_model_name": "DescriptionStyleModel",
       "_view_count": null,
       "_view_module": "@jupyter-widgets/base",
       "_view_module_version": "1.2.0",
       "_view_name": "StyleView",
       "description_width": ""
      }
     },
     "5ff6f36eaa894a339210fc29fdbeedcf": {
      "model_module": "@jupyter-widgets/controls",
      "model_module_version": "1.5.0",
      "model_name": "HTMLModel",
      "state": {
       "_dom_classes": [],
       "_model_module": "@jupyter-widgets/controls",
       "_model_module_version": "1.5.0",
       "_model_name": "HTMLModel",
       "_view_count": null,
       "_view_module": "@jupyter-widgets/controls",
       "_view_module_version": "1.5.0",
       "_view_name": "HTMLView",
       "description": "",
       "description_tooltip": null,
       "layout": "IPY_MODEL_9e036ff6f31e4efb9471d371db06f533",
       "placeholder": "​",
       "style": "IPY_MODEL_1a46e33438a648dd839fe5fd43b9582b",
       "value": "<h5>Backend</h5>"
      }
     },
     "608e06da96f840e890006ad286afc34b": {
      "model_module": "@jupyter-widgets/controls",
      "model_module_version": "1.5.0",
      "model_name": "HTMLModel",
      "state": {
       "_dom_classes": [],
       "_model_module": "@jupyter-widgets/controls",
       "_model_module_version": "1.5.0",
       "_model_name": "HTMLModel",
       "_view_count": null,
       "_view_module": "@jupyter-widgets/controls",
       "_view_module_version": "1.5.0",
       "_view_name": "HTMLView",
       "description": "",
       "description_tooltip": null,
       "layout": "IPY_MODEL_74038cd5fbe8491ba5457f6cc81f7b5a",
       "placeholder": "​",
       "style": "IPY_MODEL_8569084253df4279b752a85c0b99027b",
       "value": "<p style='font-family: IBM Plex Sans, Arial, Helvetica, sans-serif; font-size: 20px; font-weight: medium;'>Circuit Properties</p>"
      }
     },
     "74038cd5fbe8491ba5457f6cc81f7b5a": {
      "model_module": "@jupyter-widgets/base",
      "model_module_version": "1.2.0",
      "model_name": "LayoutModel",
      "state": {
       "_model_module": "@jupyter-widgets/base",
       "_model_module_version": "1.2.0",
       "_model_name": "LayoutModel",
       "_view_count": null,
       "_view_module": "@jupyter-widgets/base",
       "_view_module_version": "1.2.0",
       "_view_name": "LayoutView",
       "align_content": null,
       "align_items": null,
       "align_self": null,
       "border": null,
       "bottom": null,
       "display": null,
       "flex": null,
       "flex_flow": null,
       "grid_area": null,
       "grid_auto_columns": null,
       "grid_auto_flow": null,
       "grid_auto_rows": null,
       "grid_column": null,
       "grid_gap": null,
       "grid_row": null,
       "grid_template_areas": null,
       "grid_template_columns": null,
       "grid_template_rows": null,
       "height": null,
       "justify_content": null,
       "justify_items": null,
       "left": null,
       "margin": "0px 0px 10px 0px",
       "max_height": null,
       "max_width": null,
       "min_height": null,
       "min_width": null,
       "object_fit": null,
       "object_position": null,
       "order": null,
       "overflow": null,
       "overflow_x": null,
       "overflow_y": null,
       "padding": null,
       "right": null,
       "top": null,
       "visibility": null,
       "width": null
      }
     },
     "8569084253df4279b752a85c0b99027b": {
      "model_module": "@jupyter-widgets/controls",
      "model_module_version": "1.5.0",
      "model_name": "DescriptionStyleModel",
      "state": {
       "_model_module": "@jupyter-widgets/controls",
       "_model_module_version": "1.5.0",
       "_model_name": "DescriptionStyleModel",
       "_view_count": null,
       "_view_module": "@jupyter-widgets/base",
       "_view_module_version": "1.2.0",
       "_view_name": "StyleView",
       "description_width": ""
      }
     },
     "917c693fd8d84f2e99f59d75cd5062c2": {
      "model_module": "@jupyter-widgets/controls",
      "model_module_version": "1.5.0",
      "model_name": "GridBoxModel",
      "state": {
       "_dom_classes": [],
       "_model_module": "@jupyter-widgets/controls",
       "_model_module_version": "1.5.0",
       "_model_name": "GridBoxModel",
       "_view_count": null,
       "_view_module": "@jupyter-widgets/controls",
       "_view_module_version": "1.5.0",
       "_view_name": "GridBoxView",
       "box_style": "",
       "children": [
        "IPY_MODEL_b7e87c3bbc404502ab1550d64f86c473"
       ],
       "layout": "IPY_MODEL_1f812fe9a02b41b885f01e3190957acf"
      }
     },
     "96316857896d44328b3898d849594ae7": {
      "model_module": "@jupyter-widgets/controls",
      "model_module_version": "1.5.0",
      "model_name": "DescriptionStyleModel",
      "state": {
       "_model_module": "@jupyter-widgets/controls",
       "_model_module_version": "1.5.0",
       "_model_name": "DescriptionStyleModel",
       "_view_count": null,
       "_view_module": "@jupyter-widgets/base",
       "_view_module_version": "1.2.0",
       "_view_name": "StyleView",
       "description_width": ""
      }
     },
     "9e036ff6f31e4efb9471d371db06f533": {
      "model_module": "@jupyter-widgets/base",
      "model_module_version": "1.2.0",
      "model_name": "LayoutModel",
      "state": {
       "_model_module": "@jupyter-widgets/base",
       "_model_module_version": "1.2.0",
       "_model_name": "LayoutModel",
       "_view_count": null,
       "_view_module": "@jupyter-widgets/base",
       "_view_module_version": "1.2.0",
       "_view_name": "LayoutView",
       "align_content": null,
       "align_items": null,
       "align_self": null,
       "border": null,
       "bottom": null,
       "display": null,
       "flex": null,
       "flex_flow": null,
       "grid_area": null,
       "grid_auto_columns": null,
       "grid_auto_flow": null,
       "grid_auto_rows": null,
       "grid_column": null,
       "grid_gap": null,
       "grid_row": null,
       "grid_template_areas": null,
       "grid_template_columns": null,
       "grid_template_rows": null,
       "height": null,
       "justify_content": null,
       "justify_items": null,
       "left": null,
       "margin": null,
       "max_height": null,
       "max_width": null,
       "min_height": null,
       "min_width": null,
       "object_fit": null,
       "object_position": null,
       "order": null,
       "overflow": null,
       "overflow_x": null,
       "overflow_y": null,
       "padding": null,
       "right": null,
       "top": null,
       "visibility": null,
       "width": "145px"
      }
     },
     "a38db3ffdfc848c0b0150e42b3509be5": {
      "model_module": "@jupyter-widgets/controls",
      "model_module_version": "1.5.0",
      "model_name": "HTMLModel",
      "state": {
       "_dom_classes": [],
       "_model_module": "@jupyter-widgets/controls",
       "_model_module_version": "1.5.0",
       "_model_name": "HTMLModel",
       "_view_count": null,
       "_view_module": "@jupyter-widgets/controls",
       "_view_module_version": "1.5.0",
       "_view_name": "HTMLView",
       "description": "",
       "description_tooltip": null,
       "layout": "IPY_MODEL_2f981df37e914685992f4564103ef872",
       "placeholder": "​",
       "style": "IPY_MODEL_246d39f98fdb4892bc1d5bfb88d2f1cd",
       "value": "<h5>Message</h5>"
      }
     },
     "ac5a0f78ef8140a2abdf035fd1751936": {
      "model_module": "@jupyter-widgets/controls",
      "model_module_version": "1.5.0",
      "model_name": "HTMLModel",
      "state": {
       "_dom_classes": [],
       "_model_module": "@jupyter-widgets/controls",
       "_model_module_version": "1.5.0",
       "_model_name": "HTMLModel",
       "_view_count": null,
       "_view_module": "@jupyter-widgets/controls",
       "_view_module_version": "1.5.0",
       "_view_name": "HTMLView",
       "description": "",
       "description_tooltip": null,
       "layout": "IPY_MODEL_3aa67247d1a9433f87b13ce1370c8b1c",
       "placeholder": "​",
       "style": "IPY_MODEL_46f75da5f7ab4f33b4df8618ccffde6b",
       "value": "<h5>Job ID</h5>"
      }
     },
     "b7e87c3bbc404502ab1550d64f86c473": {
      "model_module": "@jupyter-widgets/controls",
      "model_module_version": "1.5.0",
      "model_name": "ButtonModel",
      "state": {
       "_dom_classes": [],
       "_model_module": "@jupyter-widgets/controls",
       "_model_module_version": "1.5.0",
       "_model_name": "ButtonModel",
       "_view_count": null,
       "_view_module": "@jupyter-widgets/controls",
       "_view_module_version": "1.5.0",
       "_view_name": "ButtonView",
       "button_style": "primary",
       "description": "Clear",
       "disabled": false,
       "icon": "",
       "layout": "IPY_MODEL_f6a39516121743099bece32bc0c3c696",
       "style": "IPY_MODEL_40a8f99fef5b4aad89f533edcb091c3f",
       "tooltip": ""
      }
     },
     "eef64edafd8f47c885da65fa3ca0ab8a": {
      "model_module": "@jupyter-widgets/controls",
      "model_module_version": "1.5.0",
      "model_name": "HTMLModel",
      "state": {
       "_dom_classes": [],
       "_model_module": "@jupyter-widgets/controls",
       "_model_module_version": "1.5.0",
       "_model_name": "HTMLModel",
       "_view_count": null,
       "_view_module": "@jupyter-widgets/controls",
       "_view_module_version": "1.5.0",
       "_view_name": "HTMLView",
       "description": "",
       "description_tooltip": null,
       "layout": "IPY_MODEL_ef270ca07615429ab689824b66fdb1ff",
       "placeholder": "​",
       "style": "IPY_MODEL_17046f96803d48aa8c63b99a5c89e6f3",
       "value": "<h5>Queue</h5>"
      }
     },
     "ef270ca07615429ab689824b66fdb1ff": {
      "model_module": "@jupyter-widgets/base",
      "model_module_version": "1.2.0",
      "model_name": "LayoutModel",
      "state": {
       "_model_module": "@jupyter-widgets/base",
       "_model_module_version": "1.2.0",
       "_model_name": "LayoutModel",
       "_view_count": null,
       "_view_module": "@jupyter-widgets/base",
       "_view_module_version": "1.2.0",
       "_view_name": "LayoutView",
       "align_content": null,
       "align_items": null,
       "align_self": null,
       "border": null,
       "bottom": null,
       "display": null,
       "flex": null,
       "flex_flow": null,
       "grid_area": null,
       "grid_auto_columns": null,
       "grid_auto_flow": null,
       "grid_auto_rows": null,
       "grid_column": null,
       "grid_gap": null,
       "grid_row": null,
       "grid_template_areas": null,
       "grid_template_columns": null,
       "grid_template_rows": null,
       "height": null,
       "justify_content": null,
       "justify_items": null,
       "left": null,
       "margin": null,
       "max_height": null,
       "max_width": null,
       "min_height": null,
       "min_width": null,
       "object_fit": null,
       "object_position": null,
       "order": null,
       "overflow": null,
       "overflow_x": null,
       "overflow_y": null,
       "padding": null,
       "right": null,
       "top": null,
       "visibility": null,
       "width": "70px"
      }
     },
     "f0e6a746eff140269e915ef65de640c7": {
      "model_module": "@jupyter-widgets/base",
      "model_module_version": "1.2.0",
      "model_name": "LayoutModel",
      "state": {
       "_model_module": "@jupyter-widgets/base",
       "_model_module_version": "1.2.0",
       "_model_name": "LayoutModel",
       "_view_count": null,
       "_view_module": "@jupyter-widgets/base",
       "_view_module_version": "1.2.0",
       "_view_name": "LayoutView",
       "align_content": null,
       "align_items": null,
       "align_self": null,
       "border": null,
       "bottom": null,
       "display": null,
       "flex": null,
       "flex_flow": null,
       "grid_area": null,
       "grid_auto_columns": null,
       "grid_auto_flow": null,
       "grid_auto_rows": null,
       "grid_column": null,
       "grid_gap": null,
       "grid_row": null,
       "grid_template_areas": null,
       "grid_template_columns": null,
       "grid_template_rows": null,
       "height": null,
       "justify_content": null,
       "justify_items": null,
       "left": null,
       "margin": null,
       "max_height": null,
       "max_width": null,
       "min_height": null,
       "min_width": null,
       "object_fit": null,
       "object_position": null,
       "order": null,
       "overflow": null,
       "overflow_x": null,
       "overflow_y": null,
       "padding": null,
       "right": null,
       "top": null,
       "visibility": null,
       "width": "95px"
      }
     },
     "f6a39516121743099bece32bc0c3c696": {
      "model_module": "@jupyter-widgets/base",
      "model_module_version": "1.2.0",
      "model_name": "LayoutModel",
      "state": {
       "_model_module": "@jupyter-widgets/base",
       "_model_module_version": "1.2.0",
       "_model_name": "LayoutModel",
       "_view_count": null,
       "_view_module": "@jupyter-widgets/base",
       "_view_module_version": "1.2.0",
       "_view_name": "LayoutView",
       "align_content": null,
       "align_items": null,
       "align_self": null,
       "border": null,
       "bottom": null,
       "display": null,
       "flex": null,
       "flex_flow": null,
       "grid_area": "right",
       "grid_auto_columns": null,
       "grid_auto_flow": null,
       "grid_auto_rows": null,
       "grid_column": null,
       "grid_gap": null,
       "grid_row": null,
       "grid_template_areas": null,
       "grid_template_columns": null,
       "grid_template_rows": null,
       "height": null,
       "justify_content": null,
       "justify_items": null,
       "left": null,
       "margin": null,
       "max_height": null,
       "max_width": null,
       "min_height": null,
       "min_width": null,
       "object_fit": null,
       "object_position": null,
       "order": null,
       "overflow": null,
       "overflow_x": null,
       "overflow_y": null,
       "padding": "0px 0px 0px 0px",
       "right": null,
       "top": null,
       "visibility": null,
       "width": "70px"
      }
     },
     "fc018f99fbb44aa9beb54a8e6be5209e": {
      "model_module": "@jupyter-widgets/base",
      "model_module_version": "1.2.0",
      "model_name": "LayoutModel",
      "state": {
       "_model_module": "@jupyter-widgets/base",
       "_model_module_version": "1.2.0",
       "_model_name": "LayoutModel",
       "_view_count": null,
       "_view_module": "@jupyter-widgets/base",
       "_view_module_version": "1.2.0",
       "_view_name": "LayoutView",
       "align_content": null,
       "align_items": null,
       "align_self": null,
       "border": null,
       "bottom": null,
       "display": null,
       "flex": null,
       "flex_flow": null,
       "grid_area": null,
       "grid_auto_columns": null,
       "grid_auto_flow": null,
       "grid_auto_rows": null,
       "grid_column": null,
       "grid_gap": null,
       "grid_row": null,
       "grid_template_areas": null,
       "grid_template_columns": null,
       "grid_template_rows": null,
       "height": null,
       "justify_content": null,
       "justify_items": null,
       "left": null,
       "margin": "0px 0px 0px 37px",
       "max_height": null,
       "max_width": null,
       "min_height": null,
       "min_width": null,
       "object_fit": null,
       "object_position": null,
       "order": null,
       "overflow": null,
       "overflow_x": null,
       "overflow_y": null,
       "padding": null,
       "right": null,
       "top": null,
       "visibility": null,
       "width": "600px"
      }
     }
    },
    "version_major": 2,
    "version_minor": 0
   }
  }
 },
 "nbformat": 4,
 "nbformat_minor": 2
}
