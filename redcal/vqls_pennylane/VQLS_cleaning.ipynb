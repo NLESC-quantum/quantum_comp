{
 "cells": [
  {
   "cell_type": "markdown",
   "metadata": {
    "tags": [
     "remove_cell"
    ]
   },
   "source": [
    "# The Variational Quantum Linear Solver for Redundant Calibration"
   ]
  },
  {
   "cell_type": "code",
   "execution_count": 1,
   "metadata": {},
   "outputs": [],
   "source": [
    "import qiskit\n",
    "from qiskit import QuantumCircuit, QuantumRegister, ClassicalRegister\n",
    "from qiskit.quantum_info.operators import Operator\n",
    "from qiskit import Aer, transpile, assemble\n",
    "import math\n",
    "import random\n",
    "import numpy as np\n",
    "from scipy.optimize import minimize\n",
    "\n",
    "from vqls_redcal_utils import get_antnennas_response"
   ]
  },
  {
   "cell_type": "markdown",
   "metadata": {},
   "source": [
    "## 1. Redundant Calibration\n",
    "\n",
    "We consider here the case of 5 antennas that are positionned in a row. The positions of the antennas are given by :"
   ]
  },
  {
   "cell_type": "code",
   "execution_count": 2,
   "metadata": {},
   "outputs": [],
   "source": [
    "n_ant = 5\n",
    "xpos = np.linspace(-2, 2, n_ant)[:,None]"
   ]
  },
  {
   "cell_type": "markdown",
   "metadata": {},
   "source": [
    "The magnitude matrix is in this case given by :"
   ]
  },
  {
   "cell_type": "code",
   "execution_count": 3,
   "metadata": {},
   "outputs": [],
   "source": [
    "Mmag = np.matrix(\n",
    "    [[1, 1, 0, 0, 0, 1, 0, 0],     # baseline type 1 (4 rows)\n",
    "     [0, 1, 1, 0, 0, 1, 0, 0],\n",
    "     [0, 0, 1, 1, 0, 1, 0, 0],\n",
    "     [0, 0, 0, 1, 1, 1, 0, 0],\n",
    "     [1, 0, 1, 0, 0, 0, 1, 0],     # baseline type 2 (3 rows)\n",
    "     [0, 1, 0, 1, 0, 0, 1, 0],\n",
    "     [0, 0, 1, 0, 1, 0, 1, 0],\n",
    "     [1, 0, 0, 1, 0, 0, 0, 1],     # baseline type 3 (2 row)\n",
    "     [0, 1, 0, 0, 1, 0, 0, 1],\n",
    "     [1, 0, 0, 0, 0, 0, 0, 0]])    # magnitude constraint"
   ]
  },
  {
   "cell_type": "markdown",
   "metadata": {},
   "source": [
    "The redundant calibration is then reduced to solving the least square problem [https://arxiv.org/pdf/1004.0156.pdf]\n",
    "\n",
    "$$\n",
    "M_{mag} \\theta = b\n",
    "$$\n",
    "\n",
    "where $b$ is given by the response of the antennas. For convenience we have packaged that response in a small method "
   ]
  },
  {
   "cell_type": "code",
   "execution_count": 4,
   "metadata": {},
   "outputs": [],
   "source": [
    "b = get_antnennas_response(xpos)"
   ]
  },
  {
   "cell_type": "markdown",
   "metadata": {},
   "source": [
    "## 2. Variational Quantum Linear Solver\n",
    "\n",
    "The Variational Quantum Linear Solver, or the VQLS is a variational quantum algorithm that utilizes VQE in order to solve systems of linear equations more efficiently than classical computational algorithms. Specifically, if we are given some matrix $\\textbf{A}$, such that $\\textbf{A} |\\textbf{x}\\rangle \\ = \\ |\\textbf{b}\\rangle$, where $|\\textbf{b}\\rangle$ is some known vector, the VQLS algorithm is theoretically able to find a normalized $|x\\rangle$ that is proportional to $|\\textbf{x}\\rangle$, which makes the above relationship true.\n",
    "\n",
    "The output of this algorithm is identical to that of the HHL Quantum Linear-Solving Algorithm, except, while HHL provides a much more favourable computation speedup over VQLS, the variational nature of our algorithm allows for it to be performed on NISQ quantum computers, while HHL would require much more robust quantum hardware, and many more qubits.\n",
    "\n",
    "The details of the algorithm can be found in the original paper :\n",
    "\n",
    "\"Variational Quantum Linear Solver: A Hybrid Algorithm for Linear Systems\", written by Carlos Bravo-Prieto, Ryan LaRose, M. Cerezo, Yiğit Subaşı, Lukasz Cincio, and Patrick J. Coles, which is available at [this](https://arxiv.org/abs/1909.05820) link.\n",
    "\n",
    "And this implementation is largely based on the Qiskit tutorial\n",
    "\n",
    "https://qiskit.org/textbook/ch-paper-implementations/vqls.html\n",
    "\n"
   ]
  },
  {
   "cell_type": "markdown",
   "metadata": {},
   "source": [
    "## 3. Adapting the Redcal problem to VQLS\n",
    "\n",
    "One of the main complication of VQLS for redundant calibration is that the matrix $\\textbf{A}$ must be decomposed as a sum of unitary matrices :\n",
    "\n",
    "$$A \\ = \\ \\displaystyle\\sum_{n} c_n \\ A_n$$\n",
    "\n",
    "The matrix $M_{mag}$ is not even square which makes it difficult to \n",
    "apply VQLS to Redcal.\n",
    "\n",
    "### Transforming a least square to a linear system\n",
    "\n",
    "In order to be able to use VQLS for redundant calibration we can manipulate our least square problem as followed :\n",
    "\n",
    "$$ M_{mag} \\theta = b $$\n",
    "\n",
    "Multiplying on both sides by $M_{mag}^{\\dagger}$ one obtain:\n",
    "\n",
    "$$ M_{mag}^{\\dagger} M_{mag} \\theta = M_{mag}^{\\dagger} b $$\n",
    "\n",
    "The matrix $A = M_{mag}^{\\dagger} M_{mag}$ is now symmetric which is a good start to find a unitary decomposition of it. One then  obtain the linear system\n",
    "\n",
    "$$ A \\theta = \\tilde{b} $$\n",
    "\n",
    "with $\\tilde{b} = M_{mag}^{\\dagger} b$"
   ]
  },
  {
   "cell_type": "code",
   "execution_count": 5,
   "metadata": {},
   "outputs": [
    {
     "name": "stdout",
     "output_type": "stream",
     "text": [
      "[[4 1 1 1 0 1 1 1]\n",
      " [1 4 1 1 1 2 1 1]\n",
      " [1 1 4 1 1 2 2 0]\n",
      " [1 1 1 4 1 2 1 1]\n",
      " [0 1 1 1 3 1 1 1]\n",
      " [1 2 2 2 1 4 0 0]\n",
      " [1 1 2 1 1 0 3 0]\n",
      " [1 1 0 1 1 0 0 2]]\n"
     ]
    }
   ],
   "source": [
    "A = Mmag.T@Mmag\n",
    "print(A)"
   ]
  },
  {
   "cell_type": "code",
   "execution_count": 6,
   "metadata": {},
   "outputs": [
    {
     "name": "stdout",
     "output_type": "stream",
     "text": [
      "[[-0.29071421]\n",
      " [-0.73695686]\n",
      " [-0.98960915]\n",
      " [-0.25177687]\n",
      " [ 0.02364886]\n",
      " [-1.2091614 ]\n",
      " [-0.42849588]\n",
      " [ 0.51495317]]\n"
     ]
    }
   ],
   "source": [
    "btilde = Mmag.T@b\n",
    "print(btilde)"
   ]
  },
  {
   "cell_type": "markdown",
   "metadata": {},
   "source": [
    "### Unitary decomposition \n",
    "\n",
    "Unitary decomposition of matrices is currently an active topic of research given the importance of such decompoisition in quantum computing See for example [this](https://arxiv.org/pdf/2101.02993.pdf).\n",
    "\n",
    "While it is difficult at the moment to find the best decomposition of our matrix $A$, we can rely for the moment on techniques explained [here](https://math.stackexchange.com/questions/1710247/every-matrix-can-be-written-as-a-sum-of-unitary-matrices/1710390#1710390), to decompose our matrix in 4 unitary matrices.\n",
    "\n",
    "In this example the contribution of the last two matrices cancel each other and we can therefore limit the decomposition to the 2 unitary matrices"
   ]
  },
  {
   "cell_type": "code",
   "execution_count": 7,
   "metadata": {},
   "outputs": [
    {
     "name": "stdout",
     "output_type": "stream",
     "text": [
      "[[4.+0.j 1.+0.j 1.+0.j 1.+0.j 0.+0.j 1.+0.j 1.+0.j 1.+0.j]\n",
      " [1.+0.j 4.+0.j 1.+0.j 1.+0.j 1.+0.j 2.+0.j 1.+0.j 1.+0.j]\n",
      " [1.+0.j 1.+0.j 4.+0.j 1.+0.j 1.+0.j 2.+0.j 2.+0.j 0.+0.j]\n",
      " [1.+0.j 1.+0.j 1.+0.j 4.+0.j 1.+0.j 2.+0.j 1.+0.j 1.+0.j]\n",
      " [0.+0.j 1.+0.j 1.+0.j 1.+0.j 3.+0.j 1.+0.j 1.+0.j 1.+0.j]\n",
      " [1.+0.j 2.+0.j 2.+0.j 2.+0.j 1.+0.j 4.+0.j 0.+0.j 0.+0.j]\n",
      " [1.+0.j 1.+0.j 2.+0.j 1.+0.j 1.+0.j 0.+0.j 3.+0.j 0.+0.j]\n",
      " [1.+0.j 1.+0.j 0.+0.j 1.+0.j 1.+0.j 0.+0.j 0.+0.j 2.+0.j]]\n"
     ]
    }
   ],
   "source": [
    "from unitary_decomp import unitary_decomposition, unitary_recomposition\n",
    "coeffs_An, An = unitary_decomposition(A)\n",
    "coeffs_An, An = coeffs_An[:2], An[:2]\n",
    "print(unitary_recomposition(coeffs_An, An))"
   ]
  },
  {
   "cell_type": "markdown",
   "metadata": {},
   "source": [
    "### Creation of the $\\tilde{b}$ vector\n",
    "\n",
    "VQLS aslo require an operator that creates the rhs of the linear system from the $|0\\rangle$ state. In other words we define an operator $U_b$ so that :\n",
    "\n",
    "$$\n",
    "U_b|0\\rangle = |\\tilde{b}\\rangle\n",
    "$$\n",
    "\n",
    "We do that by using Qiskit to create a circuit, initialize the state of the circuit to $|\\tilde{b}\\rangle$ and extract the matrix of the circuit. There might be better ways of doing this."
   ]
  },
  {
   "cell_type": "code",
   "execution_count": 8,
   "metadata": {},
   "outputs": [
    {
     "name": "stdout",
     "output_type": "stream",
     "text": [
      "[[-0.15360961+0.j  0.38939842-0.j  0.1979946 +0.j -0.50191381+0.j\n",
      "   0.16432128+0.j -0.41655237+0.j -0.21180137+0.j  0.53691381-0.j]\n",
      " [-0.38939842-0.j -0.15360961+0.j  0.50191381+0.j  0.1979946 +0.j\n",
      "   0.41655237+0.j  0.16432128+0.j -0.53691381-0.j -0.21180137+0.j]\n",
      " [-0.52289661+0.j  0.13303562-0.j -0.40567744+0.j  0.10321266-0.j\n",
      "   0.5593598 -0.j -0.14231261+0.j  0.43396658-0.j -0.11041   +0.j]\n",
      " [-0.13303562-0.j -0.52289661-0.j -0.10321266-0.j -0.40567744-0.j\n",
      "   0.14231261+0.j  0.5593598 +0.j  0.11041   +0.j  0.43396658+0.j]\n",
      " [ 0.01249575+0.j -0.63890516-0.j -0.00692173-0.j  0.35390645+0.j\n",
      "   0.01168118+0.j -0.59725661-0.j -0.00647052-0.j  0.33083621+0.j]\n",
      " [-0.63890516+0.j -0.01249575+0.j  0.35390645+0.j  0.00692173-0.j\n",
      "  -0.59725661+0.j -0.01168118+0.j  0.33083621+0.j  0.00647052-0.j]\n",
      " [-0.22641165-0.j  0.27209455+0.j -0.40873958-0.j  0.49121065+0.j\n",
      "  -0.21165247-0.j  0.25435743+0.j -0.38209492-0.j  0.45918992+0.j]\n",
      " [ 0.27209455+0.j  0.22641165+0.j  0.49121065+0.j  0.40873958+0.j\n",
      "   0.25435743+0.j  0.21165247+0.j  0.45918992+0.j  0.38209492+0.j]]\n"
     ]
    }
   ],
   "source": [
    "from get_b import get_b_unitmatrix\n",
    "norm_btilde, Ub_mat = get_b_unitmatrix(btilde, 3, decimals=12)\n",
    "print(Ub_mat)"
   ]
  },
  {
   "cell_type": "markdown",
   "metadata": {},
   "source": [
    "## 4. Qiskit Implementation\n",
    "\n",
    "### Wave function Ansatz\n",
    "\n",
    "VQLS works by optimizing a wave function ansatz $|\\psi(\\alpha)\\rangle$ that depends on variational parameters $\\alpha$ and that should approximate the solution of the linear system, i.e. $|\\psi(\\alpha)\\rangle\\approx|\\theta\\rangle$ in our case.\n",
    "\n",
    "The creation of this wave function ansatz is done through a module $V(\\alpha)$ that acts as follows:\n",
    "\n",
    "$$\n",
    "V(\\alpha)|0\\rangle = |\\psi(\\alpha)\\rangle\n",
    "$$\n",
    "\n",
    "Many possibilities exists to define $V(\\alpha)$. We use here a simple module described in the original paper"
   ]
  },
  {
   "cell_type": "code",
   "execution_count": 9,
   "metadata": {},
   "outputs": [
    {
     "data": {
      "image/png": "[encoded data removed]",
      "text/plain": [
       "<Figure size 507.997x204.68 with 1 Axes>"
      ]
     },
     "execution_count": 9,
     "metadata": {},
     "output_type": "execute_result"
    }
   ],
   "source": [
    "from vqls_redcal_utils import apply_fixed_ansatz\n",
    "circ = QuantumCircuit(3)\n",
    "apply_fixed_ansatz(circ, [0, 1, 2], [[1, 1, 1], [1, 1, 1], [1, 1, 1]])\n",
    "circ.draw(output='mpl')"
   ]
  },
  {
   "cell_type": "markdown",
   "metadata": {},
   "source": [
    "### Hadamard Test\n",
    "\n",
    "VQLS relies on the Hadammard test to compute terms such as \n",
    "\n",
    "$$\\langle \\Phi | \\Phi \\rangle \\ = \\ \\langle \\psi(k) | A^{\\dagger} A |\\psi(k) \\rangle \\ = \\ \\langle 0 | V(k)^{\\dagger} A^{\\dagger} A V(k) |0\\rangle \\ = \\ \\langle 0 | V(k)^{\\dagger} \\Big( \\displaystyle\\sum_{n} c_n \\ A_n \\Big)^{\\dagger} \\Big( \\displaystyle\\sum_{n} c_n \\ A_n \\Big) V(k) |0\\rangle$$\n",
    "\n",
    "\n",
    "\n",
    "<br>\n",
    "\n",
    "\n",
    "\n",
    "$$\\Rightarrow \\ \\langle \\Phi | \\Phi \\rangle \\ = \\ \\displaystyle\\sum_{m} \\displaystyle\\sum_{n} c_m^{*} c_n \\langle 0 | V(k)^{\\dagger} A_m^{\\dagger} A_n V(k) |0\\rangle$$\n",
    "\n",
    "As explained in the original paper the hadamard test uses an auxiliary qbit that controls the applications of the $A_n$ and $A_m^\\dagger$ operators, in other words:\n",
    "\n",
    "$$\n",
    "A_m |0\\rangle|\\psi(\\alpha) = |0\\rangle|\\psi(\\alpha)\\rangle\n",
    "$$\n",
    "\n",
    "and\n",
    "\n",
    "$$\n",
    "A_m |1\\rangle|\\psi(\\alpha) = |1\\rangle A_m|\\psi(\\alpha)\\rangle\n",
    "$$\n",
    "\n",
    "We therefore need to define these controlled operators for the $A_n$ matrices and their conjugate transpose"
   ]
  },
  {
   "cell_type": "code",
   "execution_count": 10,
   "metadata": {},
   "outputs": [
    {
     "data": {
      "image/png": "[encoded data removed]",
      "text/plain": [
       "<Figure size 146.797x264.88 with 1 Axes>"
      ]
     },
     "execution_count": 10,
     "metadata": {},
     "output_type": "execute_result"
    }
   ],
   "source": [
    "from vqls_redcal_utils import get_controlled_operator_matrix, apply_controlled_gate\n",
    "\n",
    "ctrl_An = get_controlled_operator_matrix(An, 0, [1,2,3])\n",
    "ctrl_An_name = ['$A_0$', '$A_1$']\n",
    "\n",
    "ctrl_An_dagger = get_controlled_operator_matrix([np.conjugate(a).T for a in An], 0, [1,2,3])\n",
    "ctrl_An_dagger_name = ['$A_0^\\dagger$', '$A_1^\\dagger$']\n",
    "\n",
    "circ = QuantumCircuit(4)\n",
    "apply_controlled_gate(circ, ctrl_An[0], 0, [1,2,3], name=ctrl_An_name[0])\n",
    "circ.draw(output='mpl')"
   ]
  },
  {
   "cell_type": "code",
   "execution_count": 11,
   "metadata": {},
   "outputs": [
    {
     "data": {
      "image/png": "[encoded data removed]",
      "text/plain": [
       "<Figure size 688.597x264.88 with 1 Axes>"
      ]
     },
     "execution_count": 11,
     "metadata": {},
     "output_type": "execute_result"
    }
   ],
   "source": [
    "# Creates the Hadamard test\n",
    "from vqls_redcal_utils import hadammard_test\n",
    "circ = QuantumCircuit(4)\n",
    "hadammard_test(circ, [ctrl_An[0], ctrl_An_dagger[1]],  ['cA0', 'cA1'], \n",
    "               [1, 2, 3], 0, [[1, 1, 1], [1, 1, 1], [1, 1, 1]], imag=True)\n",
    "circ.draw(output='mpl')"
   ]
  },
  {
   "cell_type": "markdown",
   "metadata": {},
   "source": [
    "### Computing  $|\\langle b | \\Phi \\rangle|^2$\n",
    "\n",
    "VQLS also relies on the calculation of the term :\n",
    "\n",
    "$$|\\langle b | \\Phi \\rangle|^2 \\ = \\ \\displaystyle\\sum_{m} \\displaystyle\\sum_{n} c_m c_n \\langle 0 | U^{\\dagger} A_n V(k) | 0 \\rangle \\langle 0 | U^{\\dagger} A_m V(k) | 0 \\rangle$$\n",
    "\n",
    "\n",
    "There is a sophisticated way of solving for this value, using a newly-proposed subroutine called the **Hadamard Overlap Test** (see cited paper), but we will just be using a standard Hadamard Test, where we control each matrix. This unfortunately requires the use of an extra auxiliary qubit. We essentially just place a control on each of the gates involved in the auxiliary, the $|b\\rangle$ preparation unitary, and the $A_n$ unitaries. \n",
    "\n",
    "We already have the controlled version of the $A_n$ operators. The circuit of the **controlled** wave function ansatz can be obtained via : \n"
   ]
  },
  {
   "cell_type": "code",
   "execution_count": 12,
   "metadata": {},
   "outputs": [
    {
     "data": {
      "image/png": "[encoded data removed]",
      "text/plain": [
       "<Figure size 1377.19x325.08 with 1 Axes>"
      ]
     },
     "execution_count": 12,
     "metadata": {},
     "output_type": "execute_result"
    }
   ],
   "source": [
    "# Creates controlled anstaz for calculating |<b|psi>|^2 with a Hadamard test\n",
    "from vqls_redcal_utils import apply_control_fixed_ansatz\n",
    "q_reg = QuantumRegister(5)\n",
    "circ = QuantumCircuit(q_reg)\n",
    "apply_control_fixed_ansatz(circ, [1, 2, 3], [[1, 1, 1], [1, 1, 1], [1, 1, 1]], 0, q_reg)\n",
    "circ.draw(output='mpl')"
   ]
  },
  {
   "cell_type": "markdown",
   "metadata": {},
   "source": [
    "The circuit that make a controlled application of the right hand side operator is obtained in the same way as the controlled version of the $A_n$ matrices:"
   ]
  },
  {
   "cell_type": "code",
   "execution_count": 13,
   "metadata": {},
   "outputs": [
    {
     "data": {
      "image/png": "[encoded data removed]",
      "text/plain": [
       "<Figure size 146.797x264.88 with 1 Axes>"
      ]
     },
     "execution_count": 13,
     "metadata": {},
     "output_type": "execute_result"
    }
   ],
   "source": [
    "ctrl_Ub_mat = get_controlled_operator_matrix([Ub_mat], 0, [1,2,3])[0].real\n",
    "ctrl_Ub_mat_dagger = get_controlled_operator_matrix([Ub_mat.T], 0, [1,2,3])[0].real\n",
    "\n",
    "circ = QuantumCircuit(4)\n",
    "apply_controlled_gate(circ, ctrl_Ub_mat, 0, [1,2,3], name='$U_b$')\n",
    "circ.draw(output='mpl')"
   ]
  },
  {
   "cell_type": "code",
   "execution_count": 14,
   "metadata": {},
   "outputs": [
    {
     "data": {
      "image/png": "[encoded data removed]",
      "text/plain": [
       "<Figure size 1618.14x325.08 with 1 Axes>"
      ]
     },
     "execution_count": 14,
     "metadata": {},
     "output_type": "execute_result"
    }
   ],
   "source": [
    "from vqls_redcal_utils import special_hadammard_test\n",
    "\n",
    "q_reg = QuantumRegister(5)\n",
    "circ = QuantumCircuit(q_reg)\n",
    "special_hadammard_test(circ, ctrl_An[0], '$A_0$', ctrl_Ub_mat, \n",
    "                       [1, 2, 3], 0, \n",
    "                       [[1, 1, 1], [1, 1, 1], [1, 1, 1]], \n",
    "                       q_reg)\n",
    "circ.draw(output='mpl')"
   ]
  },
  {
   "cell_type": "markdown",
   "metadata": {},
   "source": [
    "### Computing the cost function of the optimization process.\n",
    "\n",
    "We now have to compute the cost function of the VQLS circuit. This is rather convoluted and has been wrapped in the function `calculate_cost_function` that we can use with the `scipy.minimize` method."
   ]
  },
  {
   "cell_type": "code",
   "execution_count": 15,
   "metadata": {},
   "outputs": [
    {
     "name": "stdout",
     "output_type": "stream",
     "text": [
      "(0.9711531573684242+3.536648258830766e-16j)\n",
      "(0.9706186625976733+6.546188412399046e-16j)\n",
      "(0.6406958665473663+1.0019695609443475e-14j)\n",
      "(0.9925401273372394+1.4052522756396184e-16j)\n",
      "(0.38082845783937935+5.5522691095569465e-15j)\n",
      "(0.6017494820577449+1.5231041815813762e-14j)\n",
      "(0.6839399350506457-1.2747825425050585e-14j)\n",
      "(0.26619430856620285+1.715202672695543e-14j)\n",
      "(0.17078289768210986+6.422018670631321e-16j)\n",
      "(0.5044088559981413-5.590191791871599e-16j)\n",
      "(0.10670438030229401+5.490676877329208e-15j)\n",
      "(0.1256983263185294+1.982147786457705e-15j)\n",
      "(0.15135603318030177+1.0763231338724335e-14j)\n",
      "(0.13028549896829378+7.972347111322271e-15j)\n",
      "(0.10324643815484857-3.182187500368244e-15j)\n",
      "(0.12423545252654444-4.772288848511651e-15j)\n",
      "(0.15150082464285142-1.598580588237403e-15j)\n",
      "(0.13692145983673765-2.4582326900154195e-15j)\n",
      "(0.20657106387569657-2.5316669765780327e-15j)\n",
      "(0.09833039023312784-3.1857905266703877e-15j)\n",
      "(0.10928821041451087+2.081419519196968e-15j)\n",
      "(0.039156613609507174+7.236960127327056e-15j)\n",
      "(0.023120829528928466+6.716365716071034e-15j)\n",
      "(0.08947466602837784+1.87279539086607e-14j)\n",
      "(0.05525164945229355+4.3109556276383975e-15j)\n",
      "(0.034465823649119987+9.516949543796726e-15j)\n",
      "(0.03177380629496129+5.26225823002088e-15j)\n",
      "(0.027672111258805643+7.145131277813013e-15j)\n",
      "(0.037437867209594966+5.9572889036106404e-15j)\n",
      "(0.04690964960031918+2.0842956343604093e-15j)\n",
      "(0.042847631740007275+1.0714559451977044e-14j)\n",
      "(0.04626286070855323+1.4853124858160532e-15j)\n",
      "(0.023830159317149713+7.500051630530494e-16j)\n",
      "(0.024218042608687207+3.3143803971881475e-15j)\n",
      "(0.019190917026098986+1.0953022246283916e-14j)\n",
      "(0.01146188353967581+3.417753755325145e-15j)\n",
      "(0.01266540193232113+5.45279881603873e-15j)\n",
      "(0.010716897249830493+1.0304792989692162e-14j)\n",
      "(0.00984307500246473+5.2589047477511124e-15j)\n",
      "(0.011038305201611975+1.1995917170687504e-14j)\n",
      "(0.01846774425020503+5.553845757542627e-15j)\n",
      "(0.011782660744745765+9.63239214375981e-15j)\n",
      "(0.008028658855193327+5.915532355288252e-15j)\n",
      "(0.009190442071859706+4.929139372805746e-15j)\n",
      "(0.007557916863254022+3.846183456546574e-15j)\n",
      "(0.007783615904029317+5.600431708236718e-15j)\n",
      "(0.013119545054693704-4.749398694168031e-16j)\n",
      "(0.008304127382941506+7.052811976039252e-15j)\n",
      "(0.00809479144834413+7.984524005031281e-15j)\n",
      "(0.006728209900977777+7.484316741537267e-15j)\n",
      "(0.007601242296948474+7.392413369607627e-15j)\n",
      "(0.007342420578160813+9.410685356211875e-15j)\n",
      "(0.0070533955476164145+6.058085315878684e-15j)\n",
      "(0.006711799218659831+1.1703581831760902e-14j)\n",
      "(0.005975736200931503+5.86885868106724e-15j)\n",
      "(0.006545697418982477+2.3838979422693563e-15j)\n",
      "(0.006235057766062035+1.0519717566338855e-14j)\n",
      "(0.006793916094952168+7.828723567983158e-15j)\n",
      "(0.005969707697126236+8.015931467665491e-15j)\n",
      "(0.005879872462257296+5.49638728821408e-15j)\n",
      "(0.005942769888108934+6.508914820521429e-15j)\n",
      "(0.005837197671507144+1.1050022568275795e-15j)\n",
      "(0.005943094485190148+4.070731069040203e-15j)\n",
      "(0.0059060273807548525+9.268014697802344e-15j)\n",
      "(0.005988529223612815+7.307463219360248e-15j)\n",
      "(0.006144226978085698+2.7374238877335505e-15j)\n",
      "(0.00567122188295055+5.687551773994984e-16j)\n",
      "(0.005882856636163614+3.488051877171415e-15j)\n",
      "(0.005538647061788637+7.643650306305843e-15j)\n",
      "(0.005255966919154864+1.1122362751375275e-14j)\n",
      "(0.005519288242356812+1.2262266337144412e-14j)\n",
      "(0.0052958036084078675+3.3164842203306667e-15j)\n",
      "(0.0050136517983006+7.410424850519721e-15j)\n",
      "(0.005045004096895567+8.670599283189065e-15j)\n",
      "(0.00502866234794197+8.34523464750633e-15j)\n",
      "(0.004885996130209569+2.7320520778638206e-15j)\n",
      "(0.005110447744893332+8.058338964045814e-15j)\n",
      "(0.004608493480931064+5.7281654363521314e-15j)\n",
      "(0.004447182396575378+6.867049732537153e-15j)\n",
      "(0.004831984074336715+1.0708741808480653e-14j)\n",
      "(0.004507654001393191+8.019198954253517e-15j)\n",
      "(0.004175833792077421+9.28623226290906e-15j)\n",
      "(0.004271947077115201+8.821040068643788e-15j)\n",
      "(0.004255989847289587-2.1976902410724382e-15j)\n",
      "(0.004191074482758572+7.079829752205137e-15j)\n",
      "(0.00420701624018216+4.852552569427069e-15j)\n",
      "(0.004217149611412396+2.458609152553504e-15j)\n",
      "(0.004523514524864103+3.82783459625457e-15j)\n",
      "(0.004087537247173034+1.5100744131437623e-14j)\n",
      "(0.004075235042451553+7.104704411867343e-15j)\n",
      "(0.004072812125422098+6.8469862540653595e-15j)\n",
      "(0.004064842059896767+7.713840510177917e-15j)\n",
      "(0.00406827760029338+5.501108100039309e-15j)\n",
      "(0.004070250192914737+8.581270139065007e-15j)\n",
      "(0.004108749373783693+9.3716516316708e-15j)\n",
      "(0.004089738623898609+2.495391379229511e-15j)\n",
      "(0.00419510536385459+7.501067060858164e-15j)\n",
      "(0.003871316343699749+9.163983727780276e-15j)\n",
      "(0.0038480450458193705+2.3768629598323004e-15j)\n",
      "(0.0038748317247970787+7.903895989008213e-15j)\n",
      "(0.003967846305845457+2.616717536373728e-15j)\n",
      "(0.003803944268285231+8.472430174332331e-15j)\n",
      "(0.0036819074380340933+9.003079160583078e-15j)\n",
      "(0.003729420838816777+1.5787121834892876e-15j)\n",
      "(0.0036467643914851466+1.0626271539944466e-14j)\n",
      "(0.0036623162821872723+4.803620604835615e-15j)\n",
      "(0.0035952665081474544+3.1966135046943596e-15j)\n",
      "(0.0035350732569047194+4.847439805262661e-15j)\n",
      "(0.003414703470781766+2.6887910832774097e-15j)\n",
      "(0.00336919810885572+4.292632156484041e-15j)\n",
      "(0.0036282916969058165+9.316264886325925e-15j)\n",
      "(0.0033524359910621637+5.8894101693049815e-15j)\n",
      "(0.003223043367956535+1.0009590524000251e-14j)\n",
      "(0.003108717106481085+1.0494978543679388e-15j)\n",
      "(0.0030543241867209137+3.907275273521256e-15j)\n",
      "(0.002971874704568722+9.038389808537401e-15j)\n",
      "(0.0030037885446567714+5.109474338647986e-15j)\n",
      "(0.003030378318459981+7.466173434461161e-15j)\n",
      "(0.0030659794005591934-3.0655811984552212e-15j)\n",
      "(0.0029665173732777994+7.741860115701367e-15j)\n",
      "(0.0029024826059377284+6.7558160174677905e-15j)\n",
      "(0.0028868659244601913-4.451923342031945e-15j)\n",
      "(0.002851527399350684+1.2668503770958459e-14j)\n",
      "(0.0029491770967340347+1.1758520219478577e-14j)\n",
      "(0.002899413558770325+6.092580836476776e-15j)\n",
      "(0.0028369975052457974+1.8437263480248066e-15j)\n",
      "(0.002758707454494913+2.102054201559674e-15j)\n",
      "(0.0027701544688806257+7.124031640740443e-15j)\n",
      "(0.0027771258573227042+1.0533192031680692e-15j)\n",
      "(0.0027116002600822142+4.7130096284641435e-15j)\n",
      "(0.0026734961945569236+1.197626255776056e-14j)\n",
      "(0.002606475278131626+7.801267572132433e-15j)\n",
      "(0.0025792642986733894+6.751643413938901e-15j)\n",
      "(0.0025853550670731362+5.927829391879743e-15j)\n",
      "(0.002572059763428336+3.1111596764271558e-15j)\n",
      "(0.0026063070565301993+6.434082738881559e-15j)\n",
      "(0.00257442254888407+5.694116105704281e-15j)\n",
      "(0.0025063051854732343+8.84528677625794e-15j)\n",
      "(0.0025022143002222386+6.229949425202433e-15j)\n",
      "(0.00251547892583015+1.0390230526464135e-15j)\n",
      "(0.002465725487572068+5.739315767748818e-15j)\n",
      "(0.0024329735535782993+4.1974069064134505e-15j)\n",
      "(0.0024611887097618634+2.6290035065772277e-15j)\n",
      "(0.002459427218909793+5.525867343936245e-15j)\n",
      "(0.0023669862338500103+9.116757761020799e-15j)\n",
      "(0.002374498672768288+6.530429414023472e-15j)\n",
      "(0.00235960236234678+1.170393541997532e-14j)\n",
      "(0.0023104430509623963+7.754172854859003e-15j)\n",
      "(0.002278534150567779+5.918507447968008e-15j)\n",
      "(0.0022454949847664496+3.0902028036368585e-15j)\n",
      "(0.00224684273658593+5.884056024326143e-15j)\n",
      "(0.0022390272584336124+1.8049803207092656e-15j)\n",
      "(0.0022615649675399307+4.344890392905481e-15j)\n",
      "(0.002230956698142328+6.705771822530146e-15j)\n",
      "(0.002182153411070864+5.69844829205296e-15j)\n",
      "(0.002185376462740307+3.894558588477232e-15j)\n",
      "(0.00218367933305752+1.2943034714080435e-15j)\n",
      "(0.002168485325907743+1.039310935849118e-15j)\n",
      "(0.0021840833868920217+5.20863877576008e-16j)\n",
      "(0.00214703897324231+6.775469647225195e-15j)\n",
      "(0.0021506999169566+4.699918754690742e-15j)\n",
      "(0.0021784644188946878+8.625810393786673e-15j)\n",
      "(0.0020850248191721654+3.098030551990014e-15j)\n",
      "(0.0020734900219205876+0j)\n",
      "(0.002072113391186736+5.660716187597463e-15j)\n",
      "(0.002055783177547177+1.5294557789388519e-15j)\n",
      "(0.0020104002624101724+5.8797272694372214e-15j)\n",
      "(0.0019904978881635227+4.083365602497795e-15j)\n",
      "(0.001994823099068066+6.1483332142899515e-15j)\n",
      "(0.001992664864009175+1.021625399923746e-15j)\n",
      "(0.0020084080099590507-1.532390106597132e-15j)\n",
      "(0.0020283161192500287+6.107439322202612e-15j)\n",
      "(0.001920864564125102+2.3039798497990164e-15j)\n",
      "(0.0018783948830968233+2.2952230538981618e-15j)\n",
      "(0.0018727351558947003+2.816699288803103e-15j)\n",
      "(0.001878946948394189+1.0255783905090329e-15j)\n",
      "(0.0018594644427247786+1.0041363825549682e-14j)\n",
      "(0.0018120518199237212+5.381595841844303e-15j)\n"
     ]
    },
    {
     "name": "stdout",
     "output_type": "stream",
     "text": [
      "(0.0018095853966042519+1.0689614496020791e-14j)\n",
      "(0.0018344279771546068+1.0184932315671492e-15j)\n",
      "(0.0017910350827948784+6.348120316272611e-15j)\n",
      "(0.0017460900281118796+3.558862701355952e-15j)\n",
      "(0.0016962718650695985+3.293370391010341e-15j)\n",
      "(0.0016612041886131523+6.350701867055966e-15j)\n",
      "(0.0016282038781645358-3.569859484433123e-15j)\n",
      "(0.00158592523207024+4.584462471840177e-15j)\n",
      "(0.001561822533975521+4.3029112217266865e-15j)\n",
      "(0.0015385293545158163+4.041013301554298e-15j)\n",
      "(0.001505771335232442+1.0342933689241659e-14j)\n",
      "(0.0014722710162938801+3.791657530792651e-15j)\n",
      "(0.0015084804458079804+4.279000773912949e-15j)\n",
      "(0.0014797379755998596+7.581229893926877e-15j)\n",
      "(0.0014331035952506177+4.316288907034591e-15j)\n",
      "(0.0014058720552200255+6.6105534469397895e-15j)\n",
      "(0.0013902145814582711+5.5793232845930885e-15j)\n",
      "(0.0013620545373503878+2.271850844170048e-15j)\n",
      "(0.0013625593343914444+1.7553027257643317e-15j)\n",
      "(0.0013532219460153927-5.049521827946377e-16j)\n",
      "(0.0013706434762424946+7.870835859113746e-15j)\n",
      "(0.0013629334288034478+4.296871123899848e-15j)\n",
      "     fun: 0.0013532219460153927\n",
      "   maxcv: 0.0\n",
      " message: 'Maximum number of function evaluations has been exceeded.'\n",
      "    nfev: 200\n",
      "  status: 2\n",
      " success: False\n",
      "       x: array([ 2.03069569,  3.41111534,  3.22939019,  3.53312529,  0.75996589,\n",
      "        0.28519805,  3.16097302,  2.19571538, -0.39161172])\n"
     ]
    }
   ],
   "source": [
    "from vqls_redcal_utils import calculate_cost_function\n",
    "\n",
    "\n",
    "sum_coefficient = np.sum(coeffs_An)\n",
    "coeffs_An = [c/sum_coefficient for c in coeffs_An]\n",
    "\n",
    "out = minimize(calculate_cost_function, \n",
    "               x0=[float(random.randint(0,3000))/1000 for i in range(0, 9)], \n",
    "               args = (ctrl_An, ctrl_An_name,\n",
    "                       ctrl_An_dagger, ctrl_An_dagger_name, \n",
    "                       coeffs_An, \n",
    "                       ctrl_Ub_mat_dagger),\n",
    "               method=\"COBYLA\", options={'maxiter':200, 'disp':False})\n",
    "print(out)\n"
   ]
  },
  {
   "cell_type": "markdown",
   "metadata": {},
   "source": [
    "### Checking the solution\n",
    "\n",
    "We can now check if the solution is any good. We first get the state vector of the optimized circuit"
   ]
  },
  {
   "cell_type": "code",
   "execution_count": 16,
   "metadata": {},
   "outputs": [],
   "source": [
    "out_f = [out['x'][0:3], out['x'][3:6], out['x'][6:9]]\n",
    "\n",
    "circ = QuantumCircuit(3, 3)\n",
    "apply_fixed_ansatz(circ, [0, 1, 2], out_f)\n",
    "circ.save_statevector()\n",
    "\n",
    "backend = Aer.get_backend('aer_simulator')\n",
    "t_circ = transpile(circ, backend)\n",
    "qobj = assemble(t_circ)\n",
    "job = backend.run(qobj)\n",
    "\n",
    "result = job.result()\n",
    "o = result.get_statevector(circ, decimals=10)"
   ]
  },
  {
   "cell_type": "markdown",
   "metadata": {},
   "source": [
    "Then compute some metrics"
   ]
  },
  {
   "cell_type": "code",
   "execution_count": 33,
   "metadata": {},
   "outputs": [
    {
     "name": "stdout",
     "output_type": "stream",
     "text": [
      "residue: 2.6038141035406057\n",
      "rms: (0.17815750343706974+0j)\n"
     ]
    },
    {
     "data": {
      "text/plain": [
       "[<matplotlib.lines.Line2D at 0x7f7568b9d5b0>]"
      ]
     },
     "execution_count": 33,
     "metadata": {},
     "output_type": "execute_result"
    },
    {
     "data": {
      "image/png": "[encoded data removed]",
      "text/plain": [
       "<Figure size 432x288 with 1 Axes>"
      ]
     },
     "metadata": {
      "needs_background": "light"
     },
     "output_type": "display_data"
    }
   ],
   "source": [
    "Atmp = unitary_recomposition(coeffs_An, An).real\n",
    "rhs = btilde/np.linalg.norm(btilde)\n",
    "\n",
    "x = np.linalg.solve(Atmp,rhs)\n",
    "norm_x = np.linalg.norm(x)\n",
    "x /= norm_x\n",
    "x = np.asarray(x).flatten().real\n",
    "\n",
    "res = np.linalg.norm(Atmp@o-rhs)\n",
    "print('residue:', res)\n",
    "\n",
    "print('rms:', np.sqrt(np.sum( (o-x)**2 )) )\n",
    "import matplotlib.pyplot as plt\n",
    "plt.scatter(x,o.real)\n",
    "plt.plot([-1,1],[-1,1],'--')"
   ]
  },
  {
   "cell_type": "markdown",
   "metadata": {},
   "source": [
    "### Sample the output of the circuit\n",
    "\n",
    "Now, we have found that this algorithm works **in theory**. I tried to run some simulations with a circuit that samples the circuit instead of calculating the probabilities numerically. Now, let's try to **sample** the quantum circuit, as a real quantum computer would do! For some reason, this simulation would only converge somewhat well for a ridiculously high number of \"shots\" (runs of the circuit, in order to calculate the probability distribution of outcomes). I think that this is mostly to do with limitations in the classical optimizer (COBYLA), due to the noisy nature of sampling a quantum circuit (a measurement with the same parameters won't always yield the same outcome). Luckily, there are other optimizers that are built for noisy functions, such as SPSA, but we won't be looking into that in this tutorial. Let's try our sampling for our second value of $A$, with the same matrix $U$:"
   ]
  },
  {
   "cell_type": "code",
   "execution_count": 18,
   "metadata": {},
   "outputs": [
    {
     "name": "stdout",
     "output_type": "stream",
     "text": [
      "(0.15058105800352095+1.724170051913933j)\n"
     ]
    },
    {
     "name": "stderr",
     "output_type": "stream",
     "text": [
      "/home/nico/anaconda3/envs/qbit/lib/python3.8/site-packages/scipy/optimize/cobyla.py:260: ComplexWarning: Casting complex values to real discards the imaginary part\n",
      "  xopt, info = _cobyla.minimize(calcfc, m=m, x=np.copy(x0), rhobeg=rhobeg,\n"
     ]
    },
    {
     "name": "stdout",
     "output_type": "stream",
     "text": [
      "(0.09937330472731365+1.786261163130524j)\n",
      "(0.08728247484331741+1.7992193575594415j)\n",
      "(0.06452770668571162+1.818217791702514j)\n",
      "(-0.0025106350890666818+1.834690830598243j)\n",
      "(-0.009830188546392948+1.8374525440470075j)\n",
      "(-0.0067354758641473556+1.8402571214384453j)\n",
      "(-0.024123746730185358+1.8306276541960513j)\n",
      "(0.02263808021208269+1.8323649352092402j)\n",
      "(0.022852331990402597+1.8289639392929835j)\n",
      "(-0.03872089701021353+1.826537760229491j)\n",
      "(-0.04463505978410054+1.827441427338333j)\n",
      "(-0.04205721748124436+1.8269304507008257j)\n",
      "(-0.03992136104617394+1.8225284070949468j)\n",
      "(-0.022434081897515945+1.8302455624339198j)\n",
      "(-0.039795999684035355+1.8345815107931516j)\n",
      "(-0.042389090734734625+1.8247239907303694j)\n",
      "(-0.053875134535484426+1.8270686549503805j)\n",
      "(-0.0360599358581275+1.8302193026207205j)\n",
      "(-0.05618968928935186+1.8351232826675916j)\n",
      "(-0.0506087983029746+1.8310569951530116j)\n",
      "(-0.0313530731574585+1.8412645591727683j)\n",
      "(-0.047254930047741395+1.8361081685887868j)\n",
      "(-0.053081189021224384+1.8320682468801026j)\n",
      "(-0.03795238362059883+1.8418412466869154j)\n",
      "(-0.05213116955682051+1.8348168171643733j)\n",
      "(-0.052709674391007155+1.8395320234111425j)\n",
      "(-0.05597365253230935+1.8343144163603273j)\n",
      "(-0.0575264323883129+1.8311978059252059j)\n",
      "(-0.049330292404117904+1.836060271882752j)\n",
      "(-0.06014914948690153+1.8265321762750395j)\n",
      "(-0.058463264510195456+1.831204112683362j)\n",
      "(-0.0588712003203995+1.8288853088533696j)\n",
      "(-0.061202615791117854+1.8282960944556443j)\n",
      "(-0.06147797435219471+1.8291676833269042j)\n",
      "(-0.06254285014202221+1.8273901596649138j)\n",
      "(-0.06189411083597318+1.827821538825316j)\n",
      "(-0.05958396621916706+1.8257107311604173j)\n",
      "(-0.06200844949672657+1.8274746034029514j)\n",
      "(-0.057604025896709876+1.8311026414354405j)\n",
      "(-0.06302843797022684+1.8305558787390777j)\n",
      "(-0.06260126291013424+1.8291830400265656j)\n",
      "(-0.06349050712820081+1.8293578608299963j)\n",
      "(-0.05981916982924029+1.8298195892793405j)\n",
      "(-0.06326837310110811+1.8280141434393125j)\n",
      "(-0.0633006335388635+1.830340646423581j)\n",
      "(-0.061119794621339985+1.8309654394351145j)\n",
      "(-0.06221494594182264+1.8277942977419315j)\n",
      "(-0.06374943779257869+1.8298695011303046j)\n",
      "(-0.06299235858515151+1.8315791423881782j)\n",
      "(-0.0614961831062486+1.831101474716842j)\n",
      "(-0.0634207358919725+1.8299938898297399j)\n",
      "(-0.06120372921642381+1.8287402888829591j)\n",
      "(-0.06161371397517246+1.828052559220076j)\n",
      "(-0.06311323562020288+1.8275133682924571j)\n",
      "(-0.061330053963642994+1.8283515442671034j)\n",
      "(-0.06440194137913169+1.8289245840471806j)\n",
      "(-0.06142677672941921+1.8297399804095718j)\n",
      "(-0.06210812381983177+1.828180896225311j)\n",
      "(-0.06385149974848581+1.8266482887572786j)\n",
      "(-0.062315353809972995+1.8302388133157597j)\n",
      "(-0.06277196358074866+1.8281085055085482j)\n",
      "(-0.06255356325863204+1.8280236610414768j)\n",
      "(-0.06395115588528233+1.8294914543769638j)\n",
      "(-0.062433313296749615+1.8278989507666517j)\n",
      "(-0.06240387625304744+1.8269393746855713j)\n",
      "(-0.06319268531982591+1.8287228259228492j)\n",
      "(-0.06316288357562216+1.8291148150465604j)\n",
      "(-0.0634903915750562+1.8289367076610854j)\n",
      "(-0.062721116692392+1.8298210245811495j)\n",
      "(-0.0623003134025919+1.8274081838176128j)\n",
      "(-0.062460247012667836+1.828898393482813j)\n",
      "(-0.06327338081219147+1.8300563517799433j)\n",
      "(-0.06269744152758894+1.8292685699836055j)\n",
      "(-0.06278197064493973+1.829794378465516j)\n",
      "(-0.062488107980858576+1.828433836239075j)\n",
      "(-0.06256727103420756+1.8265413990266224j)\n",
      "(-0.06326134549146367+1.8290808647576724j)\n",
      "(-0.06259953953966169+1.8276214805640383j)\n",
      "(-0.06236864900760142+1.8284416357066537j)\n",
      "(-0.06406043016990615+1.8299188036452656j)\n",
      "(-0.062558479522977+1.828452282553637j)\n",
      "(-0.06225138580507106+1.8278521930162166j)\n",
      "(-0.0630901200778371+1.8274363573260308j)\n",
      "(-0.06269423774199168+1.8272936619944293j)\n",
      "(-0.06432288729299818+1.8304843865263063j)\n",
      "(-0.06327054662465814+1.8289115130303302j)\n",
      "(-0.06301339540771944+1.828567913636291j)\n",
      "(-0.06097666027657733+1.8275298672558635j)\n",
      "(-0.0636567851439751+1.8275416636683484j)\n",
      "(-0.061968409135558344+1.826951580211371j)\n",
      "(-0.06150104733338768+1.8285173410103273j)\n",
      "(-0.06314460842855651+1.82893249870385j)\n",
      "(-0.06120100153411112+1.8279278813761484j)\n",
      "(-0.06226148886269556+1.82716111099965j)\n",
      "(-0.06411816304820483+1.829239141916361j)\n",
      "(-0.06291743445410192+1.8275998887336216j)\n",
      "(-0.06385216510306324+1.8302551968201104j)\n",
      "(-0.06385043279098968+1.8276920733034456j)\n",
      "(-0.060855353571300785+1.8289762222085757j)\n",
      "(-0.0618576961314683+1.828238693954245j)\n",
      "(-0.06237405397268514+1.828172344921591j)\n",
      "(-0.06057203321322269+1.8280463159809945j)\n",
      "(-0.06302786579978692+1.8293301929602088j)\n",
      "(-0.06263344049151742+1.8283085315834189j)\n",
      "(-0.06119178123066171+1.8278289398602248j)\n",
      "(-0.062446001848899924+1.8271832068889695j)\n",
      "     fun: -0.062446001848899924\n",
      "   maxcv: 0.0\n",
      " message: 'Optimization terminated successfully.'\n",
      "    nfev: 107\n",
      "  status: 1\n",
      " success: True\n",
      "       x: array([0.76559549, 3.84143331, 3.58867607, 4.24894093, 2.59218274,\n",
      "       2.91455254, 3.12877692, 1.55118184, 1.46800737])\n"
     ]
    }
   ],
   "source": [
    "from vqls_redcal_utils import sample_cost_function\n",
    "\n",
    "\n",
    "sum_coefficient = np.sum(coeffs_An)\n",
    "coeffs_An = [c/sum_coefficient for c in coeffs_An]\n",
    "\n",
    "out = minimize(sample_cost_function, \n",
    "               x0=[float(random.randint(0,3000))/1000 for i in range(0, 9)], \n",
    "               args = (ctrl_An, ctrl_An_name,\n",
    "                       ctrl_An_dagger, ctrl_An_dagger_name, \n",
    "                       coeffs_An, \n",
    "                       ctrl_Ub_mat_dagger),\n",
    "               method=\"COBYLA\", options={'maxiter':200, 'disp':True})\n",
    "print(out)"
   ]
  },
  {
   "cell_type": "markdown",
   "metadata": {},
   "source": [
    "\n",
    "\n",
    "## 4. Acknowledgements\n",
    "\n",
    "This implementation is based on the work presented in the research paper \"Variational Quantum Linear Solver: A Hybrid Algorithm for Linear Systems\", written by Carlos Bravo-Prieto, Ryan LaRose, M. Cerezo, Yiğit Subaşı, Lukasz Cincio, and Patrick J. Coles, which is available at [this](https://arxiv.org/abs/1909.05820) link.\n",
    "\n",
    "Special thanks to Carlos Bravo-Prieto for personally helping me out, by answering some of my questions concerning the paper!"
   ]
  },
  {
   "cell_type": "code",
   "execution_count": 19,
   "metadata": {},
   "outputs": [
    {
     "data": {
      "text/html": [
       "<h3>Version Information</h3><table><tr><th>Qiskit Software</th><th>Version</th></tr><tr><td><code>qiskit-terra</code></td><td>0.19.1</td></tr><tr><td><code>qiskit-aer</code></td><td>0.8.2</td></tr><tr><td><code>qiskit-ignis</code></td><td>0.6.0</td></tr><tr><td><code>qiskit-aqua</code></td><td>0.9.2</td></tr><tr><td><code>qiskit</code></td><td>0.27.0</td></tr><tr><td><code>qiskit-optimization</code></td><td>0.3.0</td></tr><tr><td><code>qiskit-machine-learning</code></td><td>0.3.0</td></tr><tr><th>System information</th></tr><tr><td>Python version</td><td>3.8.0</td></tr><tr><td>Python compiler</td><td>GCC 7.3.0</td></tr><tr><td>Python build</td><td>default, Nov  6 2019 21:49:08</td></tr><tr><td>OS</td><td>Linux</td></tr><tr><td>CPUs</td><td>4</td></tr><tr><td>Memory (Gb)</td><td>7.789119720458984</td></tr><tr><td colspan='2'>Mon Apr 11 18:24:18 2022 CEST</td></tr></table>"
      ],
      "text/plain": [
       "<IPython.core.display.HTML object>"
      ]
     },
     "metadata": {},
     "output_type": "display_data"
    }
   ],
   "source": [
    "import qiskit.tools.jupyter\n",
    "%qiskit_version_table"
   ]
  }
 ],
 "metadata": {
  "kernelspec": {
   "display_name": "Python 3",
   "language": "python",
   "name": "python3"
  },
  "language_info": {
   "codemirror_mode": {
    "name": "ipython",
    "version": 3
   },
   "file_extension": ".py",
   "mimetype": "text/x-python",
   "name": "python",
   "nbconvert_exporter": "python",
   "pygments_lexer": "ipython3",
   "version": "3.8.0"
  },
  "widgets": {
   "application/vnd.jupyter.widget-state+json": {
    "state": {
     "17046f96803d48aa8c63b99a5c89e6f3": {
      "model_module": "@jupyter-widgets/controls",
      "model_module_version": "1.5.0",
      "model_name": "DescriptionStyleModel",
      "state": {
       "_model_module": "@jupyter-widgets/controls",
       "_model_module_version": "1.5.0",
       "_model_name": "DescriptionStyleModel",
       "_view_count": null,
       "_view_module": "@jupyter-widgets/base",
       "_view_module_version": "1.2.0",
       "_view_name": "StyleView",
       "description_width": ""
      }
     },
     "1a46e33438a648dd839fe5fd43b9582b": {
      "model_module": "@jupyter-widgets/controls",
      "model_module_version": "1.5.0",
      "model_name": "DescriptionStyleModel",
      "state": {
       "_model_module": "@jupyter-widgets/controls",
       "_model_module_version": "1.5.0",
       "_model_name": "DescriptionStyleModel",
       "_view_count": null,
       "_view_module": "@jupyter-widgets/base",
       "_view_module_version": "1.2.0",
       "_view_name": "StyleView",
       "description_width": ""
      }
     },
     "1f812fe9a02b41b885f01e3190957acf": {
      "model_module": "@jupyter-widgets/base",
      "model_module_version": "1.2.0",
      "model_name": "LayoutModel",
      "state": {
       "_model_module": "@jupyter-widgets/base",
       "_model_module_version": "1.2.0",
       "_model_name": "LayoutModel",
       "_view_count": null,
       "_view_module": "@jupyter-widgets/base",
       "_view_module_version": "1.2.0",
       "_view_name": "LayoutView",
       "align_content": null,
       "align_items": null,
       "align_self": null,
       "border": null,
       "bottom": null,
       "display": null,
       "flex": null,
       "flex_flow": null,
       "grid_area": null,
       "grid_auto_columns": null,
       "grid_auto_flow": null,
       "grid_auto_rows": null,
       "grid_column": null,
       "grid_gap": null,
       "grid_row": null,
       "grid_template_areas": "\n                                       \". . . . right \"\n                                        ",
       "grid_template_columns": "20% 20% 20% 20% 20%",
       "grid_template_rows": null,
       "height": null,
       "justify_content": null,
       "justify_items": null,
       "left": null,
       "margin": null,
       "max_height": null,
       "max_width": null,
       "min_height": null,
       "min_width": null,
       "object_fit": null,
       "object_position": null,
       "order": null,
       "overflow": null,
       "overflow_x": null,
       "overflow_y": null,
       "padding": null,
       "right": null,
       "top": null,
       "visibility": null,
       "width": "100%"
      }
     },
     "20439ee3a84741dc9a137f7964898fc3": {
      "model_module": "@jupyter-widgets/controls",
      "model_module_version": "1.5.0",
      "model_name": "HTMLModel",
      "state": {
       "_dom_classes": [],
       "_model_module": "@jupyter-widgets/controls",
       "_model_module_version": "1.5.0",
       "_model_name": "HTMLModel",
       "_view_count": null,
       "_view_module": "@jupyter-widgets/controls",
       "_view_module_version": "1.5.0",
       "_view_name": "HTMLView",
       "description": "",
       "description_tooltip": null,
       "layout": "IPY_MODEL_f0e6a746eff140269e915ef65de640c7",
       "placeholder": "​",
       "style": "IPY_MODEL_96316857896d44328b3898d849594ae7",
       "value": "<h5>Status</h5>"
      }
     },
     "246d39f98fdb4892bc1d5bfb88d2f1cd": {
      "model_module": "@jupyter-widgets/controls",
      "model_module_version": "1.5.0",
      "model_name": "DescriptionStyleModel",
      "state": {
       "_model_module": "@jupyter-widgets/controls",
       "_model_module_version": "1.5.0",
       "_model_name": "DescriptionStyleModel",
       "_view_count": null,
       "_view_module": "@jupyter-widgets/base",
       "_view_module_version": "1.2.0",
       "_view_name": "StyleView",
       "description_width": ""
      }
     },
     "27e0478b2a9c4533b2e67eac937cbebc": {
      "model_module": "@jupyter-widgets/controls",
      "model_module_version": "1.5.0",
      "model_name": "HBoxModel",
      "state": {
       "_dom_classes": [],
       "_model_module": "@jupyter-widgets/controls",
       "_model_module_version": "1.5.0",
       "_model_name": "HBoxModel",
       "_view_count": null,
       "_view_module": "@jupyter-widgets/controls",
       "_view_module_version": "1.5.0",
       "_view_name": "HBoxView",
       "box_style": "",
       "children": [
        "IPY_MODEL_ac5a0f78ef8140a2abdf035fd1751936",
        "IPY_MODEL_5ff6f36eaa894a339210fc29fdbeedcf",
        "IPY_MODEL_20439ee3a84741dc9a137f7964898fc3",
        "IPY_MODEL_eef64edafd8f47c885da65fa3ca0ab8a",
        "IPY_MODEL_a38db3ffdfc848c0b0150e42b3509be5"
       ],
       "layout": "IPY_MODEL_fc018f99fbb44aa9beb54a8e6be5209e"
      }
     },
     "2f981df37e914685992f4564103ef872": {
      "model_module": "@jupyter-widgets/base",
      "model_module_version": "1.2.0",
      "model_name": "LayoutModel",
      "state": {
       "_model_module": "@jupyter-widgets/base",
       "_model_module_version": "1.2.0",
       "_model_name": "LayoutModel",
       "_view_count": null,
       "_view_module": "@jupyter-widgets/base",
       "_view_module_version": "1.2.0",
       "_view_name": "LayoutView",
       "align_content": null,
       "align_items": null,
       "align_self": null,
       "border": null,
       "bottom": null,
       "display": null,
       "flex": null,
       "flex_flow": null,
       "grid_area": null,
       "grid_auto_columns": null,
       "grid_auto_flow": null,
       "grid_auto_rows": null,
       "grid_column": null,
       "grid_gap": null,
       "grid_row": null,
       "grid_template_areas": null,
       "grid_template_columns": null,
       "grid_template_rows": null,
       "height": null,
       "justify_content": null,
       "justify_items": null,
       "left": null,
       "margin": null,
       "max_height": null,
       "max_width": null,
       "min_height": null,
       "min_width": null,
       "object_fit": null,
       "object_position": null,
       "order": null,
       "overflow": null,
       "overflow_x": null,
       "overflow_y": null,
       "padding": null,
       "right": null,
       "top": null,
       "visibility": null,
       "width": null
      }
     },
     "3aa67247d1a9433f87b13ce1370c8b1c": {
      "model_module": "@jupyter-widgets/base",
      "model_module_version": "1.2.0",
      "model_name": "LayoutModel",
      "state": {
       "_model_module": "@jupyter-widgets/base",
       "_model_module_version": "1.2.0",
       "_model_name": "LayoutModel",
       "_view_count": null,
       "_view_module": "@jupyter-widgets/base",
       "_view_module_version": "1.2.0",
       "_view_name": "LayoutView",
       "align_content": null,
       "align_items": null,
       "align_self": null,
       "border": null,
       "bottom": null,
       "display": null,
       "flex": null,
       "flex_flow": null,
       "grid_area": null,
       "grid_auto_columns": null,
       "grid_auto_flow": null,
       "grid_auto_rows": null,
       "grid_column": null,
       "grid_gap": null,
       "grid_row": null,
       "grid_template_areas": null,
       "grid_template_columns": null,
       "grid_template_rows": null,
       "height": null,
       "justify_content": null,
       "justify_items": null,
       "left": null,
       "margin": null,
       "max_height": null,
       "max_width": null,
       "min_height": null,
       "min_width": null,
       "object_fit": null,
       "object_position": null,
       "order": null,
       "overflow": null,
       "overflow_x": null,
       "overflow_y": null,
       "padding": null,
       "right": null,
       "top": null,
       "visibility": null,
       "width": "190px"
      }
     },
     "40a8f99fef5b4aad89f533edcb091c3f": {
      "model_module": "@jupyter-widgets/controls",
      "model_module_version": "1.5.0",
      "model_name": "ButtonStyleModel",
      "state": {
       "_model_module": "@jupyter-widgets/controls",
       "_model_module_version": "1.5.0",
       "_model_name": "ButtonStyleModel",
       "_view_count": null,
       "_view_module": "@jupyter-widgets/base",
       "_view_module_version": "1.2.0",
       "_view_name": "StyleView",
       "button_color": null,
       "font_weight": ""
      }
     },
     "46f75da5f7ab4f33b4df8618ccffde6b": {
      "model_module": "@jupyter-widgets/controls",
      "model_module_version": "1.5.0",
      "model_name": "DescriptionStyleModel",
      "state": {
       "_model_module": "@jupyter-widgets/controls",
       "_model_module_version": "1.5.0",
       "_model_name": "DescriptionStyleModel",
       "_view_count": null,
       "_view_module": "@jupyter-widgets/base",
       "_view_module_version": "1.2.0",
       "_view_name": "StyleView",
       "description_width": ""
      }
     },
     "5ff6f36eaa894a339210fc29fdbeedcf": {
      "model_module": "@jupyter-widgets/controls",
      "model_module_version": "1.5.0",
      "model_name": "HTMLModel",
      "state": {
       "_dom_classes": [],
       "_model_module": "@jupyter-widgets/controls",
       "_model_module_version": "1.5.0",
       "_model_name": "HTMLModel",
       "_view_count": null,
       "_view_module": "@jupyter-widgets/controls",
       "_view_module_version": "1.5.0",
       "_view_name": "HTMLView",
       "description": "",
       "description_tooltip": null,
       "layout": "IPY_MODEL_9e036ff6f31e4efb9471d371db06f533",
       "placeholder": "​",
       "style": "IPY_MODEL_1a46e33438a648dd839fe5fd43b9582b",
       "value": "<h5>Backend</h5>"
      }
     },
     "608e06da96f840e890006ad286afc34b": {
      "model_module": "@jupyter-widgets/controls",
      "model_module_version": "1.5.0",
      "model_name": "HTMLModel",
      "state": {
       "_dom_classes": [],
       "_model_module": "@jupyter-widgets/controls",
       "_model_module_version": "1.5.0",
       "_model_name": "HTMLModel",
       "_view_count": null,
       "_view_module": "@jupyter-widgets/controls",
       "_view_module_version": "1.5.0",
       "_view_name": "HTMLView",
       "description": "",
       "description_tooltip": null,
       "layout": "IPY_MODEL_74038cd5fbe8491ba5457f6cc81f7b5a",
       "placeholder": "​",
       "style": "IPY_MODEL_8569084253df4279b752a85c0b99027b",
       "value": "<p style='font-family: IBM Plex Sans, Arial, Helvetica, sans-serif; font-size: 20px; font-weight: medium;'>Circuit Properties</p>"
      }
     },
     "74038cd5fbe8491ba5457f6cc81f7b5a": {
      "model_module": "@jupyter-widgets/base",
      "model_module_version": "1.2.0",
      "model_name": "LayoutModel",
      "state": {
       "_model_module": "@jupyter-widgets/base",
       "_model_module_version": "1.2.0",
       "_model_name": "LayoutModel",
       "_view_count": null,
       "_view_module": "@jupyter-widgets/base",
       "_view_module_version": "1.2.0",
       "_view_name": "LayoutView",
       "align_content": null,
       "align_items": null,
       "align_self": null,
       "border": null,
       "bottom": null,
       "display": null,
       "flex": null,
       "flex_flow": null,
       "grid_area": null,
       "grid_auto_columns": null,
       "grid_auto_flow": null,
       "grid_auto_rows": null,
       "grid_column": null,
       "grid_gap": null,
       "grid_row": null,
       "grid_template_areas": null,
       "grid_template_columns": null,
       "grid_template_rows": null,
       "height": null,
       "justify_content": null,
       "justify_items": null,
       "left": null,
       "margin": "0px 0px 10px 0px",
       "max_height": null,
       "max_width": null,
       "min_height": null,
       "min_width": null,
       "object_fit": null,
       "object_position": null,
       "order": null,
       "overflow": null,
       "overflow_x": null,
       "overflow_y": null,
       "padding": null,
       "right": null,
       "top": null,
       "visibility": null,
       "width": null
      }
     },
     "8569084253df4279b752a85c0b99027b": {
      "model_module": "@jupyter-widgets/controls",
      "model_module_version": "1.5.0",
      "model_name": "DescriptionStyleModel",
      "state": {
       "_model_module": "@jupyter-widgets/controls",
       "_model_module_version": "1.5.0",
       "_model_name": "DescriptionStyleModel",
       "_view_count": null,
       "_view_module": "@jupyter-widgets/base",
       "_view_module_version": "1.2.0",
       "_view_name": "StyleView",
       "description_width": ""
      }
     },
     "917c693fd8d84f2e99f59d75cd5062c2": {
      "model_module": "@jupyter-widgets/controls",
      "model_module_version": "1.5.0",
      "model_name": "GridBoxModel",
      "state": {
       "_dom_classes": [],
       "_model_module": "@jupyter-widgets/controls",
       "_model_module_version": "1.5.0",
       "_model_name": "GridBoxModel",
       "_view_count": null,
       "_view_module": "@jupyter-widgets/controls",
       "_view_module_version": "1.5.0",
       "_view_name": "GridBoxView",
       "box_style": "",
       "children": [
        "IPY_MODEL_b7e87c3bbc404502ab1550d64f86c473"
       ],
       "layout": "IPY_MODEL_1f812fe9a02b41b885f01e3190957acf"
      }
     },
     "96316857896d44328b3898d849594ae7": {
      "model_module": "@jupyter-widgets/controls",
      "model_module_version": "1.5.0",
      "model_name": "DescriptionStyleModel",
      "state": {
       "_model_module": "@jupyter-widgets/controls",
       "_model_module_version": "1.5.0",
       "_model_name": "DescriptionStyleModel",
       "_view_count": null,
       "_view_module": "@jupyter-widgets/base",
       "_view_module_version": "1.2.0",
       "_view_name": "StyleView",
       "description_width": ""
      }
     },
     "9e036ff6f31e4efb9471d371db06f533": {
      "model_module": "@jupyter-widgets/base",
      "model_module_version": "1.2.0",
      "model_name": "LayoutModel",
      "state": {
       "_model_module": "@jupyter-widgets/base",
       "_model_module_version": "1.2.0",
       "_model_name": "LayoutModel",
       "_view_count": null,
       "_view_module": "@jupyter-widgets/base",
       "_view_module_version": "1.2.0",
       "_view_name": "LayoutView",
       "align_content": null,
       "align_items": null,
       "align_self": null,
       "border": null,
       "bottom": null,
       "display": null,
       "flex": null,
       "flex_flow": null,
       "grid_area": null,
       "grid_auto_columns": null,
       "grid_auto_flow": null,
       "grid_auto_rows": null,
       "grid_column": null,
       "grid_gap": null,
       "grid_row": null,
       "grid_template_areas": null,
       "grid_template_columns": null,
       "grid_template_rows": null,
       "height": null,
       "justify_content": null,
       "justify_items": null,
       "left": null,
       "margin": null,
       "max_height": null,
       "max_width": null,
       "min_height": null,
       "min_width": null,
       "object_fit": null,
       "object_position": null,
       "order": null,
       "overflow": null,
       "overflow_x": null,
       "overflow_y": null,
       "padding": null,
       "right": null,
       "top": null,
       "visibility": null,
       "width": "145px"
      }
     },
     "a38db3ffdfc848c0b0150e42b3509be5": {
      "model_module": "@jupyter-widgets/controls",
      "model_module_version": "1.5.0",
      "model_name": "HTMLModel",
      "state": {
       "_dom_classes": [],
       "_model_module": "@jupyter-widgets/controls",
       "_model_module_version": "1.5.0",
       "_model_name": "HTMLModel",
       "_view_count": null,
       "_view_module": "@jupyter-widgets/controls",
       "_view_module_version": "1.5.0",
       "_view_name": "HTMLView",
       "description": "",
       "description_tooltip": null,
       "layout": "IPY_MODEL_2f981df37e914685992f4564103ef872",
       "placeholder": "​",
       "style": "IPY_MODEL_246d39f98fdb4892bc1d5bfb88d2f1cd",
       "value": "<h5>Message</h5>"
      }
     },
     "ac5a0f78ef8140a2abdf035fd1751936": {
      "model_module": "@jupyter-widgets/controls",
      "model_module_version": "1.5.0",
      "model_name": "HTMLModel",
      "state": {
       "_dom_classes": [],
       "_model_module": "@jupyter-widgets/controls",
       "_model_module_version": "1.5.0",
       "_model_name": "HTMLModel",
       "_view_count": null,
       "_view_module": "@jupyter-widgets/controls",
       "_view_module_version": "1.5.0",
       "_view_name": "HTMLView",
       "description": "",
       "description_tooltip": null,
       "layout": "IPY_MODEL_3aa67247d1a9433f87b13ce1370c8b1c",
       "placeholder": "​",
       "style": "IPY_MODEL_46f75da5f7ab4f33b4df8618ccffde6b",
       "value": "<h5>Job ID</h5>"
      }
     },
     "b7e87c3bbc404502ab1550d64f86c473": {
      "model_module": "@jupyter-widgets/controls",
      "model_module_version": "1.5.0",
      "model_name": "ButtonModel",
      "state": {
       "_dom_classes": [],
       "_model_module": "@jupyter-widgets/controls",
       "_model_module_version": "1.5.0",
       "_model_name": "ButtonModel",
       "_view_count": null,
       "_view_module": "@jupyter-widgets/controls",
       "_view_module_version": "1.5.0",
       "_view_name": "ButtonView",
       "button_style": "primary",
       "description": "Clear",
       "disabled": false,
       "icon": "",
       "layout": "IPY_MODEL_f6a39516121743099bece32bc0c3c696",
       "style": "IPY_MODEL_40a8f99fef5b4aad89f533edcb091c3f",
       "tooltip": ""
      }
     },
     "eef64edafd8f47c885da65fa3ca0ab8a": {
      "model_module": "@jupyter-widgets/controls",
      "model_module_version": "1.5.0",
      "model_name": "HTMLModel",
      "state": {
       "_dom_classes": [],
       "_model_module": "@jupyter-widgets/controls",
       "_model_module_version": "1.5.0",
       "_model_name": "HTMLModel",
       "_view_count": null,
       "_view_module": "@jupyter-widgets/controls",
       "_view_module_version": "1.5.0",
       "_view_name": "HTMLView",
       "description": "",
       "description_tooltip": null,
       "layout": "IPY_MODEL_ef270ca07615429ab689824b66fdb1ff",
       "placeholder": "​",
       "style": "IPY_MODEL_17046f96803d48aa8c63b99a5c89e6f3",
       "value": "<h5>Queue</h5>"
      }
     },
     "ef270ca07615429ab689824b66fdb1ff": {
      "model_module": "@jupyter-widgets/base",
      "model_module_version": "1.2.0",
      "model_name": "LayoutModel",
      "state": {
       "_model_module": "@jupyter-widgets/base",
       "_model_module_version": "1.2.0",
       "_model_name": "LayoutModel",
       "_view_count": null,
       "_view_module": "@jupyter-widgets/base",
       "_view_module_version": "1.2.0",
       "_view_name": "LayoutView",
       "align_content": null,
       "align_items": null,
       "align_self": null,
       "border": null,
       "bottom": null,
       "display": null,
       "flex": null,
       "flex_flow": null,
       "grid_area": null,
       "grid_auto_columns": null,
       "grid_auto_flow": null,
       "grid_auto_rows": null,
       "grid_column": null,
       "grid_gap": null,
       "grid_row": null,
       "grid_template_areas": null,
       "grid_template_columns": null,
       "grid_template_rows": null,
       "height": null,
       "justify_content": null,
       "justify_items": null,
       "left": null,
       "margin": null,
       "max_height": null,
       "max_width": null,
       "min_height": null,
       "min_width": null,
       "object_fit": null,
       "object_position": null,
       "order": null,
       "overflow": null,
       "overflow_x": null,
       "overflow_y": null,
       "padding": null,
       "right": null,
       "top": null,
       "visibility": null,
       "width": "70px"
      }
     },
     "f0e6a746eff140269e915ef65de640c7": {
      "model_module": "@jupyter-widgets/base",
      "model_module_version": "1.2.0",
      "model_name": "LayoutModel",
      "state": {
       "_model_module": "@jupyter-widgets/base",
       "_model_module_version": "1.2.0",
       "_model_name": "LayoutModel",
       "_view_count": null,
       "_view_module": "@jupyter-widgets/base",
       "_view_module_version": "1.2.0",
       "_view_name": "LayoutView",
       "align_content": null,
       "align_items": null,
       "align_self": null,
       "border": null,
       "bottom": null,
       "display": null,
       "flex": null,
       "flex_flow": null,
       "grid_area": null,
       "grid_auto_columns": null,
       "grid_auto_flow": null,
       "grid_auto_rows": null,
       "grid_column": null,
       "grid_gap": null,
       "grid_row": null,
       "grid_template_areas": null,
       "grid_template_columns": null,
       "grid_template_rows": null,
       "height": null,
       "justify_content": null,
       "justify_items": null,
       "left": null,
       "margin": null,
       "max_height": null,
       "max_width": null,
       "min_height": null,
       "min_width": null,
       "object_fit": null,
       "object_position": null,
       "order": null,
       "overflow": null,
       "overflow_x": null,
       "overflow_y": null,
       "padding": null,
       "right": null,
       "top": null,
       "visibility": null,
       "width": "95px"
      }
     },
     "f6a39516121743099bece32bc0c3c696": {
      "model_module": "@jupyter-widgets/base",
      "model_module_version": "1.2.0",
      "model_name": "LayoutModel",
      "state": {
       "_model_module": "@jupyter-widgets/base",
       "_model_module_version": "1.2.0",
       "_model_name": "LayoutModel",
       "_view_count": null,
       "_view_module": "@jupyter-widgets/base",
       "_view_module_version": "1.2.0",
       "_view_name": "LayoutView",
       "align_content": null,
       "align_items": null,
       "align_self": null,
       "border": null,
       "bottom": null,
       "display": null,
       "flex": null,
       "flex_flow": null,
       "grid_area": "right",
       "grid_auto_columns": null,
       "grid_auto_flow": null,
       "grid_auto_rows": null,
       "grid_column": null,
       "grid_gap": null,
       "grid_row": null,
       "grid_template_areas": null,
       "grid_template_columns": null,
       "grid_template_rows": null,
       "height": null,
       "justify_content": null,
       "justify_items": null,
       "left": null,
       "margin": null,
       "max_height": null,
       "max_width": null,
       "min_height": null,
       "min_width": null,
       "object_fit": null,
       "object_position": null,
       "order": null,
       "overflow": null,
       "overflow_x": null,
       "overflow_y": null,
       "padding": "0px 0px 0px 0px",
       "right": null,
       "top": null,
       "visibility": null,
       "width": "70px"
      }
     },
     "fc018f99fbb44aa9beb54a8e6be5209e": {
      "model_module": "@jupyter-widgets/base",
      "model_module_version": "1.2.0",
      "model_name": "LayoutModel",
      "state": {
       "_model_module": "@jupyter-widgets/base",
       "_model_module_version": "1.2.0",
       "_model_name": "LayoutModel",
       "_view_count": null,
       "_view_module": "@jupyter-widgets/base",
       "_view_module_version": "1.2.0",
       "_view_name": "LayoutView",
       "align_content": null,
       "align_items": null,
       "align_self": null,
       "border": null,
       "bottom": null,
       "display": null,
       "flex": null,
       "flex_flow": null,
       "grid_area": null,
       "grid_auto_columns": null,
       "grid_auto_flow": null,
       "grid_auto_rows": null,
       "grid_column": null,
       "grid_gap": null,
       "grid_row": null,
       "grid_template_areas": null,
       "grid_template_columns": null,
       "grid_template_rows": null,
       "height": null,
       "justify_content": null,
       "justify_items": null,
       "left": null,
       "margin": "0px 0px 0px 37px",
       "max_height": null,
       "max_width": null,
       "min_height": null,
       "min_width": null,
       "object_fit": null,
       "object_position": null,
       "order": null,
       "overflow": null,
       "overflow_x": null,
       "overflow_y": null,
       "padding": null,
       "right": null,
       "top": null,
       "visibility": null,
       "width": "600px"
      }
     }
    },
    "version_major": 2,
    "version_minor": 0
   }
  }
 },
 "nbformat": 4,
 "nbformat_minor": 2
}
