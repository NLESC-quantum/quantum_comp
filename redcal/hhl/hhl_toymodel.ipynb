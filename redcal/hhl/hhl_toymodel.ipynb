{
 "cells": [
  {
   "cell_type": "markdown",
   "metadata": {},
   "source": [
    "# Exploratory analysis of the HHL linear solver"
   ]
  },
  {
   "cell_type": "markdown",
   "metadata": {},
   "source": [
    "## Implementation in `qiskit`\n",
    "\n",
    "`qiskit` has an implementation of the hhl algorithm.\n",
    "It can be imported using:"
   ]
  },
  {
   "cell_type": "code",
   "execution_count": 81,
   "metadata": {},
   "outputs": [],
   "source": [
    "from qiskit.algorithms.linear_solvers.hhl import HHL"
   ]
  },
  {
   "cell_type": "markdown",
   "metadata": {},
   "source": [
    "## Minimal example\n",
    "\n",
    "We'll begin by importing a couple of dependencies."
   ]
  },
  {
   "cell_type": "code",
   "execution_count": 82,
   "metadata": {},
   "outputs": [],
   "source": [
    "import numpy as np\n",
    "from qiskit.algorithms.linear_solvers.numpy_linear_solver import NumPyLinearSolver\n",
    "from qiskit.algorithms.linear_solvers.matrices.tridiagonal_toeplitz import TridiagonalToeplitz\n",
    "from qiskit.quantum_info import Statevector"
   ]
  },
  {
   "cell_type": "markdown",
   "metadata": {},
   "source": [
    "## Problem posing\n",
    "\n",
    "In this example, based on the [`qiskit` tutorials](https://qiskit.org/textbook/ch-applications/hhl_tutorial.html), we'll solve a simple linear system of the form:\n",
    "\n",
    "$$\n",
    "A \\vec x = \\vec b\n",
    "$$\n",
    "\n",
    "where:\n",
    "\n",
    "$$\n",
    "A =\n",
    "\\begin{bmatrix}\n",
    "a & b \\\\\n",
    "b & a\n",
    "\\end{bmatrix}\n",
    ":\n",
    "a = 1,\n",
    "b = -\\frac{1}{3}\n",
    "$$\n",
    "\n",
    "and\n",
    "\n",
    "$$\n",
    "\\vec b = \n",
    "\\begin{bmatrix}\n",
    "1 \\\\\n",
    "0\n",
    "\\end{bmatrix}\n",
    "$$"
   ]
  },
  {
   "cell_type": "code",
   "execution_count": 83,
   "metadata": {},
   "outputs": [],
   "source": [
    "a = 1\n",
    "b = -1/3\n",
    "matrix = np.array([[a, b], [b, a]])\n",
    "vector = np.array([1, 0])"
   ]
  },
  {
   "cell_type": "markdown",
   "metadata": {},
   "source": [
    "### Classical solution\n",
    "\n",
    "Keep in mind that during the encoding the vector will be normalized.\n",
    "This means that the equivalent classical problem would be that of:\n",
    "\n",
    "$$\n",
    "A\\vec x = \\frac{\\vec b}{\\| \\vec b\\|} \\equiv \\hat b\n",
    "$$"
   ]
  },
  {
   "cell_type": "code",
   "execution_count": 84,
   "metadata": {},
   "outputs": [
    {
     "name": "stdout",
     "output_type": "stream",
     "text": [
      "{   'circuit_results': None,\n",
      "    'euclidean_norm': 1.1858541225631423,\n",
      "    'observable': None,\n",
      "    'state': array([1.125, 0.375])}\n"
     ]
    }
   ],
   "source": [
    "nvector = vector / np.linalg.norm(vector)\n",
    "classical_solution = NumPyLinearSolver().solve(matrix, nvector)\n",
    "print(classical_solution)"
   ]
  },
  {
   "cell_type": "markdown",
   "metadata": {},
   "source": [
    "The solution is given by:"
   ]
  },
  {
   "cell_type": "code",
   "execution_count": 85,
   "metadata": {},
   "outputs": [
    {
     "name": "stdout",
     "output_type": "stream",
     "text": [
      "[1.125 0.375]\n"
     ]
    }
   ],
   "source": [
    "print(classical_solution.state)"
   ]
  },
  {
   "cell_type": "markdown",
   "metadata": {},
   "source": [
    "We can check that the classical solution $\\vec s$ is correct by evaluating ensuring that:\n",
    "\n",
    "$$\n",
    "A \\vec s - \\hat b = \\vec 0\n",
    "$$"
   ]
  },
  {
   "cell_type": "code",
   "execution_count": 86,
   "metadata": {},
   "outputs": [],
   "source": [
    "assert np.max(np.matmul(matrix, classical_solution.state) - nvector) == 0.0"
   ]
  },
  {
   "cell_type": "markdown",
   "metadata": {},
   "source": [
    "## HHL solution\n",
    "\n",
    "The `HHL` method has a very similar interface to that of `NumPyLinearSolver`, but applied naively, it will return the circuit instead of the solution:"
   ]
  },
  {
   "cell_type": "markdown",
   "metadata": {},
   "source": [
    "### Naive approach"
   ]
  },
  {
   "cell_type": "code",
   "execution_count": 87,
   "metadata": {},
   "outputs": [
    {
     "name": "stdout",
     "output_type": "stream",
     "text": [
      "        ┌──────────────┐┌──────┐        ┌─────────┐\n",
      "q873_0: ┤ circuit-3549 ├┤2     ├────────┤2        ├\n",
      "        └──────────────┘│      │┌──────┐│         │\n",
      "q874_0: ────────────────┤0 QPE ├┤1     ├┤0 QPE_dg ├\n",
      "                        │      ││      ││         │\n",
      "q874_1: ────────────────┤1     ├┤0 1/x ├┤1        ├\n",
      "                        └──────┘│      │└─────────┘\n",
      "q875_0: ────────────────────────┤2     ├───────────\n",
      "                                └──────┘           \n"
     ]
    }
   ],
   "source": [
    "naive_hhl_solution = HHL().solve(matrix, vector)\n",
    "print(naive_hhl_solution.state)"
   ]
  },
  {
   "cell_type": "markdown",
   "metadata": {},
   "source": [
    "In order to peek into the solutions, we can proceed as follows:"
   ]
  },
  {
   "cell_type": "code",
   "execution_count": 88,
   "metadata": {},
   "outputs": [],
   "source": [
    "''' Auxiliary function to extract the full solution as an array\n",
    "\n",
    "Based on https://qiskit.org/textbook/ch-applications/hhl_tutorial.html\n",
    "'''\n",
    "def get_solution_as_array(qc, isreal=True):\n",
    "    # Extract state as Statevector\n",
    "    statevec = Statevector(qc.state).data\n",
    "    \n",
    "    # Extract the relevant information TODO: why is it so obscure?\n",
    "    solvec = np.array([statevec[8], statevec[9]])\n",
    "\n",
    "    # If we expect real values ...\n",
    "    if isreal: # ... get rid of the imaginary parts\n",
    "        solvec = np.real(solvec)\n",
    "\n",
    "    # Fix possible rescalings made by the circuit\n",
    "    solvecrenorm = qc.euclidean_norm * solvec / np.linalg.norm(solvec)\n",
    "\n",
    "    return solvecrenorm\n"
   ]
  },
  {
   "cell_type": "code",
   "execution_count": 89,
   "metadata": {},
   "outputs": [
    {
     "name": "stdout",
     "output_type": "stream",
     "text": [
      "[1.125 0.375]\n"
     ]
    }
   ],
   "source": [
    "print(get_solution_as_array(naive_hhl_solution))"
   ]
  },
  {
   "cell_type": "markdown",
   "metadata": {},
   "source": [
    "### Using `TridiagonalToeplitz`\n",
    "\n",
    "It is advisable to encode the problem using a `TridiagonalToeplitz` matrix instead.\n",
    "The equivalent matrix for our problem will be:\n",
    "\n",
    "$$\n",
    "A =\n",
    "\\begin{bmatrix}\n",
    "a & b & 0 & 0 \\\\\n",
    "b & a & b & 0 \\\\\n",
    "0 & b & a & b \\\\\n",
    "0 & 0 & b & a\n",
    "\\end{bmatrix}\n",
    "$$\n",
    "\n",
    "Keep in mind that for problems larger than $2 \\times 2$ the results of using `TridiagonalToeplitz` would be approximate."
   ]
  },
  {
   "cell_type": "code",
   "execution_count": 90,
   "metadata": {},
   "outputs": [
    {
     "name": "stdout",
     "output_type": "stream",
     "text": [
      "[1.125 0.375]\n"
     ]
    }
   ],
   "source": [
    "tridi_matrix = TridiagonalToeplitz(num_state_qubits=1, main_diag=a, off_diag=b)\n",
    "tridi_solution = HHL().solve(tridi_matrix, vector)\n",
    "print(get_solution_as_array(tridi_solution))"
   ]
  }
 ],
 "metadata": {
  "kernelspec": {
   "display_name": "Python 3.9.7 ('qiskit')",
   "language": "python",
   "name": "python3"
  },
  "language_info": {
   "codemirror_mode": {
    "name": "ipython",
    "version": 3
   },
   "file_extension": ".py",
   "mimetype": "text/x-python",
   "name": "python",
   "nbconvert_exporter": "python",
   "pygments_lexer": "ipython3",
   "version": "3.9.7"
  },
  "orig_nbformat": 4,
  "vscode": {
   "interpreter": {
    "hash": "0495df70a6e72786bce3891dec7c84e0144dfe5e7331ea279abd6abe3a6b85f6"
   }
  }
 },
 "nbformat": 4,
 "nbformat_minor": 2
}
