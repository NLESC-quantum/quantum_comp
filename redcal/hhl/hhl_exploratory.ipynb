{
 "cells": [
  {
   "cell_type": "markdown",
   "metadata": {},
   "source": [
    "# Exploratory analysis of the HHL linear solver"
   ]
  },
  {
   "cell_type": "markdown",
   "metadata": {},
   "source": [
    "## Implementation in `qiskit`\n",
    "\n",
    "`qiskit` has an implementation of the hhl algorithm.\n",
    "It can be imported using:"
   ]
  },
  {
   "cell_type": "code",
   "execution_count": 1,
   "metadata": {},
   "outputs": [],
   "source": [
    "from qiskit.algorithms.linear_solvers.hhl import HHL"
   ]
  },
  {
   "cell_type": "markdown",
   "metadata": {},
   "source": [
    "## Example\n",
    "\n",
    "We'll begin by importing a couple of dependencies."
   ]
  },
  {
   "cell_type": "code",
   "execution_count": 2,
   "metadata": {},
   "outputs": [],
   "source": [
    "import numpy as np\n",
    "from qiskit.algorithms.linear_solvers.numpy_linear_solver import NumPyLinearSolver\n",
    "from qiskit.algorithms.linear_solvers.matrices.tridiagonal_toeplitz import TridiagonalToeplitz\n",
    "from qiskit.quantum_info import Statevector"
   ]
  },
  {
   "cell_type": "markdown",
   "metadata": {},
   "source": [
    "## Problem posing\n",
    "\n",
    "We'll solve a simple linear system of the form:\n",
    "\n",
    "$$\n",
    "A \\vec x = \\vec b\n",
    "$$\n",
    "\n",
    "where:\n",
    "\n",
    "$$\n",
    "A =\n",
    "\\begin{bmatrix}\n",
    "a & b \\\\\n",
    "b & a\n",
    "\\end{bmatrix}\n",
    ":\n",
    "a = 1,\n",
    "b = -\\frac{1}{3}\n",
    "$$\n",
    "\n",
    "and\n",
    "\n",
    "$$\n",
    "\\vec b = \n",
    "\\begin{bmatrix}\n",
    "1 \\\\\n",
    "0\n",
    "\\end{bmatrix}\n",
    "$$\n",
    "\n",
    "This example is based on the [`qiskit` tutorials](https://qiskit.org/textbook/ch-applications/hhl_tutorial.html), which in turn is based on [this publication](https://arxiv.org/abs/2108.09004)."
   ]
  },
  {
   "cell_type": "code",
   "execution_count": 3,
   "metadata": {},
   "outputs": [],
   "source": [
    "a = 1\n",
    "b = -1/3\n",
    "matrix = np.array([[a, b], [b, a]])\n",
    "vector = np.array([1, 0])"
   ]
  },
  {
   "cell_type": "markdown",
   "metadata": {},
   "source": [
    "### Classical solution\n",
    "\n",
    "Keep in mind that during the encoding the vector will be normalized.\n",
    "This means that the equivalent classical problem would be that of:\n",
    "\n",
    "$$\n",
    "A\\vec x = \\frac{\\vec b}{\\| \\vec b\\|} \\equiv \\hat b\n",
    "$$"
   ]
  },
  {
   "cell_type": "code",
   "execution_count": 4,
   "metadata": {},
   "outputs": [
    {
     "name": "stdout",
     "output_type": "stream",
     "text": [
      "{   'circuit_results': None,\n",
      "    'euclidean_norm': 1.1858541225631423,\n",
      "    'observable': None,\n",
      "    'state': array([1.125, 0.375])}\n"
     ]
    }
   ],
   "source": [
    "nvector = vector / np.linalg.norm(vector)\n",
    "classical_solution = NumPyLinearSolver().solve(matrix, nvector)\n",
    "print(classical_solution)"
   ]
  },
  {
   "cell_type": "markdown",
   "metadata": {},
   "source": [
    "The solution is given by:"
   ]
  },
  {
   "cell_type": "code",
   "execution_count": 5,
   "metadata": {},
   "outputs": [
    {
     "name": "stdout",
     "output_type": "stream",
     "text": [
      "[1.125 0.375]\n"
     ]
    }
   ],
   "source": [
    "exact_solution = classical_solution.state\n",
    "print(exact_solution)"
   ]
  },
  {
   "cell_type": "markdown",
   "metadata": {},
   "source": [
    "We can check that the classical solution $\\vec s$ is correct by evaluating ensuring that:\n",
    "\n",
    "$$\n",
    "A \\vec s - \\hat b = \\vec 0\n",
    "$$"
   ]
  },
  {
   "cell_type": "code",
   "execution_count": 6,
   "metadata": {},
   "outputs": [],
   "source": [
    "assert np.max(np.matmul(matrix, classical_solution.state) - nvector) == 0.0"
   ]
  },
  {
   "cell_type": "markdown",
   "metadata": {},
   "source": [
    "## HHL solution\n",
    "\n",
    "The `HHL` method has a very similar interface to that of `NumPyLinearSolver`, but applied naively, it will return the circuit instead of the solution:"
   ]
  },
  {
   "cell_type": "markdown",
   "metadata": {},
   "source": [
    "### Naive approach"
   ]
  },
  {
   "cell_type": "code",
   "execution_count": 7,
   "metadata": {},
   "outputs": [],
   "source": [
    "naive_hhl_solution = HHL().solve(matrix, vector)"
   ]
  },
  {
   "cell_type": "markdown",
   "metadata": {},
   "source": [
    "Printing the circuit may be a good idea:"
   ]
  },
  {
   "cell_type": "code",
   "execution_count": 8,
   "metadata": {},
   "outputs": [
    {
     "data": {
      "image/png": "[encoded data removed]",
      "text/plain": [
       "<Figure size 460.778x264.88 with 1 Axes>"
      ]
     },
     "execution_count": 8,
     "metadata": {},
     "output_type": "execute_result"
    }
   ],
   "source": [
    "naive_hhl_solution.state.draw()"
   ]
  },
  {
   "cell_type": "code",
   "execution_count": 9,
   "metadata": {},
   "outputs": [
    {
     "data": {
      "text/plain": [
       "array([ 4.33012702e-01-1.54922403e-16j, -4.33012702e-01+1.63716296e-16j,\n",
       "        3.92869907e-17+2.47533443e-16j,  1.14620566e-17+1.10606299e-17j,\n",
       "       -4.25332761e-17+1.39876065e-16j, -4.17197148e-17+3.96273765e-16j,\n",
       "        2.14901449e-16-1.27796014e-17j, -2.48405393e-16-6.18208192e-18j,\n",
       "        7.50000000e-01-9.71922214e-17j,  2.50000000e-01+1.54113871e-16j,\n",
       "        1.45301041e-18-1.52703373e-16j, -1.61032576e-17+1.53359932e-17j,\n",
       "        3.72797834e-17-1.29741245e-16j, -5.64974152e-17-4.00282492e-16j,\n",
       "       -1.61771350e-16+3.67922086e-17j,  2.42657025e-16-2.55822216e-17j])"
      ]
     },
     "execution_count": 9,
     "metadata": {},
     "output_type": "execute_result"
    }
   ],
   "source": [
    "Statevector(naive_hhl_solution.state).data"
   ]
  },
  {
   "cell_type": "markdown",
   "metadata": {},
   "source": [
    "In order to peek into the solutions, we can proceed as follows:"
   ]
  },
  {
   "cell_type": "code",
   "execution_count": 10,
   "metadata": {},
   "outputs": [],
   "source": [
    "''' Auxiliary function to extract the full solution as an array\n",
    "\n",
    "Based on https://qiskit.org/textbook/ch-applications/hhl_tutorial.html\n",
    "'''\n",
    "def get_solution_as_array(qc, isreal=True):\n",
    "    # Extract state as Statevector\n",
    "    statevec = Statevector(qc.state).data\n",
    "    \n",
    "    # Extract the relevant information TODO: why is it so obscure?\n",
    "    solvec = np.array([statevec[8], statevec[9]])\n",
    "\n",
    "    # If we expect real values ...\n",
    "    if isreal: # ... get rid of the imaginary parts\n",
    "        solvec = np.real(solvec)\n",
    "\n",
    "    # Fix possible rescalings made by the circuit\n",
    "    solvecrenorm = qc.euclidean_norm * solvec / np.linalg.norm(solvec)\n",
    "\n",
    "    return solvecrenorm\n"
   ]
  },
  {
   "cell_type": "code",
   "execution_count": 11,
   "metadata": {},
   "outputs": [
    {
     "name": "stdout",
     "output_type": "stream",
     "text": [
      "[1.125 0.375]\n"
     ]
    }
   ],
   "source": [
    "print(get_solution_as_array(naive_hhl_solution))"
   ]
  },
  {
   "cell_type": "markdown",
   "metadata": {},
   "source": [
    "### Using `TridiagonalToeplitz`\n",
    "\n",
    "It is advisable to encode the problem using a `TridiagonalToeplitz` matrix instead.\n",
    "The equivalent matrix for our problem will be:\n",
    "\n",
    "$$\n",
    "A =\n",
    "\\begin{bmatrix}\n",
    "a & b & 0 & 0 \\\\\n",
    "b & a & b & 0 \\\\\n",
    "0 & b & a & b \\\\\n",
    "0 & 0 & b & a\n",
    "\\end{bmatrix}\n",
    "$$\n",
    "\n",
    "Keep in mind that for problems larger than $2 \\times 2$ the results of using `TridiagonalToeplitz` would be approximate."
   ]
  },
  {
   "cell_type": "code",
   "execution_count": 12,
   "metadata": {},
   "outputs": [
    {
     "name": "stdout",
     "output_type": "stream",
     "text": [
      "[1.125 0.375]\n"
     ]
    }
   ],
   "source": [
    "tridi_matrix = TridiagonalToeplitz(num_state_qubits=1, main_diag=a, off_diag=b)\n",
    "tridi_solution = HHL().solve(tridi_matrix, vector)\n",
    "print(get_solution_as_array(tridi_solution))"
   ]
  },
  {
   "cell_type": "markdown",
   "metadata": {},
   "source": [
    "## Observables\n",
    "\n",
    "In real quantum computers, we cannot know the full state vector; we have to compute observables instead.\n",
    "\n",
    "So far, the only implemented operators for `linear_solvers` are `AbsoluteAverage` and `MatrixFunctional`.\n",
    "As usual, we'll need to import them to begin with."
   ]
  },
  {
   "cell_type": "code",
   "execution_count": 13,
   "metadata": {},
   "outputs": [],
   "source": [
    "from qiskit.algorithms.linear_solvers.observables import AbsoluteAverage, MatrixFunctional"
   ]
  },
  {
   "cell_type": "markdown",
   "metadata": {},
   "source": [
    "The `AbsoluteAverage` operator returns:\n",
    "\n",
    "$$\n",
    "{\\tt AbsoluteAverage}(\\vec x) = \\| \\frac{1}{N} \\sum_{i=1}^N x_i \\|\n",
    "$$"
   ]
  },
  {
   "cell_type": "code",
   "execution_count": 14,
   "metadata": {},
   "outputs": [],
   "source": [
    "observable = AbsoluteAverage()\n",
    "average_hhl_solution = HHL().solve(matrix, vector, observable)"
   ]
  },
  {
   "cell_type": "markdown",
   "metadata": {},
   "source": [
    "We can compare the result with the exact value:"
   ]
  },
  {
   "cell_type": "code",
   "execution_count": 15,
   "metadata": {},
   "outputs": [
    {
     "name": "stdout",
     "output_type": "stream",
     "text": [
      "Average with HHL : 0.7499999999999993\n",
      "Average (exact)  : 0.75\n"
     ]
    }
   ],
   "source": [
    "print(\"Average with HHL :\", average_hhl_solution.observable)\n",
    "print(\"Average (exact)  :\", np.mean(exact_solution))"
   ]
  },
  {
   "cell_type": "markdown",
   "metadata": {},
   "source": [
    "The `MatrixFunctional` operator contains a tridiagonal matrix $B$, and returns:\n",
    "\n",
    "$$\n",
    "{\\tt MatrixFunctional} (\\vec x; a, b) = \\bra{x} B(a, b) \\ket{x} = \\vec x^T B(a, b) \\vec x \n",
    "$$\n",
    "\n",
    "where:\n",
    "\n",
    "$$\n",
    "B(a,b) = \n",
    "\\begin{bmatrix}\n",
    "a & b & 0 & 0 & \\dots \\\\\n",
    "b & a & b & 0 & \\dots \\\\\n",
    "0 & b & a & b & \\dots \\\\\n",
    "0 & 0 & b & a & \\dots \\\\\n",
    "\\vdots & \\vdots & \\vdots & \\vdots & \\ddots\n",
    "\n",
    "\\end{bmatrix}\n",
    "$$\n",
    "\n",
    "Note that, because $B$ is tridiagonal, this is not a general operator."
   ]
  },
  {
   "cell_type": "code",
   "execution_count": 16,
   "metadata": {},
   "outputs": [],
   "source": [
    "observable = MatrixFunctional(a, b)\n",
    "mf_hhl_solution = HHL().solve(matrix, vector, observable)"
   ]
  },
  {
   "cell_type": "code",
   "execution_count": 17,
   "metadata": {},
   "outputs": [
    {
     "name": "stdout",
     "output_type": "stream",
     "text": [
      "Matrix functional with HHL : 1.124999999999999\n",
      "Matrix functional (exact)  : 1.125\n"
     ]
    }
   ],
   "source": [
    "print(\"Matrix functional with HHL :\", mf_hhl_solution.observable)\n",
    "print(\"Matrix functional (exact)  :\", np.matmul(np.transpose(exact_solution), np.matmul(matrix, exact_solution)))"
   ]
  },
  {
   "cell_type": "markdown",
   "metadata": {},
   "source": [
    "## Generic observables\n",
    "\n",
    "We'll eventually need a full solution of the original problem.\n",
    "The implemented observables, which calculate things such as the arithmetic average, are not completely satisfying in this sense.\n",
    "\n",
    "In this section we'll try to deviate from the recommended use of `HHL().solve()` with a generic observable as an input.\n",
    "\n",
    "In order to do this, we'll need to import some [operators](https://qiskit.org/documentation/tutorials/operators/01_operator_flow.html):"
   ]
  },
  {
   "cell_type": "code",
   "execution_count": 18,
   "metadata": {},
   "outputs": [],
   "source": [
    "from qiskit.quantum_info.operators import Operator\n",
    "from qiskit.opflow import (\n",
    "    Z,\n",
    "    I,\n",
    "    StateFn,\n",
    "    OperatorBase,\n",
    "    TensoredOp,\n",
    "    ExpectationBase,\n",
    "    CircuitSampler,\n",
    "    ListOp,\n",
    "    ExpectationFactory,\n",
    ")"
   ]
  },
  {
   "cell_type": "markdown",
   "metadata": {},
   "source": [
    "We'll construct the $0$ and $1$ operators from the identity operator and the $\\sigma_z$ Pauli matrix.\n",
    "\n",
    "Their most important property is that, for:\n",
    "\n",
    "$$\n",
    "\\ket{\\psi} = x_0 \\ket{0} + x_1 \\ket{1}\n",
    "$$\n",
    "\n",
    "they verify:\n",
    "\n",
    "$$\n",
    "\\bra{\\psi} 0 \\ket{\\psi} = \\| x_0 \\|^2 \\\\\n",
    "\\bra{\\psi} 1 \\ket{\\psi} = \\| x_1 \\|^2\n",
    "$$\n",
    "\n",
    "Or, equivalently:\n",
    "\n",
    "$$\n",
    "0 = \\ket{0} \\bra{0} \\\\\n",
    "1 = \\ket{1} \\bra{1}\n",
    "$$"
   ]
  },
  {
   "cell_type": "markdown",
   "metadata": {},
   "source": []
  },
  {
   "cell_type": "code",
   "execution_count": 19,
   "metadata": {},
   "outputs": [],
   "source": [
    "zero_op = (I + Z) / 2 # <x|0|x> returns the square amplitude associated to |0>\n",
    "one_op = (I - Z) / 2 # <x|1|x> returns the square amplitude associated to |1>"
   ]
  },
  {
   "cell_type": "markdown",
   "metadata": {},
   "source": [
    "Operators can be composed.\n",
    "Tensor product is particularly useful for this.\n",
    "For instance:\n",
    "\n",
    "$$\n",
    "1 \\otimes 0 = 10\n",
    "$$\n",
    "\n",
    "Where the operator $10$ verifies:\n",
    "\n",
    "$$\n",
    "\\bra{\\psi} 10 \\ket{\\psi} = \\| x_{10} \\|^2\n",
    "$$\n",
    "\n",
    "for a 2-qubit vector."
   ]
  },
  {
   "cell_type": "markdown",
   "metadata": {},
   "source": [
    "In our example, we want to extract the amplitudes corresponding to $\\ket{1000}$ and $\\ket{1001}$.\n",
    "We can build these by:"
   ]
  },
  {
   "cell_type": "code",
   "execution_count": 20,
   "metadata": {},
   "outputs": [],
   "source": [
    "ampsq0001 = (TensoredOp(3*[zero_op]) ^ one_op) # Square amplitude associated to |1000>\n",
    "ampsq1001 = (one_op ^ TensoredOp(2*[zero_op]) ^ one_op) # Square amplitude associated to |1001>"
   ]
  },
  {
   "cell_type": "markdown",
   "metadata": {},
   "source": [
    "This approach fails due to the fact that $0$ and $1$ are fundamentally non-unitary.\n",
    "\n",
    "\n",
    "Why?\n",
    "Think of their matrix representation: they are zeros everywhere but in a single element.\n",
    "So they are not invertible."
   ]
  },
  {
   "cell_type": "code",
   "execution_count": 21,
   "metadata": {},
   "outputs": [],
   "source": [
    "# observable = ampsq0001\n",
    "# hhl_solution = HHL().solve(matrix, vector, observable, observable_circuit=observable)"
   ]
  },
  {
   "cell_type": "markdown",
   "metadata": {},
   "source": [
    "## Brute force approach\n",
    "\n",
    "Another possibility is extracting the circuit and proceed from there using first principles."
   ]
  },
  {
   "cell_type": "code",
   "execution_count": 22,
   "metadata": {},
   "outputs": [
    {
     "data": {
      "image/png": "[encoded data removed]",
      "text/plain": [
       "<Figure size 460.778x264.88 with 1 Axes>"
      ]
     },
     "execution_count": 22,
     "metadata": {},
     "output_type": "execute_result"
    }
   ],
   "source": [
    "qc = naive_hhl_solution.state\n",
    "qc.draw()"
   ]
  },
  {
   "cell_type": "markdown",
   "metadata": {},
   "source": [
    "We'll use `transpile` to rewrite our circuit exclusively in terms of basic gates:"
   ]
  },
  {
   "cell_type": "code",
   "execution_count": 23,
   "metadata": {},
   "outputs": [
    {
     "data": {
      "image/png": "[encoded data removed]",
      "text/plain": [
       "<Figure size 1656.49x686.28 with 1 Axes>"
      ]
     },
     "execution_count": 23,
     "metadata": {},
     "output_type": "execute_result"
    }
   ],
   "source": [
    "from qiskit import Aer, transpile\n",
    "\n",
    "sim = Aer.get_backend('aer_simulator')\n",
    "\n",
    "circ = transpile(qc, sim)\n",
    "circ.measure_active()\n",
    "circ.draw()"
   ]
  },
  {
   "cell_type": "markdown",
   "metadata": {},
   "source": [
    "Now we can simulate the circuit."
   ]
  },
  {
   "cell_type": "code",
   "execution_count": 24,
   "metadata": {},
   "outputs": [
    {
     "data": {
      "image/png": "[encoded data removed]",
      "text/plain": [
       "<Figure size 504x360 with 1 Axes>"
      ]
     },
     "execution_count": 24,
     "metadata": {},
     "output_type": "execute_result"
    }
   ],
   "source": [
    "from qiskit.visualization import plot_histogram\n",
    "import matplotlib.pyplot as plt\n",
    "\n",
    "shots = 100000\n",
    "result = sim.run(circ, shots=shots).result()\n",
    "counts = result.get_counts()\n",
    "\n",
    "plot_histogram(counts)"
   ]
  },
  {
   "cell_type": "markdown",
   "metadata": {},
   "source": [
    "The solution is encoded in the coefficients of $\\ket{1000}$ and $\\ket{1001}$.\n",
    "We can extract the absolute value of their coefficients by taking the square root of their measured probabilities."
   ]
  },
  {
   "cell_type": "code",
   "execution_count": 25,
   "metadata": {},
   "outputs": [
    {
     "name": "stdout",
     "output_type": "stream",
     "text": [
      "Probabilities :  [0.56153, 0.06224]\n",
      "Coefficients  :  [0.74935305 0.24947946]\n"
     ]
    }
   ],
   "source": [
    "\"\"\" Auxiliary function. Reads the probability of a given state\"\"\"\n",
    "def get_prob(key):\n",
    "    return counts.get(key) / shots\n",
    "\n",
    "probs = [get_prob(\"1000\"), # These are our only probabilities of interest\n",
    "         get_prob(\"1001\")]\n",
    "\n",
    "unsignedcoefs = np.sqrt(probs)\n",
    "\n",
    "print(\"Probabilities : \", probs)\n",
    "print(\"Coefficients  : \", unsignedcoefs)"
   ]
  },
  {
   "cell_type": "markdown",
   "metadata": {},
   "source": [
    "The circuit introduces a renormalization, but the ratio between both coordinates should remain constant:"
   ]
  },
  {
   "cell_type": "code",
   "execution_count": 26,
   "metadata": {},
   "outputs": [
    {
     "name": "stdout",
     "output_type": "stream",
     "text": [
      "3.0036663543282223\n",
      "3.0000000000000004\n"
     ]
    }
   ],
   "source": [
    "print(unsignedcoefs[0] / unsignedcoefs[1])\n",
    "print(exact_solution[0] / exact_solution[1])"
   ]
  }
 ],
 "metadata": {
  "kernelspec": {
   "display_name": "Python 3.9.7 ('qiskit')",
   "language": "python",
   "name": "python3"
  },
  "language_info": {
   "codemirror_mode": {
    "name": "ipython",
    "version": 3
   },
   "file_extension": ".py",
   "mimetype": "text/x-python",
   "name": "python",
   "nbconvert_exporter": "python",
   "pygments_lexer": "ipython3",
   "version": "3.9.7"
  },
  "orig_nbformat": 4,
  "vscode": {
   "interpreter": {
    "hash": "0495df70a6e72786bce3891dec7c84e0144dfe5e7331ea279abd6abe3a6b85f6"
   }
  }
 },
 "nbformat": 4,
 "nbformat_minor": 2
}
